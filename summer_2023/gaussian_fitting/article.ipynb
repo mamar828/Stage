{
 "cells": [
  {
   "cell_type": "code",
   "execution_count": 1,
   "metadata": {},
   "outputs": [],
   "source": [
    "import numpy as np\n",
    "from numpy import pi\n",
    "import pyregion\n",
    "import graphinglib as gl\n",
    "# import latexify   # only for python <= 3.11\n",
    "\n",
    "from src.hdu.maps.map import Map"
   ]
  },
  {
   "cell_type": "code",
   "execution_count": 2,
   "metadata": {},
   "outputs": [],
   "source": [
    "# @latexify.function(use_math_symbols=True)\n",
    "def pdf(x, sigma, mu):\n",
    "    return 1 / (np.sqrt(2*pi) * sigma) * np.exp((-(x - mu)**2) / (2*sigma**2))\n",
    "\n",
    "# pdf"
   ]
  },
  {
   "cell_type": "markdown",
   "metadata": {},
   "source": [
    "$$ \\displaystyle \\mathrm{pdf}(x, \\sigma, \\mu) = \\frac{1}{\\sqrt{ 2 \\pi } \\cdot \\sigma} \\cdot \\exp \\mathopen{}\\left( \\frac{-\\mathopen{}\\left( x - \\mu \\mathclose{}\\right)^{2}}{2 \\sigma^{2}} \\mathclose{}\\right) $$"
   ]
  },
  {
   "cell_type": "markdown",
   "metadata": {},
   "source": [
    "# Computations of PDF histograms"
   ]
  },
  {
   "cell_type": "code",
   "execution_count": 3,
   "metadata": {},
   "outputs": [],
   "source": [
    "def make_histograms(map_: Map) -> list[gl.Histogram]:\n",
    "    regions = [\n",
    "        None,\n",
    "        pyregion.open(\"summer_2023/gaussian_fitting/regions/region_1.reg\"),\n",
    "        pyregion.open(\"summer_2023/gaussian_fitting/regions/region_2.reg\"),\n",
    "        pyregion.open(\"summer_2023/gaussian_fitting/regions/region_3.reg\")\n",
    "    ]\n",
    "\n",
    "    histograms = []\n",
    "    for region in regions:\n",
    "        masked = map_.get_masked_region(region)\n",
    "        stats = masked.data.get_statistics()\n",
    "        probability_density = pdf(\n",
    "            x=np.log(masked.data / stats[\"median\"]),\n",
    "            sigma=stats[\"stddev\"],\n",
    "            mu=stats[\"median\"]\n",
    "        )\n",
    "\n",
    "        # probability_density = 1 / (np.sqrt(2*np.pi) * stats[\"stddev\"]) \\\n",
    "        #                     * np.exp((-(masked.data - stats[\"median\"])**2) / (2*stats[\"stddev\"]**2))\n",
    "        # probability_density = ((masked.data - stats[\"median\"]) / stats[\"stddev\"])\n",
    "        bin_width = (masked.uncertainties.get_statistics()[\"median\"] / stats[\"stddev\"])\n",
    "        histograms.append(gl.Histogram(\n",
    "            data=probability_density[~np.isnan(probability_density)],\n",
    "            face_color=\"black\",\n",
    "            edge_color=\"none\",\n",
    "            alpha=1,\n",
    "            normalize=False,\n",
    "            number_of_bins=20,\n",
    "            show_params=False\n",
    "            # number_of_bins=int(((np.nanmax(probability_density) + bin_width - np.nanmin(probability_density)) / bin_width)[0])\n",
    "            # number_of_bins=(map_.uncertainties.get_statistics()[\"median\"] / stats[\"stddev\"])\n",
    "        ))\n",
    "\n",
    "    return histograms"
   ]
  },
  {
   "cell_type": "code",
   "execution_count": 13,
   "metadata": {},
   "outputs": [],
   "source": [
    "names = [\n",
    "    \"main region\",\n",
    "    \"diffuse region\",\n",
    "    \"central region\",\n",
    "    \"filament region\"\n",
    "]\n",
    "\n",
    "turbulence_map = Map.load(\"summer_2023/gaussian_fitting/maps/computed_data_selective/turbulence.fits\")\n",
    "density_map = Map(\n",
    "    data=Map.load(\"summer_2023/gaussian_fitting/maps/external_maps/\"\n",
    "                 +\"dens_it_sii_sans_fcorr_nii_plus_plusmin_pouss_seuil_errt_1000.fits\").data,\n",
    "    uncertainties=Map.load(\"summer_2023/gaussian_fitting/maps/external_maps/\"\n",
    "                          +\"dens_it_sii_sans_fcorr_nii_plus_pluserr_pouss_seuil_errt_1000.fits\").data,\n",
    "    header=Map.load(\"summer_2023/gaussian_fitting/maps/external_maps/\"\n",
    "                   +\"dens_it_sii_sans_fcorr_nii_plus_plusmin_pouss_seuil_errt_1000.fits\").header\n",
    ")\n",
    "temperature_map = Map(\n",
    "    data=Map.load(\"summer_2023/gaussian_fitting/maps/external_maps/temp_it_nii_8300.fits\").data,\n",
    "    uncertainties=Map.load(\"summer_2023/gaussian_fitting/maps/external_maps/temp_it_nii_err_8300.fits\").data,\n",
    "    header=Map.load(\"summer_2023/gaussian_fitting/maps/external_maps/temp_it_nii_8300.fits\").header\n",
    ")\n",
    "\n",
    "alignment_map = (turbulence_map * 0).get_reprojection_on(density_map)\n",
    "\n",
    "# Remove pixels that are not present in the alignment map\n",
    "density_map += alignment_map\n",
    "temperature_map += alignment_map\n",
    "\n",
    "figs = []\n",
    "for name, hist in zip(names, make_histograms(density_map)):\n",
    "    fig = gl.Figure(\n",
    "        x_label=\"Density [-]\",\n",
    "        y_label=f\"PDF in {name}\"\n",
    "    )\n",
    "    fig.add_elements(hist)\n",
    "    figs.append(fig)\n",
    "\n",
    "multifig = gl.MultiFigure.from_grid(figs, (2, 2), size=(10,10))\n",
    "# multifig.save(\"summer_2023/gaussian_fitting/figures/density/new_pdf.pdf\")\n",
    "\n",
    "figs = []\n",
    "for name, hist in zip(names, make_histograms(turbulence_map)):\n",
    "    fig = gl.Figure(\n",
    "        x_label=\"Turbulence [-]\",\n",
    "        y_label=f\"PDF in {name}\"\n",
    "    )\n",
    "    fig.add_elements(hist)\n",
    "    figs.append(fig)\n",
    "\n",
    "multifig = gl.MultiFigure.from_grid(figs, (2, 2), size=(10,10))\n",
    "# multifig.save(\"summer_2023/gaussian_fitting/figures/turbulence/new_pdf.pdf\")\n",
    "\n",
    "figs = []\n",
    "for name, hist in zip(names, make_histograms(temperature_map)):\n",
    "    fig = gl.Figure(\n",
    "        x_label=\"Temperature [-]\",\n",
    "        y_label=f\"PDF in {name}\"\n",
    "    )\n",
    "    fig.add_elements(hist)\n",
    "    figs.append(fig)\n",
    "\n",
    "multifig = gl.MultiFigure.from_grid(figs, (2, 2), size=(10,10))\n",
    "multifig.save(\"summer_2023/gaussian_fitting/figures/temperature/new_pdf.pdf\")"
   ]
  },
  {
   "cell_type": "code",
   "execution_count": null,
   "metadata": {},
   "outputs": [],
   "source": []
  }
 ],
 "metadata": {
  "kernelspec": {
   "display_name": "Python 3",
   "language": "python",
   "name": "python3"
  },
  "language_info": {
   "codemirror_mode": {
    "name": "ipython",
    "version": 3
   },
   "file_extension": ".py",
   "mimetype": "text/x-python",
   "name": "python",
   "nbconvert_exporter": "python",
   "pygments_lexer": "ipython3",
   "version": "3.12.3"
  }
 },
 "nbformat": 4,
 "nbformat_minor": 2
}
