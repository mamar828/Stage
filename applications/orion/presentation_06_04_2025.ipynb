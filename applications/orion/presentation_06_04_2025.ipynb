{
 "cells": [
  {
   "cell_type": "markdown",
   "id": "ac65c0ab",
   "metadata": {},
   "source": [
    "Code for presentation on june 6th 2025"
   ]
  },
  {
   "cell_type": "code",
   "execution_count": null,
   "id": "572a82a7",
   "metadata": {},
   "outputs": [],
   "source": [
    "import numpy as np\n",
    "import src.graphinglib as gl\n",
    "\n",
    "from src.hdu.cubes.cube import Cube\n",
    "from src.coordinates.ds9_coords import DS9Coords"
   ]
  },
  {
   "cell_type": "code",
   "execution_count": null,
   "id": "d9afeffc",
   "metadata": {},
   "outputs": [],
   "source": [
    "nii = Cube.load(\"data/orion/data_cubes/nii_1.fits\")\n",
    "nii_fig = gl.SmartFigure(\n",
    "    x_label=\"Canal [-]\",\n",
    "    y_label=\"Intensité [u. arb.]\",\n",
    "    title=\"Spectre [NII]\",\n",
    "    elements=[\n",
    "        nii[:,*DS9Coords(160, 261)].plot\n",
    "    ],\n",
    "    show_legend=False,\n",
    ")#.save(\"nii_spectrum_orion.png\", dpi=600)"
   ]
  },
  {
   "cell_type": "code",
   "execution_count": null,
   "id": "dac8e4ac",
   "metadata": {},
   "outputs": [],
   "source": [
    "nii = Cube.load(\"data/orion/data_cubes/ha_1.fits\")\n",
    "ha_fig = gl.SmartFigure(\n",
    "    x_label=\"Canal [-]\",\n",
    "    y_label=\"Intensité [u. arb.]\",\n",
    "    title=r\"Spectre H$\\alpha$\",\n",
    "    elements=[\n",
    "        nii[:,*DS9Coords(295, 426)].plot\n",
    "    ],\n",
    "    show_legend=False,\n",
    ")#.save(\"ha_spectrum_orion.png\", dpi=600)"
   ]
  },
  {
   "cell_type": "code",
   "execution_count": null,
   "id": "e008b198",
   "metadata": {},
   "outputs": [],
   "source": [
    "both_fig = gl.SmartFigure(\n",
    "    1,\n",
    "    2,\n",
    "    x_label=\"Canal [-]\",\n",
    "    y_label=\"Intensité [u. arb.]\",\n",
    "    elements=[\n",
    "        nii_fig.copy_with(x_label=None, y_label=None),\n",
    "        ha_fig.copy_with(x_label=None, y_label=None)\n",
    "    ],\n",
    "    figure_style=\"dim\",\n",
    "    size=(8, 4)\n",
    ")\n",
    "both_fig.show()\n",
    "both_fig.save(\"both_spectrum_orion.png\", dpi=600)"
   ]
  }
 ],
 "metadata": {
  "kernelspec": {
   "display_name": "no_gl",
   "language": "python",
   "name": "python3"
  },
  "language_info": {
   "codemirror_mode": {
    "name": "ipython",
    "version": 3
   },
   "file_extension": ".py",
   "mimetype": "text/x-python",
   "name": "python",
   "nbconvert_exporter": "python",
   "pygments_lexer": "ipython3",
   "version": "3.12.9"
  }
 },
 "nbformat": 4,
 "nbformat_minor": 5
}
