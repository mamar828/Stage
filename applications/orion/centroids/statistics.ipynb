{
 "cells": [
  {
   "cell_type": "code",
   "execution_count": null,
   "id": "6c54638f",
   "metadata": {},
   "outputs": [],
   "source": [
    "%load_ext autoreload\n",
    "%autoreload 2"
   ]
  },
  {
   "cell_type": "code",
   "execution_count": null,
   "id": "f9eb6b44",
   "metadata": {},
   "outputs": [],
   "source": [
    "import numpy as np\n",
    "import src.graphinglib as gl\n",
    "from collections import namedtuple\n",
    "import pyregion\n",
    "\n",
    "from src.hdu.tesseract import Tesseract\n",
    "from src.hdu.cubes.cube import Cube\n",
    "from src.hdu.maps.map import Map\n",
    "from src.hdu.maps.grouped_maps import GroupedMaps"
   ]
  },
  {
   "cell_type": "code",
   "execution_count": null,
   "id": "9a208e46",
   "metadata": {},
   "outputs": [],
   "source": [
    "Info = namedtuple(\"Info\", [\"name\", \"cube_filename\", \"gaussian_index\", \"relative_error_threshold\"])\n",
    "\n",
    "files = [\n",
    "    Info(\"nii_1\", \"nii_1_binned_3x3.fits\", 1, 0.0016),\n",
    "    Info(\"nii_2\", \"nii_2_binned_4x4.fits\", 1, 0.003),\n",
    "    Info(\"oiii_1\", \"oiii_1_binned_3x3.fits\", 0, 0.09),\n",
    "    Info(\"oiii_2\", \"oiii_2_binned_4x4.fits\", 0, 0.03),\n",
    "    Info(\"sii_1\", \"sii_1_binned_3x3.fits\", [0, 1], 0.009),\n",
    "    Info(\"sii_2\", \"sii_2_binned_4x4.fits\", [0, 1], 0.016),\n",
    "    Info(\"ha_1\", \"ha_1_binned_3x3.fits\", \"variable\", 0.015),\n",
    "    Info(\"ha_2\", \"ha_2_binned_4x4.fits\", 0, 0.005),\n",
    "]\n",
    "\n",
    "def reject_outliers(data):\n",
    "    # Consider 3 sigma values as outliers\n",
    "    return abs(data - np.nanmedian(data)) < 3 * np.nanstd(data)\n",
    "\n",
    "def make_fit_histogram(data: np.ndarray, bin_width: float) -> list[gl.Histogram, gl.Curve]:\n",
    "    data = data.flatten()\n",
    "    data = np.sort(data[~np.isnan(data)])\n",
    "\n",
    "    # Create the array of bins, considering that the upper bound is cropped lower to match the bin width\n",
    "    bins = np.arange(np.nanmin(data), np.nanmax(data) + bin_width*0.99, bin_width)\n",
    "    hist = np.histogram(data, bins=bins)[0]\n",
    "\n",
    "    current_plots = [\n",
    "        gl.Histogram(\n",
    "            data=data,\n",
    "            face_color=\"dimgray\",\n",
    "            edge_color=\"none\",\n",
    "            normalize=False,\n",
    "            alpha=1,\n",
    "            number_of_bins=bins,\n",
    "            show_params=False\n",
    "        ),\n",
    "    ]\n",
    "    scat = gl.Scatter(\n",
    "        (bins + bin_width/2)[:-1],\n",
    "        hist,\n",
    "    )\n",
    "\n",
    "    max_x = scat.x_data[np.argmax(hist)]\n",
    "    fit = gl.FitFromFunction(\n",
    "        function=lambda x, A, mu, sigma: A* np.exp(-(x - mu)**2 / (2*sigma**2)),\n",
    "        curve_to_be_fit=scat,\n",
    "        guesses=[\n",
    "            np.max(hist)*max_x,\n",
    "            max_x,\n",
    "            np.nanstd(data)\n",
    "        ],\n",
    "        color=\"red\",\n",
    "    )\n",
    "    fit.label = rf\"$m={fit.parameters[1]:.2f}$\" + \"\\n\" + rf\"$s={abs(fit.parameters[2]):.2f}$\"\n",
    "    current_plots.append(fit)\n",
    "\n",
    "    return current_plots"
   ]
  },
  {
   "cell_type": "markdown",
   "id": "51248235",
   "metadata": {},
   "source": [
    "# Unfiltered statistics"
   ]
  },
  {
   "cell_type": "markdown",
   "id": "7f002b26",
   "metadata": {},
   "source": [
    "#### Centroid maps creation"
   ]
  },
  {
   "cell_type": "code",
   "execution_count": null,
   "id": "0d17d33b",
   "metadata": {},
   "outputs": [],
   "source": [
    "for info in files:\n",
    "    cube = Cube.load(f\"data/orion/data_cubes/binned/{info.cube_filename}\")\n",
    "    tess = Tesseract.load(f\"data/orion/fits/{info.name}.fits\")\n",
    "    reg = pyregion.open(f\"data/orion/fp_confidence_regions/{info.name}.reg\")\n",
    "    if isinstance(info.gaussian_index, int):\n",
    "        centroids = tess.to_grouped_maps([\"amplitude\", \"mean\", \"fwhm_L\", \"fwhm_G\"]).mean[info.gaussian_index]\n",
    "        centroids = centroids.get_masked_region(reg)\n",
    "        centroids = centroids.mask((centroids.uncertainties / centroids.data) < info.relative_error_threshold)\n",
    "        centroids = centroids.mask(reject_outliers(centroids.data))\n",
    "        centroids = (centroids - 1) * cube.header[\"CHAN_KMS\"] * 1000 + cube.header[\"VR_CH1\"] * 1000\n",
    "        centroids /= 1000  # convert to km/s\n",
    "\n",
    "    else:  # sii/ha_1\n",
    "        centroids_maps = []\n",
    "        if info.name.startswith(\"sii\"):\n",
    "            mean_maps = tess.to_grouped_maps([\"amplitude\", \"mean\", \"fwhm_L\", \"fwhm_G\"]).mean\n",
    "        else:  # ha_1 case\n",
    "            filtered_tess = tess.filter(slice(18, 25))  # take only the desired components\n",
    "            mean_maps = filtered_tess.to_grouped_maps([\"amplitude\", \"mean\", \"fwhm_L\", \"fwhm_G\"]).mean[1:3]\n",
    "        for centroid in mean_maps:\n",
    "            centroid = centroid.get_masked_region(reg)\n",
    "            centroid = centroid.mask((centroid.uncertainties / centroid.data) < info.relative_error_threshold)\n",
    "            centroid = centroid.mask(reject_outliers(centroid.data))\n",
    "            centroid_speed = (centroid - 1) * cube.header[\"CHAN_KMS\"] * 1000 + cube.header[\"VR_CH1\"] * 1000\n",
    "            centroid_speed /= 1000  # convert to km/s\n",
    "            centroids_maps.append(centroid_speed)\n",
    "        centroids = GroupedMaps([(\"centroids\", centroids_maps)])\n",
    "\n",
    "    centroids.save(f\"data/orion/centroids/maps/{info.name}_centroids.fits\")"
   ]
  },
  {
   "cell_type": "markdown",
   "id": "d22fc732",
   "metadata": {},
   "source": [
    "#### Separate unfiltered histograms"
   ]
  },
  {
   "cell_type": "code",
   "execution_count": null,
   "id": "507ba1bd",
   "metadata": {},
   "outputs": [],
   "source": [
    "for info in files:\n",
    "    if info.name in [\"sii_1\", \"sii_2\", \"ha_1\"]:\n",
    "        centroids = GroupedMaps.load(f\"data/orion/centroids/maps/{info.name}_centroids.fits\").centroids\n",
    "        centroid_data = np.stack([centroid.data for centroid in centroids], axis=0)\n",
    "        bin_width = np.nanmedian(centroids[0].uncertainties)\n",
    "\n",
    "    else:\n",
    "        centroids = Map.load(f\"data/orion/centroids/maps/{info.name}_centroids.fits\")\n",
    "        centroid_data = centroids.data\n",
    "        bin_width = np.nanmedian(centroids.uncertainties)\n",
    "\n",
    "    plots = make_fit_histogram(centroid_data, bin_width)\n",
    "    fig = gl.SmartFigure(\n",
    "        elements=plots,\n",
    "        title=f\"Centroid {info.name}\",\n",
    "        x_label=\"Centroid velocity [km s$^{-1}$]\",\n",
    "    ).show()\n"
   ]
  },
  {
   "cell_type": "markdown",
   "id": "01995365",
   "metadata": {},
   "source": [
    "#### Merged unfiltered histograms"
   ]
  },
  {
   "cell_type": "code",
   "execution_count": null,
   "id": "83c6563a",
   "metadata": {},
   "outputs": [],
   "source": [
    "maps = {}\n",
    "\n",
    "for info in files:\n",
    "    if info.name in [\"sii_1\", \"sii_2\", \"ha_1\"]:\n",
    "        centroids = GroupedMaps.load(f\"data/orion/centroids/maps/{info.name}_centroids.fits\").centroids\n",
    "        centroid_data = np.stack([centroid.data for centroid in centroids], axis=0)\n",
    "        centroid_uncertainties = np.stack([centroid.uncertainties for centroid in centroids], axis=0)\n",
    "\n",
    "    else:\n",
    "        centroids = Map.load(f\"data/orion/centroids/maps/{info.name}_centroids.fits\")\n",
    "        centroid_data = centroids.data\n",
    "        centroid_uncertainties = centroids.uncertainties\n",
    "\n",
    "    key = info.name.split(\"_\")[0]\n",
    "    if key not in maps:\n",
    "        maps[key] = {\"data\" : [], \"uncertainties\": []}\n",
    "    maps[key][\"data\"].append(centroid_data)\n",
    "    maps[key][\"uncertainties\"].append(centroid_uncertainties)\n",
    "\n",
    "for key, value in maps.items():\n",
    "    # if key != \"sii\": continue\n",
    "    merged_data = np.concatenate([v.flatten() for v in value[\"data\"]])\n",
    "    merged_uncertainties = np.concatenate([v.flatten() for v in value[\"uncertainties\"]])\n",
    "    bin_width = np.nanmedian(merged_uncertainties)\n",
    "    plots = make_fit_histogram(merged_data, bin_width)\n",
    "    fig = gl.SmartFigure(\n",
    "        elements=plots,\n",
    "        title=f\"Centroid {key}\",\n",
    "        x_label=\"Centroid velocity [km s$^{-1}$]\",\n",
    "    ).show()"
   ]
  },
  {
   "cell_type": "code",
   "execution_count": null,
   "id": "cdcf695e",
   "metadata": {},
   "outputs": [],
   "source": []
  },
  {
   "cell_type": "markdown",
   "id": "7c5a6f9d",
   "metadata": {},
   "source": [
    "#### Philippe fun..."
   ]
  },
  {
   "cell_type": "code",
   "execution_count": null,
   "id": "38cd2390",
   "metadata": {},
   "outputs": [],
   "source": [
    "from scipy.constants import c\n",
    "\n",
    "lambda_channel_1 = 6561.0\n",
    "lambda_ref = 6562.7797852\n",
    "\n",
    "print(f\"{(lambda_channel_1 - lambda_ref) / lambda_ref * c / 1000} km/s\")\n"
   ]
  },
  {
   "cell_type": "code",
   "execution_count": null,
   "id": "a6ebf6fd",
   "metadata": {},
   "outputs": [],
   "source": [
    "# OIII MADNESS\n",
    "spec_1 = Cube.load(\"data/orion/data_cubes/binned/oiii_1_binned_3x3.fits\")[:, 100, 100].plot\n",
    "spec_2 = Cube.load(\"data/orion/data_cubes/binned/oiii_2_binned_4x4.fits\")[:, 60, 60].plot\n",
    "\n",
    "spec_1.label = \"[OIII] Field 1\"\n",
    "spec_2.label = \"[OIII] Field 2\"\n",
    "spec_2.color = gl.get_color(color_number=2)\n",
    "\n",
    "gl.SmartFigure(\n",
    "    1,\n",
    "    2,\n",
    "    elements=[\n",
    "        spec_1,\n",
    "        spec_2,\n",
    "    ],\n",
    "    size=(8, 5)\n",
    ").set_grid().show().save(\"oiii_spectrums.pdf\")"
   ]
  },
  {
   "cell_type": "markdown",
   "id": "33e66fdb",
   "metadata": {},
   "source": [
    "# Filtered statistics"
   ]
  },
  {
   "cell_type": "code",
   "execution_count": null,
   "id": "e2225ec7",
   "metadata": {},
   "outputs": [],
   "source": []
  }
 ],
 "metadata": {
  "kernelspec": {
   "display_name": "Python 3",
   "language": "python",
   "name": "python3"
  },
  "language_info": {
   "codemirror_mode": {
    "name": "ipython",
    "version": 3
   },
   "file_extension": ".py",
   "mimetype": "text/x-python",
   "name": "python",
   "nbconvert_exporter": "python",
   "pygments_lexer": "ipython3",
   "version": "3.12.3"
  }
 },
 "nbformat": 4,
 "nbformat_minor": 5
}
