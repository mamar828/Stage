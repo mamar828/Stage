{
 "cells": [
  {
   "cell_type": "markdown",
   "metadata": {},
   "source": [
    "# Kinetic temperature"
   ]
  },
  {
   "cell_type": "markdown",
   "metadata": {},
   "source": [
    "The kinetic temperature is obtained with the 12CO amplitude :\n",
    "$$T_{kin}=T_{ex}=\\frac{5.53}{\\ln\\left(1+\\frac{5.53}{T_R+0.148}\\right)}$$"
   ]
  },
  {
   "cell_type": "code",
   "execution_count": 3,
   "metadata": {},
   "outputs": [],
   "source": [
    "from src.hdu.maps.map import Map\n",
    "from src.hdu.cubes.cube_co import CubeCO\n",
    "from src.hdu.tesseract import Tesseract\n",
    "from src.hdu.maps.grouped_maps import GroupedMaps\n",
    "from src.hdu.maps.convenient_funcs import get_kinetic_temperature"
   ]
  },
  {
   "cell_type": "code",
   "execution_count": 2,
   "metadata": {},
   "outputs": [
    {
     "name": "stdout",
     "output_type": "stream",
     "text": [
      "\u001b[1;32mFile overwritten.\u001b[0m\n"
     ]
    }
   ],
   "source": [
    "GroupedMaps([(\n",
    "    \"kinetic_temperature\", [\n",
    "        get_kinetic_temperature(amp) for amp in Tesseract.load(\n",
    "            \"data/Loop4_co/N1/12co/object_filtered.fits\"\n",
    "        ).to_grouped_maps().amplitude\n",
    "    ]\n",
    ")]).save(\"t.fits\")"
   ]
  },
  {
   "cell_type": "markdown",
   "metadata": {},
   "source": [
    "# Column density"
   ]
  },
  {
   "cell_type": "markdown",
   "metadata": {},
   "source": [
    "The column density is obtained with\n",
    "\\begin{align*}\n",
    "    N(^{13}\\mathrm{CO})=\\frac{3h\\Delta V_{13}}{8\\pi^3\\mu^2}\\left(\\frac{Qh\\nu_{13}/k}{1-e^{-\\frac{h\\nu_{13}}{kT_{ex}}}}\\right)\n",
    "\\end{align*}\n",
    "Knowing that\n",
    "$$Q=\\frac{2T_{ex}^{13}}{h\\nu_{13}/k}$$\n",
    "we can simplify to\n",
    "\\begin{align*}\n",
    "    N(^{13}\\mathrm{CO})&=\\frac{3h\\Delta V_{13}}{8\\pi^3\\mu^2}\\left(\\frac{\\frac{2T_{ex}^{13}}{h\\nu_{13}/k}h\\nu_{13}/k}{1-e^{-\\frac{h\\nu_{13}}{kT_{ex}}}}\\right)\\\\\n",
    "    &=\\frac{3h\\Delta V_{13}T_{ex}^{13}}{4\\pi^3\\mu^2\\left(1-e^{-\\frac{h\\nu_{13}}{kT_{ex}}}\\right)}\\\\\n",
    "\\end{align*}"
   ]
  },
  {
   "cell_type": "code",
   "execution_count": 106,
   "metadata": {},
   "outputs": [],
   "source": [
    "import numpy as np\n",
    "import graphinglib as gl\n",
    "\n",
    "from src.hdu.maps.convenient_funcs import get_13co_column_density"
   ]
  },
  {
   "cell_type": "code",
   "execution_count": 108,
   "metadata": {},
   "outputs": [],
   "source": [
    "cube_12co = CubeCO.load(\"data/Loop4_co/N1/12co/Loop4N1_wcs.fits\")\n",
    "cube_13co = CubeCO.load(\"data/Loop4_co/N1/13co/Loop4N1_13co_corrected.fits\")\n",
    "maps_12co = Tesseract.load(\"data/Loop4_co/N1/12co/object_filtered.fits\").to_grouped_maps()\n",
    "maps_13co = Tesseract.load(\"data/Loop4_co/N1/13co/tesseract_corrected.fits\").to_grouped_maps()\n",
    "\n",
    "# The right gaussians first need to be selected\n",
    "# This solution is for single component 13co maps\n",
    "assert len(maps_13co.mean) == 1\n",
    "mean_12co = np.stack([m.get_reprojection_on(maps_13co.mean[0]).data for m in maps_12co.mean], axis=0)\n",
    "diff_array= np.abs(mean_12co - maps_13co.mean[0].data)  # Compute the difference between the centroid of every gaussian\n",
    "nan_mask = np.isnan(diff_array)     # Apply a nan mask to allow proper argmin use\n",
    "diff_array[nan_mask] = 2**7-1       # Remove nans\n",
    "min_mask = np.argmin(diff_array, axis=0)\n",
    "get_gaussian = lambda arr: np.take_along_axis(arr, min_mask[np.newaxis, ...], axis=0).squeeze()\n",
    "amp_12co_val = np.stack([m.get_reprojection_on(maps_13co.mean[0]).data for m in maps_12co.amplitude], axis=0)\n",
    "amp_12co_unc = np.stack([m.get_reprojection_on(maps_13co.mean[0]).uncertainties for m in maps_12co.amplitude], axis=0)\n",
    "\n",
    "get_13co_column_density(\n",
    "    fwhm_13co=maps_13co.stddev[0]*2*np.sqrt(2*np.log(2)),\n",
    "    kinetic_temperature_13co=get_kinetic_temperature(maps_13co.amplitude[0]/0.43),\n",
    "    kinetic_temperature_12co=Map(get_gaussian(amp_12co_val), get_gaussian(amp_12co_unc))\n",
    ").save(\"tt.fits\")\n",
    "\n",
    "# result = np.take_along_axis(mean_12co, min_mask[np.newaxis, ...], axis=0).squeeze()\n",
    "# fig = gl.Figure()\n",
    "# fig.add_elements(gl.Heatmap(result, origin_position=\"lower\", color_map=\"viridis\"))\n",
    "# fig.show()\n"
   ]
  },
  {
   "cell_type": "code",
   "execution_count": null,
   "metadata": {},
   "outputs": [],
   "source": []
  }
 ],
 "metadata": {
  "kernelspec": {
   "display_name": "Python 3",
   "language": "python",
   "name": "python3"
  },
  "language_info": {
   "codemirror_mode": {
    "name": "ipython",
    "version": 3
   },
   "file_extension": ".py",
   "mimetype": "text/x-python",
   "name": "python",
   "nbconvert_exporter": "python",
   "pygments_lexer": "ipython3",
   "version": "3.12.3"
  }
 },
 "nbformat": 4,
 "nbformat_minor": 2
}
