{
 "cells": [
  {
   "cell_type": "markdown",
   "metadata": {},
   "source": [
    "# Kinetic temperature"
   ]
  },
  {
   "cell_type": "markdown",
   "metadata": {},
   "source": [
    "The kinetic temperature is obtained with the 12CO amplitude :\n",
    "$$T_{kin}=T_{ex}=\\frac{5.53}{\\ln\\left(1+\\frac{5.53}{T_R+0.148}\\right)}$$"
   ]
  },
  {
   "cell_type": "code",
   "execution_count": null,
   "metadata": {},
   "outputs": [],
   "source": [
    "from src.hdu.maps.map import Map\n",
    "from src.hdu.cubes.cube_co import CubeCO\n",
    "from src.hdu.tesseract import Tesseract\n",
    "from src.hdu.maps.grouped_maps import GroupedMaps\n",
    "from src.hdu.maps.convenient_funcs import get_kinetic_temperature"
   ]
  },
  {
   "cell_type": "code",
   "execution_count": null,
   "metadata": {},
   "outputs": [],
   "source": [
    "GroupedMaps([(\n",
    "    \"kinetic_temperature\", [\n",
    "        get_kinetic_temperature(amp) for amp in Tesseract.load(\n",
    "            \"data/Loop4_co/N1/12co/object_filtered.fits\"\n",
    "        ).to_grouped_maps().amplitude\n",
    "    ]\n",
    ")]).save(\"t.fits\")"
   ]
  },
  {
   "cell_type": "markdown",
   "metadata": {},
   "source": [
    "# Column density"
   ]
  },
  {
   "cell_type": "markdown",
   "metadata": {},
   "source": [
    "The column density is obtained with\n",
    "\\begin{align*}\n",
    "    N(^{13}\\mathrm{CO})=\\frac{3h\\Delta V_{13}}{8\\pi^3\\mu^2}\\left(\\frac{Qh\\nu_{13}/k}{1-e^{-\\frac{h\\nu_{13}}{kT_{ex}}}}\\right)\n",
    "\\end{align*}\n",
    "Knowing that\n",
    "$$Q=\\frac{2T_{ex}^{13}}{h\\nu_{13}/k}$$\n",
    "we can simplify to\n",
    "\\begin{align*}\n",
    "    N(^{13}\\mathrm{CO})&=\\frac{3h\\Delta V_{13}}{8\\pi^3\\mu^2}\\left(\\frac{\\frac{2T_{ex}^{13}}{h\\nu_{13}/k}h\\nu_{13}/k}{1-e^{-\\frac{h\\nu_{13}}{kT_{ex}}}}\\right)\\\\\n",
    "    &=\\frac{3h\\Delta V_{13}T_{ex}^{13}}{4\\pi^3\\mu^2\\left(1-e^{-\\frac{h\\nu_{13}}{kT_{ex}}}\\right)}\\\\\n",
    "\\end{align*}\n",
    "Unit treatment gives:\n",
    "\\begin{align*}\n",
    "    \\left[N(^{13}\\mathrm{CO})\\right]&=\\mathrm{\\frac{J\\cdot s\\cdot km\\cdot s^{-1}\\cdot K}{(10^{-18}\\cdot cm^{5/2}\\cdot g^{1/2}\\cdot s^{-1})^2}}\\\\\n",
    "    &=\\mathrm{\\frac{(kg\\cdot m^2\\cdot s^{-2})\\cdot km\\cdot K}{10^{-36}\\cdot cm^{5}\\cdot g\\cdot s^{-2}}}\\\\\n",
    "    &=\\mathrm{\\frac{(10^3g\\cdot 10^4cm^2)\\cdot 10^5cm\\cdot K}{10^{-36}\\cdot cm^{5}\\cdot g}}\\\\\n",
    "    &=\\mathrm{\\frac{10^{48}\\cdot K}{cm^{2}}}\\\\\n",
    "\\end{align*}"
   ]
  },
  {
   "cell_type": "code",
   "execution_count": null,
   "metadata": {},
   "outputs": [],
   "source": [
    "import numpy as np\n",
    "import graphinglib as gl\n",
    "import importlib\n",
    "\n",
    "import src.hdu.maps.convenient_funcs\n",
    "importlib.reload(src.hdu.maps.convenient_funcs)"
   ]
  },
  {
   "cell_type": "code",
   "execution_count": null,
   "metadata": {},
   "outputs": [],
   "source": [
    "cube_12co = CubeCO.load(\"data/Loop4_co/N1/12co/Loop4N1_wcs.fits\")\n",
    "cube_13co = CubeCO.load(\"data/Loop4_co/N1/13co/Loop4N1_13co_corrected.fits\")\n",
    "maps_12co = Tesseract.load(\"data/Loop4_co/N1/12co/object_filtered.fits\").to_grouped_maps()\n",
    "maps_13co = Tesseract.load(\"data/Loop4_co/N1/13co/tesseract_corrected.fits\").to_grouped_maps()\n",
    "\n",
    "# The right gaussians first need to be selected\n",
    "# This solution is for single component 13co maps\n",
    "assert len(maps_13co.mean) == 1\n",
    "mean_12co = np.stack([m.get_reprojection_on(maps_13co.mean[0]).data for m in maps_12co.mean], axis=0)\n",
    "diff_array= np.abs(mean_12co - maps_13co.mean[0].data)  # Compute the difference between the centroid of every gaussian\n",
    "nan_mask = np.isnan(diff_array)     # Apply a nan mask to allow proper argmin use\n",
    "diff_array[nan_mask] = 2**15-1      # Remove nans\n",
    "min_mask = np.argmin(diff_array, axis=0)\n",
    "filter_gaussians = lambda arr: np.take_along_axis(arr, min_mask[np.newaxis, ...], axis=0).squeeze()\n",
    "amp_12co_val = np.stack([m.get_reprojection_on(maps_13co.mean[0]).data for m in maps_12co.amplitude], axis=0)\n",
    "amp_12co_unc = np.stack([m.get_reprojection_on(maps_13co.mean[0]).uncertainties for m in maps_12co.amplitude], axis=0)\n",
    "# print(amp_12co_val[0,19,27])\n",
    "# print(maps_13co.stddev[0][19,27])\n",
    "\n",
    "t = src.hdu.maps.convenient_funcs.get_13co_column_density(\n",
    "    fwhm_13co=maps_13co.stddev[0]*2*np.sqrt(2*np.log(2))*np.abs(cube_12co.header[\"CDELT3\"]/1000),\n",
    "    kinetic_temperature_13co=get_kinetic_temperature(maps_13co.amplitude[0]/0.43),\n",
    "    kinetic_temperature_12co=get_kinetic_temperature(Map(filter_gaussians(amp_12co_val), filter_gaussians(amp_12co_unc)))\n",
    ").save(\"data/Loop4_co/N1/13co/N1_column_density.fits\")"
   ]
  },
  {
   "cell_type": "markdown",
   "metadata": {},
   "source": [
    "### Global check"
   ]
  },
  {
   "cell_type": "code",
   "execution_count": null,
   "metadata": {},
   "outputs": [],
   "source": [
    "from src.coordinates.ds9_coords import DS9Coords\n",
    "\n",
    "coords = DS9Coords(28,20)\n",
    "h_coords = DS9Coords(14,10)\n",
    "\n",
    "spec_1 = CubeCO.load(\"data/Loop4_co/N1/12co/Loop4N1_wcs.fits\")[500:800,*coords]\n",
    "spec_2 = CubeCO.load(\"data/Loop4_co/N1/13co/Loop4N1_13co_corrected.fits\")[:,*coords]\n",
    "\n",
    "fig = gl.Figure()\n",
    "# fig.add_elements(*Tesseract.load(\"data/Loop4_co/N1/12co/object_filtered.fits\").get_spectrum_plot(cube_12co.bin((1,2,2))[500:800,:,:], h_coords))\n",
    "fig.add_elements(*Tesseract.load(\"data/Loop4_co/N1/13co/tesseract.fits\").get_spectrum_plot(cube_13co, coords))\n",
    "# %matplotlib tk\n",
    "# fig.show()\n",
    "\n",
    "# fig = gl.Figure()\n",
    "# fig.add_elements(spec_1.plot)\n",
    "# fig.show()\n",
    "# fig = gl.Figure()\n",
    "# fig.add_elements(spec_2.plot)\n",
    "# fig.show()\n",
    "a_12co = 6.43\n",
    "a_13co = 1.03\n",
    "s_13co = 8.5"
   ]
  },
  {
   "cell_type": "code",
   "execution_count": null,
   "metadata": {},
   "outputs": [],
   "source": []
  }
 ],
 "metadata": {
  "kernelspec": {
   "display_name": "Python 3",
   "language": "python",
   "name": "python3"
  },
  "language_info": {
   "codemirror_mode": {
    "name": "ipython",
    "version": 3
   },
   "file_extension": ".py",
   "mimetype": "text/x-python",
   "name": "python",
   "nbconvert_exporter": "python",
   "pygments_lexer": "ipython3",
   "version": "3.12.3"
  }
 },
 "nbformat": 4,
 "nbformat_minor": 2
}
