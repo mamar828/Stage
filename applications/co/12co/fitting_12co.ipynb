{
 "cells": [
  {
   "cell_type": "code",
   "execution_count": null,
   "metadata": {},
   "outputs": [],
   "source": [
    "import numpy as np\n",
    "import graphinglib as gl\n",
    "from collections import namedtuple\n",
    "import astropy.units as u\n",
    "\n",
    "from src.hdu.cubes.cube_co import CubeCO\n",
    "from src.spectrums.spectrum_co import SpectrumCO\n",
    "from src.spectrums.spectrum import Spectrum\n",
    "from src.hdu.tesseract import Tesseract\n",
    "from src.hdu.maps.grouped_maps import GroupedMaps\n",
    "from src.hdu.maps.convenient_funcs import get_FWHM, get_speed\n",
    "from src.coordinates.ds9_coords import DS9Coords"
   ]
  },
  {
   "cell_type": "markdown",
   "metadata": {},
   "source": [
    "# Loop4N1"
   ]
  },
  {
   "cell_type": "code",
   "execution_count": null,
   "metadata": {},
   "outputs": [],
   "source": [
    "N1 = CubeCO.load(\"data/Loop4_co/N1/Loop4N1_FinalJS.fits\")[500:800,:,:].bin((1,2,2))\n",
    "N1.header[\"COMMENT\"] = \"Loop4N1_FinalJS was binned 2x2.\"\n",
    "N1.header[\"COMMENT\"] = \"Loop4N1_FinalJS was sliced at channel 500; all values of mean must then be \" \\\n",
    "                        + \"added to 500 to account for this shift.\"\n",
    "# N1.save(\"data/Loop4_co/N1/Loop4N1_FinalJS_bin2.fits\")"
   ]
  },
  {
   "cell_type": "markdown",
   "metadata": {},
   "source": [
    "## Fitting"
   ]
  },
  {
   "cell_type": "code",
   "execution_count": null,
   "metadata": {},
   "outputs": [],
   "source": [
    "if __name__ == \"__main__\":\n",
    "    spectrum_parameters = {\n",
    "        \"PEAK_PROMINENCE\" : 0.3,\n",
    "        \"PEAK_MINIMUM_DISTANCE\" : 6,\n",
    "        \"PEAK_WIDTH\" : 2,\n",
    "        \"INITIAL_GUESSES_BINNING\" : 2,\n",
    "        \"MAX_RESIDUE_SIGMAS\" : 6,\n",
    "        \"INITIAL_GUESSES_MAXIMUM_GAUSSIAN_STDDEV\" : 10\n",
    "    }\n",
    "\n",
    "    chi2, fit_results = N1.fit(spectrum_parameters)\n",
    "    chi2.save(\"data/Loop4_co/N1/chi2.fits\")\n",
    "    fit_results.save(\"data/Loop4_co/N1/tesseract.fits\")"
   ]
  },
  {
   "cell_type": "markdown",
   "metadata": {},
   "source": [
    "## Slicing"
   ]
  },
  {
   "cell_type": "code",
   "execution_count": null,
   "metadata": {},
   "outputs": [],
   "source": [
    "print(f\"Targeted channel : {N1.header.get_coordinate(-4000, 0)}\")\n",
    "fit_results = Tesseract.load(\"data/Loop4_co/N1/tesseract.fits\")\n",
    "\n",
    "splits = [\"lower_left\", \"lower_right\", \"upper\"]\n",
    "tesseract_splits = namedtuple(\"tesseract_splits\", splits)\n",
    "lower, upper = fit_results.split(14, 2)\n",
    "lower_left, lower_right = lower.split(10, 3)\n",
    "tesseract_splits = tesseract_splits(lower_left, lower_right, upper)\n",
    "\n",
    "for split in splits:\n",
    "    getattr(tesseract_splits, split).save(f\"data/Loop4_co/N1/tesseract_splits/{split}.fits\")\n",
    "\n",
    "upper = tesseract_splits.upper.filter(slice(200, None))\n",
    "lower_left = tesseract_splits.lower_left.filter(slice(197, None))\n",
    "lower_right = tesseract_splits.lower_right.filter(slice(190, None))\n",
    "\n",
    "lower = lower_left.concatenate(lower_right, 3)\n",
    "total_object_N1 = lower.concatenate(upper, 2)\n",
    "\n",
    "# Compressing the Tesseract\n",
    "total_object_N1 = total_object_N1.compress()\n",
    "total_object_N1.save(f\"data/Loop4_co/N1/object.fits\")"
   ]
  },
  {
   "cell_type": "markdown",
   "metadata": {},
   "source": [
    "## Verifications"
   ]
  },
  {
   "cell_type": "code",
   "execution_count": null,
   "metadata": {},
   "outputs": [],
   "source": [
    "total_object_N1 = Tesseract.load(f\"data/Loop4_co/N1/object.fits\")\n",
    "fig = gl.Figure(size=(10,7), figure_style=\"dim\")\n",
    "fig.add_elements(*total_object_N1.get_spectrum_plot(N1, DS9Coords(11, 10)))\n",
    "fig.show()"
   ]
  },
  {
   "cell_type": "markdown",
   "metadata": {},
   "source": [
    "## Refits"
   ]
  },
  {
   "cell_type": "code",
   "execution_count": null,
   "metadata": {},
   "outputs": [],
   "source": [
    "# Working in DS9Coods\n",
    "spectrums = {\n",
    "    (11, 10) : N1[:,*DS9Coords(11, 10)],\n",
    "    (14, 10) : N1[:,*DS9Coords(14, 10)]\n",
    "}\n",
    "\n",
    "for coords, spectrum in spectrums.items():\n",
    "    total_object_N1[0,*DS9Coords(*coords)] = np.NAN\n",
    "\n",
    "total_object_N1.compress().save(\"data/Loop4_co/N1/object_filtered.fits\")"
   ]
  },
  {
   "cell_type": "markdown",
   "metadata": {},
   "source": [
    "# Loop4N2"
   ]
  },
  {
   "cell_type": "code",
   "execution_count": null,
   "metadata": {},
   "outputs": [],
   "source": [
    "N2 = CubeCO.load(\"data/Loop4_co/N2/Loop4N2_Conv_Med_FinalJS_wcs.fits\")[500:800,:,:]\n",
    "N2.header[\"COMMENT\"] = \"Loop4N2_Conv_Med_FinalJS_wcs was sliced at channel 500; all values of mean must then be \" \\\n",
    "                        + \"added to 500 to account for this shift.\""
   ]
  },
  {
   "cell_type": "markdown",
   "metadata": {},
   "source": [
    "## Fitting"
   ]
  },
  {
   "cell_type": "code",
   "execution_count": null,
   "metadata": {},
   "outputs": [],
   "source": [
    "if __name__ == \"__main__\":\n",
    "    spectrum_parameters = {\n",
    "        \"PEAK_PROMINENCE\" : 0.2,\n",
    "        \"PEAK_MINIMUM_DISTANCE\" : 6,\n",
    "        \"PEAK_WIDTH\" : 2,\n",
    "        \"INITIAL_GUESSES_BINNING\" : 2,\n",
    "        \"MAX_RESIDUE_SIGMAS\" : 5,\n",
    "        \"INITIAL_GUESSES_MAXIMUM_GAUSSIAN_STDDEV\" : 7\n",
    "    }\n",
    "\n",
    "    chi2, fit_results = N2.fit(spectrum_parameters)\n",
    "    chi2.save(\"data/Loop4_co/N2/chi2.fits\")\n",
    "    fit_results.save(\"data/Loop4_co/N2/tesseract.fits\")"
   ]
  },
  {
   "cell_type": "markdown",
   "metadata": {},
   "source": [
    "## Slicing"
   ]
  },
  {
   "cell_type": "code",
   "execution_count": null,
   "metadata": {},
   "outputs": [],
   "source": [
    "print(f\"Targeted channel : {N2.header.get_coordinate(-3000, 0)}\")\n",
    "fit_results = Tesseract.load(\"data/Loop4_co/N2/tesseract.fits\")\n",
    "\n",
    "# total = fit_results.filter(slice(179, 240))\n",
    "\n",
    "\n",
    "splits = [\"left\", \"center\", \"right\"]\n",
    "tesseract_splits = namedtuple(\"tesseract_splits\", splits)\n",
    "left_center, right = fit_results.split(23, 3)       # right : >= 700\n",
    "left, center = left_center.split(12, 3)             # left : >= 700, center : >= 684\n",
    "    \n",
    "tesseract_splits = tesseract_splits(left, center, right)\n",
    "\n",
    "for split in splits:\n",
    "    getattr(tesseract_splits, split).save(f\"data/Loop4_co/N2/tesseract_splits/{split}.fits\")\n",
    "\n",
    "left = tesseract_splits.left.filter(slice(200, 230))\n",
    "center = tesseract_splits.center.filter(slice(184, None))\n",
    "right = tesseract_splits.right.filter(slice(200, None))\n",
    "\n",
    "left_center = left.concatenate(center, 3)\n",
    "total = left_center.concatenate(right, 3)\n",
    "\n",
    "# Compressing the Tesseract\n",
    "total = total.compress()\n",
    "total.save(f\"data/Loop4_co/N2/object.fits\")"
   ]
  },
  {
   "cell_type": "markdown",
   "metadata": {},
   "source": [
    "## Verifications"
   ]
  },
  {
   "cell_type": "code",
   "execution_count": null,
   "metadata": {},
   "outputs": [],
   "source": [
    "total_object_N2 = Tesseract.load(f\"data/Loop4_co/N2/object.fits\")\n",
    "fig = gl.Figure(size=(10,7), figure_style=\"dim\")\n",
    "fig.add_elements(*total_object_N2.get_spectrum_plot(N2, DS9Coords(16, 16)))\n",
    "fig.show()"
   ]
  },
  {
   "cell_type": "markdown",
   "metadata": {},
   "source": [
    "## Refits"
   ]
  },
  {
   "cell_type": "code",
   "execution_count": null,
   "metadata": {},
   "outputs": [],
   "source": [
    "spectrum_parameters = {\n",
    "    \"PEAK_PROMINENCE\" : 0.2,\n",
    "    \"PEAK_MINIMUM_DISTANCE\" : 6,\n",
    "    \"PEAK_WIDTH\" : 2,\n",
    "    \"INITIAL_GUESSES_BINNING\" : 2,\n",
    "    \"MAX_RESIDUE_SIGMAS\" : 5,\n",
    "    \"INITIAL_GUESSES_MAXIMUM_GAUSSIAN_STDDEV\" : 7\n",
    "}\n",
    "\n",
    "# Working in DS9Coods\n",
    "spectrums = {\n",
    "    (16, 16) : N2[:,*DS9Coords(16, 16)],\n",
    "    (17, 16) : N2[:,*DS9Coords(17, 16)],\n",
    "}\n",
    "[spectrum.setattrs(spectrum_parameters) for spectrum in spectrums.values()]\n",
    "\n",
    "spectrums[(16, 16)].fit(); spectrums[(16, 16)].fit(); spectrums[(16, 16)].fit()\n",
    "spectrums[(17, 16)].fit(); spectrums[(17, 16)].fit(); spectrums[(17, 16)].fit()\n",
    "\n",
    "for coords, spectrum in spectrums.items():\n",
    "    multi_fig = gl.MultiFigure(1, 1, title=coords, figure_style=\"dark\", size=(10, 7))\n",
    "    fig = gl.Figure()\n",
    "    fig.add_elements(spectrum.plot, spectrum.initial_guesses_plot, *spectrum.individual_functions_plot,\n",
    "                     spectrum.total_functions_plot)\n",
    "    multi_fig.add_figure(fig, 0, 0, 1, 1)\n",
    "    multi_fig.show()\n",
    "    total_object_N2[0,*DS9Coords(*coords)] = np.NAN\n",
    "    total_object_N2[1,*DS9Coords(*coords)] = np.NAN\n",
    "    total_object_N2[2,*DS9Coords(*coords)] = np.NAN\n",
    "    for i, fit_result in enumerate(spectrum.fit_results.to_numpy()[1:3]):   # Remove first and last components\n",
    "        # Loop on all the fit results, removing the first component\n",
    "        total_object_N2[i,*DS9Coords(*coords)] = fit_result\n",
    "\n",
    "total_object_N2.compress().save(\"data/Loop4_co/N2/object_filtered.fits\")"
   ]
  },
  {
   "cell_type": "markdown",
   "metadata": {},
   "source": [
    "# Loop4N4"
   ]
  },
  {
   "cell_type": "code",
   "execution_count": null,
   "metadata": {},
   "outputs": [],
   "source": [
    "N4 = CubeCO.load(\"data/Loop4_co/N4/Loop4N4_Conv_Med_FinalJS_wcs.fits\")[500:850,:,:]\n",
    "N4.header[\"COMMENT\"] = \"Loop4N4_Conv_Med_FinalJS_wcs was sliced at channel 500; all values of mean must then be \" \\\n",
    "                     + \"added to 500 to account for this shift.\""
   ]
  },
  {
   "cell_type": "markdown",
   "metadata": {},
   "source": [
    "## Fitting"
   ]
  },
  {
   "cell_type": "code",
   "execution_count": null,
   "metadata": {},
   "outputs": [],
   "source": [
    "if __name__ == \"__main__\":\n",
    "    spectrum_parameters = {\n",
    "        \"PEAK_PROMINENCE\" : 0.2,\n",
    "        \"PEAK_MINIMUM_DISTANCE\" : 6,\n",
    "        \"PEAK_WIDTH\" : 2,\n",
    "        \"INITIAL_GUESSES_BINNING\" : 2,\n",
    "        \"MAX_RESIDUE_SIGMAS\" : 5,\n",
    "        \"initial_guesses_maximum_gaussian_stddev\" : 7\n",
    "    }\n",
    "\n",
    "\n",
    "    chi2, fit_results = N4.fit(spectrum_parameters)\n",
    "    chi2.save(\"data/Loop4_co/N4/chi2.fits\")\n",
    "    fit_results.save(\"data/Loop4_co/N4/tesseract.fits\")"
   ]
  },
  {
   "cell_type": "markdown",
   "metadata": {},
   "source": [
    "## Slicing"
   ]
  },
  {
   "cell_type": "code",
   "execution_count": null,
   "metadata": {},
   "outputs": [],
   "source": [
    "print(f\"Targeted channel : {N4.header.get_coordinate(1000, 0)}\")\n",
    "fit_results = Tesseract.load(\"data/Loop4_co/N4/tesseract.fits\")\n",
    "\n",
    "total = fit_results.filter(slice(135, 195))\n",
    "\n",
    "# Compressing the Tesseract\n",
    "total = total.compress()\n",
    "total.save(f\"data/Loop4_co/N4/object.fits\")"
   ]
  },
  {
   "cell_type": "markdown",
   "metadata": {},
   "source": [
    "## Verifications"
   ]
  },
  {
   "cell_type": "code",
   "execution_count": null,
   "metadata": {},
   "outputs": [],
   "source": [
    "total_object_N4 = Tesseract.load(f\"data/Loop4_co/N4/object.fits\")\n",
    "fig = gl.Figure(size=(10,7), figure_style=\"dim\")\n",
    "fig.add_elements(*total_object_N4.get_spectrum_plot(N4, DS9Coords(26, 23)))\n",
    "fig.show()"
   ]
  },
  {
   "cell_type": "markdown",
   "metadata": {},
   "source": [
    "## Refits"
   ]
  },
  {
   "cell_type": "code",
   "execution_count": null,
   "metadata": {},
   "outputs": [],
   "source": [
    "# Working in DS9Coods\n",
    "spectrums = {\n",
    "    (29, 33) : N4[:,*DS9Coords(29, 33)],\n",
    "    (23, 21) : N4[:,*DS9Coords(23, 21)],\n",
    "    (24, 21) : N4[:,*DS9Coords(24, 21)],\n",
    "    (22, 23) : N4[:,*DS9Coords(22, 23)],\n",
    "}\n",
    "\n",
    "spectrums[(29, 33)].setattrs({\"PEAK_MINIMUM_DISTANCE\" : 20}); spectrums[(29, 33)].fit()\n",
    "spectrums[(23, 21)].setattrs({\"PEAK_PROMINENCE\" : 0.0, \"PEAK_WIDTH\" : 1}); spectrums[(23, 21)].fit()\n",
    "spectrums[(24, 21)].setattrs({\"PEAK_PROMINENCE\" : 0.0, \"PEAK_WIDTH\" : 1}); spectrums[(24, 21)].fit()\n",
    "spectrums[(22, 23)].setattrs({\"PEAK_PROMINENCE\" : 0.0, \"PEAK_WIDTH\" : 1, \"PEAK_MINIMUM_DISTANCE\" : 1}); spectrums[(22, 23)].fit()\n",
    "\n",
    "for coords, spectrum in spectrums.items():\n",
    "    multi_fig = gl.MultiFigure(1, 1, title=coords, figure_style=\"dark\", size=(10, 7))\n",
    "    fig = gl.Figure()\n",
    "    fig.add_elements(spectrum.plot, spectrum.initial_guesses_plot, *spectrum.individual_functions_plot,\n",
    "                     spectrum.total_functions_plot)\n",
    "    multi_fig.add_figure(fig, 0, 0, 1, 1)\n",
    "    multi_fig.show()\n",
    "    total_object_N4[0,*DS9Coords(*coords)] = np.NAN\n",
    "    total_object_N4[1,*DS9Coords(*coords)] = np.NAN\n",
    "    total_object_N4[2,*DS9Coords(*coords)] = np.NAN\n",
    "    for i, fit_result in enumerate(spectrum.fit_results.to_numpy()[:-1]):\n",
    "        # Loop on all the fit results, removing the last component\n",
    "        total_object_N4[i,*DS9Coords(*coords)] = fit_result\n",
    "\n",
    "total_object_N4.save(\"data/Loop4_co/N4/object_filtered.fits\")"
   ]
  },
  {
   "cell_type": "markdown",
   "metadata": {},
   "source": [
    "# Loop4p"
   ]
  },
  {
   "cell_type": "code",
   "execution_count": null,
   "metadata": {},
   "outputs": [],
   "source": [
    "p = CubeCO.load(\"data/Loop4_co/p/Loop4p_Conv_Med_FinalJS_wcs.fits\")[500:850,:,:].bin((1,2,2))\n",
    "p.header[\"COMMENT\"] = \"Loop4p_Conv_Med_FinalJS_wcs was binned 2x2.\"\n",
    "p.header[\"COMMENT\"] = \"Loop4p_Conv_Med_FinalJS_wcs was sliced at channel 500; all values of mean must then be \" \\\n",
    "                    + \"added to 500 to account for this shift.\"\n",
    "# p.save(\"data/Loop4_co/p/Loop4p_Conv_Med_FinalJS_bin2.fits\")"
   ]
  },
  {
   "cell_type": "markdown",
   "metadata": {},
   "source": [
    "## Fitting"
   ]
  },
  {
   "cell_type": "code",
   "execution_count": null,
   "metadata": {},
   "outputs": [],
   "source": [
    "if __name__ == \"__main__\":\n",
    "    spectrum_parameters = {\n",
    "        \"PEAK_PROMINENCE\" : 0.4,\n",
    "        \"PEAK_MINIMUM_DISTANCE\" : 6,\n",
    "        \"PEAK_WIDTH\" : 2.5,\n",
    "        \"INITIAL_GUESSES_BINNING\" : 2,\n",
    "        \"MAX_RESIDUE_SIGMAS\" : 5\n",
    "    }\n",
    "\n",
    "    chi2, fit_results = p.fit(spectrum_parameters)\n",
    "    chi2.save(\"data/Loop4_co/p/chi2.fits\")\n",
    "    fit_results.save(\"data/Loop4_co/p/tesseract.fits\")"
   ]
  },
  {
   "cell_type": "markdown",
   "metadata": {},
   "source": [
    "## Slicing"
   ]
  },
  {
   "cell_type": "code",
   "execution_count": null,
   "metadata": {},
   "outputs": [],
   "source": [
    "print(f\"Targeted channel : {p.header.get_coordinate(0000, 0)}\")\n",
    "fit_results = Tesseract.load(\"data/Loop4_co/p/tesseract.fits\")\n",
    "\n",
    "total = fit_results.filter(slice(130, 205))\n",
    "\n",
    "# Compressing the Tesseract\n",
    "total = total.compress()\n",
    "total.save(f\"data/Loop4_co/p/object.fits\")"
   ]
  },
  {
   "cell_type": "markdown",
   "metadata": {},
   "source": [
    "## Verifications"
   ]
  },
  {
   "cell_type": "code",
   "execution_count": null,
   "metadata": {},
   "outputs": [],
   "source": [
    "total_object_p = Tesseract.load(f\"data/Loop4_co/p/object.fits\")\n",
    "fig = gl.Figure(size=(10,7))\n",
    "fig.add_elements(*total_object_p.get_spectrum_plot(p, DS9Coords(10, 15)))\n",
    "%matplotlib inline\n",
    "# %matplotlib tk\n",
    "fig.show()"
   ]
  },
  {
   "cell_type": "markdown",
   "metadata": {},
   "source": [
    "## Refits"
   ]
  },
  {
   "cell_type": "code",
   "execution_count": null,
   "metadata": {},
   "outputs": [],
   "source": [
    "total_object_p = Tesseract.load(f\"data/Loop4_co/p/object.fits\")\n",
    "# Working in DS9Coods\n",
    "spectrums = {\n",
    "    (15, 14) : p[:,*DS9Coords(15, 14)],\n",
    "    (9,  13) : p[:,*DS9Coords(9,  13)],\n",
    "    (12, 8 ) : p[:,*DS9Coords(12, 8 )],\n",
    "    (12, 24) : p[:,*DS9Coords(12, 24)],\n",
    "}\n",
    "\n",
    "spectrums[(15, 14)].setattrs({\"PEAK_PROMINENCE\" : 0.0, \"PEAK_WIDTH\" : 1})\n",
    "spectrums[(15, 14)].fit()\n",
    "spectrums[(15, 14)].fit()\n",
    "spectrums[(9,  13)].setattrs({}); spectrums[(9,  13)].fit()\n",
    "spectrums[(12, 8 )].setattrs({}); spectrums[(12, 8 )].fit()\n",
    "spectrums[(12, 24)].setattrs({\"NOISE_CHANNELS\" : slice(70, 130)}); spectrums[(12, 24)].fit()\n",
    "\n",
    "for coords, spectrum in spectrums.items():\n",
    "    multi_fig = gl.MultiFigure(1, 1, title=coords, figure_style=\"dark\", size=(10, 7))\n",
    "    fig = gl.Figure()\n",
    "    fig.add_elements(spectrum.plot, spectrum.initial_guesses_plot, *spectrum.individual_functions_plot,\n",
    "                     spectrum.total_functions_plot)\n",
    "    multi_fig.add_figure(fig, 0, 0, 1, 1)\n",
    "    multi_fig.show()\n",
    "    total_object_p[0,*DS9Coords(*coords)] = np.NAN\n",
    "    total_object_p[1,*DS9Coords(*coords)] = np.NAN\n",
    "    total_object_p[2,*DS9Coords(*coords)] = np.NAN\n",
    "    total_object_p[3,*DS9Coords(*coords)] = np.NAN\n",
    "\n",
    "# Loop on all the fit results, adapt the removed component(s) to every spectra\n",
    "for i, fit_result in enumerate(spectrums[(15, 14)].fit_results.to_numpy()[:-2]):\n",
    "    total_object_p[i,*DS9Coords(15, 14)] = fit_result\n",
    "for i, fit_result in enumerate(spectrums[(9,  13)].fit_results.to_numpy()[:-1]):\n",
    "    total_object_p[i,*DS9Coords(9,  13)] = fit_result\n",
    "for i, fit_result in enumerate(spectrums[(12, 8 )].fit_results.to_numpy()[:-1]):\n",
    "    total_object_p[i,*DS9Coords(12, 8 )] = fit_result\n",
    "for i, fit_result in enumerate(spectrums[(12, 24)].fit_results.to_numpy()):\n",
    "    total_object_p[i,*DS9Coords(12, 24)] = fit_result\n",
    "\n",
    "total_object_p.save(\"data/Loop4_co/p/object_filtered.fits\")"
   ]
  },
  {
   "cell_type": "markdown",
   "metadata": {},
   "source": [
    "# Speed maps"
   ]
  },
  {
   "cell_type": "code",
   "execution_count": null,
   "metadata": {},
   "outputs": [],
   "source": [
    "clouds = {\n",
    "    \"N1\" : {\n",
    "        \"tesseract\" : \"data/Loop4_co/N1/object_filtered.fits\",\n",
    "        \"cube\" : \"data/Loop4_co/N1/Loop4N1_FinalJS.fits\",\n",
    "        \"save_filename\" : \"speed_maps/N1_speed.fits\",\n",
    "    },\n",
    "    \"N2\" : {\n",
    "        \"tesseract\" : \"data/Loop4_co/N2/object_filtered.fits\",\n",
    "        \"cube\" : \"data/Loop4_co/N2/Loop4N2_Conv_Med_FinalJS_wcs.fits\",\n",
    "        \"save_filename\" : \"speed_maps/N2_speed.fits\",\n",
    "    },\n",
    "    \"N4\" : {\n",
    "        \"tesseract\" : \"data/Loop4_co/N4/object_filtered.fits\",\n",
    "        \"cube\" : \"data/Loop4_co/N4/Loop4N4_Conv_Med_FinalJS_wcs.fits\",\n",
    "        \"save_filename\" : \"speed_maps/N4_speed.fits\",\n",
    "    },\n",
    "    \"p\" : {\n",
    "        \"tesseract\" : \"data/Loop4_co/p/object_filtered.fits\",\n",
    "        \"cube\" : \"data/Loop4_co/p/Loop4p_Conv_Med_FinalJS_wcs.fits\",\n",
    "        \"save_filename\" : \"speed_maps/p_speed.fits\",\n",
    "    },\n",
    "}\n",
    "\n",
    "for cloud, infos in clouds.items():\n",
    "    gm = Tesseract.load(infos[\"tesseract\"]).to_grouped_maps()\n",
    "    cube = CubeCO.load(infos[\"cube\"])\n",
    "\n",
    "    speed_maps = []\n",
    "    for map_ in gm.mean:\n",
    "        speed_maps.append(get_speed(map_ + 500, cube))   # Add 500 to account for the previous cropping\n",
    "    GroupedMaps([(\"centroid speed\", speed_maps)]).save(infos[\"save_filename\"], overwrite=True)"
   ]
  }
 ],
 "metadata": {
  "kernelspec": {
   "display_name": "Python 3",
   "language": "python",
   "name": "python3"
  },
  "language_info": {
   "codemirror_mode": {
    "name": "ipython",
    "version": 3
   },
   "file_extension": ".py",
   "mimetype": "text/x-python",
   "name": "python",
   "nbconvert_exporter": "python",
   "pygments_lexer": "ipython3",
   "version": "3.12.3"
  }
 },
 "nbformat": 4,
 "nbformat_minor": 2
}
