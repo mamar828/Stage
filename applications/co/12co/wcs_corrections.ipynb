{
 "cells": [
  {
   "cell_type": "code",
   "execution_count": null,
   "metadata": {},
   "outputs": [],
   "source": [
    "import numpy as np\n",
    "from astropy.io import fits\n",
    "\n",
    "from src.headers.header import Header\n",
    "from src.hdu.cubes.cube import Cube\n",
    "from src.coordinates.ds9_coords import DS9Coords\n",
    "from src.coordinates.equatorial_coords import RA, DEC"
   ]
  },
  {
   "cell_type": "markdown",
   "metadata": {},
   "source": [
    "# New _wcs maps"
   ]
  },
  {
   "cell_type": "code",
   "execution_count": null,
   "metadata": {},
   "outputs": [],
   "source": [
    "N1 = Cube.load(\"data/Loop4/N1/12co/Loop4N1_FinalJS_DEPRECATED.fits\")\n",
    "\n",
    "N1.header[\"CTYPE1\"] = \"RA---CAR\"\n",
    "N1.header[\"CTYPE2\"] = \"DEC--CAR\"\n",
    "N1.header[\"CDELT1\"] = - RA.from_sexagesimal(\"0:00:12.2\").degrees / 3\n",
    "N1.header[\"CDELT2\"] = DEC.from_sexagesimal(\"0:01:30\").degrees / 3\n",
    "N1.header[\"CRPIX1\"] = 33 - RA.from_sexagesimal(\"8:19:54\").degrees / N1.header[\"CDELT1\"]\n",
    "N1.header[\"CRPIX2\"] = 9 - DEC.from_sexagesimal(\"60:21:18\").degrees / N1.header[\"CDELT2\"]\n",
    "N1.header[\"CRVAL1\"] = 0\n",
    "N1.header[\"CRVAL2\"] = 0\n",
    "\n",
    "N1.save(\"data/Loop4/N1/12co/Loop4N1_wcs.fits\")"
   ]
  },
  {
   "cell_type": "code",
   "execution_count": null,
   "metadata": {},
   "outputs": [],
   "source": [
    "N2 = Cube.load(\"data/Loop4/N2/12co/Loop4N2_Conv_Med_FinalJS_DEPRECATED.fits\")\n",
    "\n",
    "N2.header[\"CTYPE1\"] = \"RA---CAR\"\n",
    "N2.header[\"CTYPE2\"] = \"DEC--CAR\"\n",
    "N2.header[\"CDELT1\"] = - RA.from_sexagesimal(\"0:00:12.2\").degrees / 3\n",
    "N2.header[\"CDELT2\"] = DEC.from_sexagesimal(\"0:01:30\").degrees / 3\n",
    "N2.header[\"CRPIX1\"] = 16 - RA.from_sexagesimal(\"8:27:20\").degrees / N2.header[\"CDELT1\"]\n",
    "N2.header[\"CRPIX2\"] = 8 - DEC.from_sexagesimal(\"60:06:00\").degrees / N2.header[\"CDELT2\"]\n",
    "N2.header[\"CRVAL1\"] = 0\n",
    "N2.header[\"CRVAL2\"] = 0\n",
    "\n",
    "N2.save(\"data/Loop4/N2/12co/Loop4N2_wcs.fits\")"
   ]
  },
  {
   "cell_type": "code",
   "execution_count": null,
   "metadata": {},
   "outputs": [],
   "source": [
    "N4 = Cube.load(\"data/Loop4/N4/12co/Loop4N4_Conv_Med_FinalJS_DEPRECATED.fits\")\n",
    "\n",
    "N4.header[\"CTYPE1\"] = \"RA---CAR\"\n",
    "N4.header[\"CTYPE2\"] = \"DEC--CAR\"\n",
    "N4.header[\"CDELT1\"] = - RA.from_sexagesimal(\"0:00:12.2\").degrees / 3\n",
    "N4.header[\"CDELT2\"] = DEC.from_sexagesimal(\"0:01:30\").degrees / 3\n",
    "N4.header[\"CRPIX1\"] = 10 - RA.from_sexagesimal(\"8:08:24\").degrees / N4.header[\"CDELT1\"]\n",
    "N4.header[\"CRPIX2\"] = 33 - DEC.from_sexagesimal(\"61:20:45\").degrees / N4.header[\"CDELT2\"]\n",
    "N4.header[\"CRVAL1\"] = 0\n",
    "N4.header[\"CRVAL2\"] = 0\n",
    "\n",
    "N4.save(\"data/Loop4/N4/12co/Loop4N4_wcs.fits\")"
   ]
  },
  {
   "cell_type": "code",
   "execution_count": null,
   "metadata": {},
   "outputs": [],
   "source": [
    "p = Cube.load(\"data/Loop4/p//12coLoop4p_Conv_Med_FinalJS_DEPRECATED.fits\")\n",
    "\n",
    "p.header[\"CTYPE1\"] = \"RA---CAR\"\n",
    "p.header[\"CTYPE2\"] = \"DEC--CAR\"\n",
    "p.header[\"CDELT1\"] = - RA.from_sexagesimal(\"0:00:12.2\").degrees / 3\n",
    "p.header[\"CDELT2\"] = DEC.from_sexagesimal(\"0:01:30\").degrees / 3\n",
    "p.header[\"CRPIX1\"] = 36 - RA.from_sexagesimal(\"8:05:32\").degrees / p.header[\"CDELT1\"]\n",
    "p.header[\"CRPIX2\"] = 41 - DEC.from_sexagesimal(\"60:32:30\").degrees / p.header[\"CDELT2\"]\n",
    "p.header[\"CRVAL1\"] = 0\n",
    "p.header[\"CRVAL2\"] = 0\n",
    "\n",
    "p.save(\"data/Loop4/p//12coLoop4p_wcs.fits\")"
   ]
  },
  {
   "cell_type": "markdown",
   "metadata": {},
   "source": [
    "# Adjustment of old maps"
   ]
  },
  {
   "cell_type": "code",
   "execution_count": null,
   "metadata": {},
   "outputs": [],
   "source": [
    "def set_header(target_cube: Cube, reference_cube: Cube):\n",
    "    target_cube.header[\"CTYPE1\"] = reference_cube.header[\"CTYPE1\"]\n",
    "    target_cube.header[\"CTYPE2\"] = reference_cube.header[\"CTYPE2\"]\n",
    "    target_cube.header[\"CDELT1\"] = reference_cube.header[\"CDELT1\"]\n",
    "    target_cube.header[\"CDELT2\"] = reference_cube.header[\"CDELT2\"]\n",
    "    target_cube.header[\"CRPIX1\"] = reference_cube.header[\"CRPIX1\"]\n",
    "    target_cube.header[\"CRPIX2\"] = reference_cube.header[\"CRPIX2\"]\n",
    "    target_cube.header[\"CRVAL1\"] = reference_cube.header[\"CRVAL1\"]\n",
    "    target_cube.header[\"CRVAL2\"] = reference_cube.header[\"CRVAL2\"]\n",
    "    try:\n",
    "        del target_cube.header[\"COMMENT\"]\n",
    "    except KeyError: pass\n",
    "    for line in str(reference_cube.header[\"COMMENT\"]).split(\"\\n\"):\n",
    "       target_cube.header[\"COMMENT\"] = line\n",
    "    return target_cube"
   ]
  },
  {
   "cell_type": "code",
   "execution_count": null,
   "metadata": {},
   "outputs": [],
   "source": [
    "N1 = Cube.load(\"data/Loop4/N1/12co/Loop4N1_wcs_bin2.fits\")\n",
    "for name in [\"chi2\", \"tesseract\"]:\n",
    "    cube = set_header(Cube.load(f\"data/Loop4/N1/12co/{name}.fits\"), N1).save(f\"data/Loop4/N1/12co/{name}.fits\")"
   ]
  },
  {
   "cell_type": "code",
   "execution_count": null,
   "metadata": {},
   "outputs": [],
   "source": [
    "N2 = Cube.load(\"data/Loop4/N2/12co/Loop4N2_wcs.fits\")\n",
    "N2.header[\"COMMENT\"] = \"Loop4N2_wcs was sliced at channel 500; all values of mean must then be \" \\\n",
    "                        + \"added to 500 to account for this shift.\"\n",
    "for name in [\"chi2\", \"tesseract\"]:\n",
    "    cube = set_header(Cube.load(f\"data/Loop4/N2/12co/{name}.fits\"), N2).save(f\"data/Loop4/N2/12co/{name}.fits\")"
   ]
  },
  {
   "cell_type": "code",
   "execution_count": null,
   "metadata": {},
   "outputs": [],
   "source": [
    "set_header(\n",
    "    Cube.load(\"data/Loop4/N2/12co copie/object_filtered.fits\"),\n",
    "    Cube.load(\"data/Loop4/N2/12co/object_filtered.fits\"),\n",
    ").save(\"data/Loop4/N2/12co/object_filtered.fits\")"
   ]
  },
  {
   "cell_type": "code",
   "execution_count": null,
   "metadata": {},
   "outputs": [],
   "source": [
    "N4 = Cube.load(\"data/Loop4/N4/12co/Loop4N4_wcs.fits\")\n",
    "N4.header[\"COMMENT\"] = \"Loop4N4_wcs was sliced at channel 500; all values of mean must then be \" \\\n",
    "                     + \"added to 500 to account for this shift.\"\n",
    "for name in [\"chi2\", \"tesseract\"]:\n",
    "    cube = set_header(Cube.load(f\"data/Loop4/N4/12co/{name}.fits\"), N4).save(f\"data/Loop4/N4/12co/{name}.fits\")"
   ]
  },
  {
   "cell_type": "code",
   "execution_count": null,
   "metadata": {},
   "outputs": [],
   "source": [
    "p = Cube.load(\"data/Loop4/p/12co/Loop4p_wcs_bin2.fits\")\n",
    "for name in [\"chi2\", \"tesseract\"]:\n",
    "    cube = set_header(Cube.load(f\"data/Loop4/p/12co/{name}.fits\"), p).save(f\"data/Loop4/p/12co/{name}.fits\")"
   ]
  },
  {
   "cell_type": "markdown",
   "metadata": {},
   "source": [
    "## Additional header corrections for chi2 maps"
   ]
  },
  {
   "cell_type": "code",
   "execution_count": null,
   "metadata": {},
   "outputs": [],
   "source": [
    "import os\n",
    "from src.hdu.cubes.cube import Cube\n",
    "\n",
    "def get_folder_paths(foldername):\n",
    "    paths = []\n",
    "    for element in os.listdir(foldername):\n",
    "        if os.path.isdir(os.path.join(foldername, element)):\n",
    "            pathss = get_folder_paths(os.path.join(foldername, element))\n",
    "            for path in pathss:\n",
    "                paths.append(path)\n",
    "        elif element.startswith(\"chi2\"):\n",
    "            paths.append(os.path.join(foldername, element))\n",
    "    return paths"
   ]
  },
  {
   "cell_type": "code",
   "execution_count": null,
   "metadata": {},
   "outputs": [],
   "source": [
    "paths = get_folder_paths(\"data/Loop4\")\n",
    "for file in paths:\n",
    "    cube = Cube.load(file)\n",
    "    cube.header[\"NAXIS\"] = 3\n",
    "    cube.header = cube.header.celestial\n",
    "    cube.save(file)"
   ]
  },
  {
   "cell_type": "code",
   "execution_count": null,
   "metadata": {},
   "outputs": [],
   "source": []
  }
 ],
 "metadata": {
  "kernelspec": {
   "display_name": "Python 3",
   "language": "python",
   "name": "python3"
  },
  "language_info": {
   "codemirror_mode": {
    "name": "ipython",
    "version": 3
   },
   "file_extension": ".py",
   "mimetype": "text/x-python",
   "name": "python",
   "nbconvert_exporter": "python",
   "pygments_lexer": "ipython3",
   "version": "3.12.3"
  }
 },
 "nbformat": 4,
 "nbformat_minor": 2
}
