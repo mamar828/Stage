{
 "cells": [
  {
   "cell_type": "code",
   "execution_count": 3,
   "metadata": {},
   "outputs": [],
   "source": [
    "import numpy as np\n",
    "from astropy.io import fits\n",
    "import os\n",
    "import re\n",
    "\n",
    "from src.hdu.cubes.cube import Cube\n",
    "from src.hdu.arrays.array_3d import Array3D\n",
    "from src.headers.header import Header"
   ]
  },
  {
   "cell_type": "code",
   "execution_count": 8,
   "metadata": {},
   "outputs": [],
   "source": [
    "def translate_id(id: str) -> np.ndarray:\n",
    "    \"\"\" \n",
    "    Translates a string id into a vector.\n",
    "    \"\"\"\n",
    "    translation = {\n",
    "        \"N\" : np.array([ 0, 1]),\n",
    "        \"S\" : np.array([ 0,-1]),\n",
    "        \"E\" : np.array([-1, 0]),\n",
    "        \"W\" : np.array([ 1, 0])\n",
    "    }\n",
    "\n",
    "    # Define the pattern to match letter followed by digits\n",
    "    pattern = re.compile(r'([A-Z])(\\d*)')\n",
    "    matches = pattern.findall(id)\n",
    "    result = np.array([0, 0])\n",
    "    for letter, number in matches:\n",
    "        if number == \"\":\n",
    "            number = 1\n",
    "        else:\n",
    "            number = int(number)\n",
    "        result += translation[letter] * number\n",
    "    \n",
    "    return result\n",
    "\n",
    "def set_region(cube_data: np.ndarray, center: tuple, region: fits.HDUList):\n",
    "    \"\"\"\n",
    "    Sets a region of a given cube.\n",
    "    \"\"\"\n",
    "    smart_slice = lambda start, length: slice(int(start), int(start+length))\n",
    "    cube_data[\n",
    "        :int(region.header[\"NAXIS3\"]),\n",
    "        smart_slice(center[1]-region.header[\"CRPIX2\"], region.header[\"NAXIS2\"]),\n",
    "        smart_slice(center[0]-region.header[\"CRPIX1\"], region.header[\"NAXIS1\"])\n",
    "    ] = region.data\n",
    "\n",
    "def get_cleaned_header(header: Header) -> Header:\n",
    "    \"\"\"\n",
    "    Filters the given header to remove any invalid keywords.\n",
    "    \"\"\"\n",
    "    valid_cards = []\n",
    "    valid_keywords = [\n",
    "        \"SIMPLE\", \"BITPIX\", \"NAXIS\", \"NAXIS1\", \"NAXIS2\", \"NAXIS3\", \"BUNIT\", \"EQUINOX\", \"CRPIX1\", \"CRPIX2\", \"CROTA1\",\n",
    "        \"CROTA2\", \"CRVAL1\", \"CRVAL2\", \"CTYPE1\", \"CTYPE2\", \"CDELT1\", \"CDELT2\", \"CRPIX3\", \"CROTA3\", \"CRVAL3\", \"CTYPE3\",\n",
    "        \"CDELT3\", \"BUNIT\", \"OBSERVER\", \"LINE\", \"EQUINOX\", \"VELO-LSR\"\n",
    "    ]\n",
    "    for card in header.cards:\n",
    "        if card.keyword in valid_keywords:\n",
    "            valid_cards.append(fits.Card(\n",
    "                keyword=card.keyword,\n",
    "                value=card.value,\n",
    "                comment=card.comment\n",
    "            ))\n",
    "    \n",
    "    return Header(valid_cards)\n",
    "\n",
    "def build_cube(prefix: str, ref_cube: Cube) -> Cube:\n",
    "    cube_data = np.full((10000, 200, 200), np.NAN)\n",
    "    files = os.listdir(f\"data/Loop4_co/13co_spectrums/{prefix}\")\n",
    "    \n",
    "    # Create an arbitrary center\n",
    "    center = np.array([100, 100])\n",
    "\n",
    "    first_file = True\n",
    "    for file in files:\n",
    "        subregion = fits.open(f\"data/Loop4_co/13co_spectrums/{prefix}/{file}\")[0]\n",
    "        subregion_id = file[len(prefix):-5]\n",
    "        if subregion.header[\"CTYPE1\"] == \"RA---GLS\" and subregion.header[\"CTYPE2\"] == \"DEC--GLS\":\n",
    "            set_region(cube_data, center + translate_id(subregion_id)*3, subregion)\n",
    "        else:\n",
    "            raise TypeError\n",
    "        if first_file:\n",
    "            cube_header = subregion.header\n",
    "            CRPIX_offset = - 2 + translate_id(subregion_id)*3\n",
    "            cube_header[\"CRPIX1\"] += center[0] + CRPIX_offset[0]\n",
    "            cube_header[\"CRPIX2\"] += center[1] + CRPIX_offset[1]\n",
    "            first_file = False\n",
    "\n",
    "    cube_data[cube_data == 0] = np.NAN\n",
    "    cube = Cube(Array3D(cube_data), get_cleaned_header(cube_header))\n",
    "    cube.header[\"OBJECT\"] = f\"Loop4{prefix}\"\n",
    "\n",
    "    # Crop the cube to the same dimensions\n",
    "    print(cube.header[\"CRVAL1\"], ref_cube.header.get_coordinate(cube.header[\"CRVAL1\"], 2))\n",
    "    raise\n",
    "    cube.save(\"t.fits\")\n",
    "    x_lower_limit = round(cube.header[\"CRPIX1\"] - ref_cube.header.get_coordinate(cube.header[\"CRVAL1\"], 2)) + 3\n",
    "    y_lower_limit = round(cube.header[\"CRPIX2\"] - ref_cube.header.get_coordinate(cube.header[\"CRVAL2\"], 1))\n",
    "    x_upper_limit = round(x_lower_limit + ref_cube.header[\"NAXIS1\"])\n",
    "    y_upper_limit = round(y_lower_limit + ref_cube.header[\"NAXIS2\"])\n",
    "    z_upper_limit = round(np.where(np.all(np.isnan(cube.data), axis=(1,2)))[0][0])\n",
    "\n",
    "    cube = cube[:z_upper_limit, y_lower_limit:y_upper_limit, x_lower_limit:x_upper_limit]\n",
    "\n",
    "    cube.save(f\"{prefix}.fits\", overwrite=True)"
   ]
  },
  {
   "cell_type": "code",
   "execution_count": 9,
   "metadata": {},
   "outputs": [
    {
     "name": "stdout",
     "output_type": "stream",
     "text": [
      "125.1275083115 27\n"
     ]
    },
    {
     "ename": "RuntimeError",
     "evalue": "No active exception to reraise",
     "output_type": "error",
     "traceback": [
      "\u001b[0;31m---------------------------------------------------------------------------\u001b[0m",
      "\u001b[0;31mRuntimeError\u001b[0m                              Traceback (most recent call last)",
      "Cell \u001b[0;32mIn[9], line 1\u001b[0m\n\u001b[0;32m----> 1\u001b[0m \u001b[43mbuild_cube\u001b[49m\u001b[43m(\u001b[49m\u001b[38;5;124;43m\"\u001b[39;49m\u001b[38;5;124;43mN1\u001b[39;49m\u001b[38;5;124;43m\"\u001b[39;49m\u001b[43m,\u001b[49m\u001b[43m \u001b[49m\u001b[43mref_cube\u001b[49m\u001b[38;5;241;43m=\u001b[39;49m\u001b[43mCube\u001b[49m\u001b[38;5;241;43m.\u001b[39;49m\u001b[43mload\u001b[49m\u001b[43m(\u001b[49m\u001b[38;5;124;43m\"\u001b[39;49m\u001b[38;5;124;43mdata/Loop4_co/N1/Loop4N1_FinalJS.fits\u001b[39;49m\u001b[38;5;124;43m\"\u001b[39;49m\u001b[43m)\u001b[49m\u001b[43m)\u001b[49m\n\u001b[1;32m      2\u001b[0m \u001b[38;5;66;03m# build_cube(\"N4\", ref_cube=Cube.load(\"data/Loop4_co/N4/Loop4N4_Conv_Med_FinalJS_wcs.fits\"))\u001b[39;00m\n",
      "Cell \u001b[0;32mIn[8], line 84\u001b[0m, in \u001b[0;36mbuild_cube\u001b[0;34m(prefix, ref_cube)\u001b[0m\n\u001b[1;32m     82\u001b[0m \u001b[38;5;66;03m# Crop the cube to the same dimensions\u001b[39;00m\n\u001b[1;32m     83\u001b[0m \u001b[38;5;28mprint\u001b[39m(cube\u001b[38;5;241m.\u001b[39mheader[\u001b[38;5;124m\"\u001b[39m\u001b[38;5;124mCRVAL1\u001b[39m\u001b[38;5;124m\"\u001b[39m], ref_cube\u001b[38;5;241m.\u001b[39mheader\u001b[38;5;241m.\u001b[39mget_coordinate(cube\u001b[38;5;241m.\u001b[39mheader[\u001b[38;5;124m\"\u001b[39m\u001b[38;5;124mCRVAL1\u001b[39m\u001b[38;5;124m\"\u001b[39m], \u001b[38;5;241m2\u001b[39m))\n\u001b[0;32m---> 84\u001b[0m \u001b[38;5;28;01mraise\u001b[39;00m\n\u001b[1;32m     85\u001b[0m cube\u001b[38;5;241m.\u001b[39msave(\u001b[38;5;124m\"\u001b[39m\u001b[38;5;124mt.fits\u001b[39m\u001b[38;5;124m\"\u001b[39m)\n\u001b[1;32m     86\u001b[0m x_lower_limit \u001b[38;5;241m=\u001b[39m \u001b[38;5;28mround\u001b[39m(cube\u001b[38;5;241m.\u001b[39mheader[\u001b[38;5;124m\"\u001b[39m\u001b[38;5;124mCRPIX1\u001b[39m\u001b[38;5;124m\"\u001b[39m] \u001b[38;5;241m-\u001b[39m ref_cube\u001b[38;5;241m.\u001b[39mheader\u001b[38;5;241m.\u001b[39mget_coordinate(cube\u001b[38;5;241m.\u001b[39mheader[\u001b[38;5;124m\"\u001b[39m\u001b[38;5;124mCRVAL1\u001b[39m\u001b[38;5;124m\"\u001b[39m], \u001b[38;5;241m2\u001b[39m)) \u001b[38;5;241m+\u001b[39m \u001b[38;5;241m3\u001b[39m\n",
      "\u001b[0;31mRuntimeError\u001b[0m: No active exception to reraise"
     ]
    }
   ],
   "source": [
    "build_cube(\"N1\", ref_cube=Cube.load(\"data/Loop4_co/N1/Loop4N1_FinalJS.fits\"))\n",
    "# build_cube(\"N4\", ref_cube=Cube.load(\"data/Loop4_co/N4/Loop4N4_Conv_Med_FinalJS_wcs.fits\"))"
   ]
  },
  {
   "cell_type": "code",
   "execution_count": 14,
   "metadata": {},
   "outputs": [
    {
     "name": "stderr",
     "output_type": "stream",
     "text": [
      "WARNING: FITSFixedWarning: 'celfix' made the change 'Success'. [astropy.wcs.wcs]\n"
     ]
    },
    {
     "data": {
      "image/png": "[encoded data removed]",
      "text/plain": [
       "<Figure size 640x480 with 1 Axes>"
      ]
     },
     "metadata": {},
     "output_type": "display_data"
    }
   ],
   "source": [
    "import matplotlib.pyplot as plt\n",
    "from astropy.wcs import WCS\n",
    "from astropy.visualization.wcsaxes import WCSAxes\n",
    "\n",
    "plot_map = Cube.load(\"data/Loop4_co/N1/Loop4N1_FinalJS.fits\")[0,:,:]\n",
    "plot_map.save(\"tt.fits\")\n",
    "\n",
    "fig = plt.figure()\n",
    "# The axes are set to have celestial coordinates\n",
    "wcs = WCS(plot_map.header)\n",
    "ax = WCSAxes(fig, [0.1, 0.1, 0.8, 0.8], wcs=wcs)\n",
    "fig.add_axes(ax)\n",
    "ax.imshow(plot_map.data, origin=\"lower\")\n",
    "plt.show()"
   ]
  },
  {
   "cell_type": "code",
   "execution_count": 24,
   "metadata": {},
   "outputs": [],
   "source": [
    "xx, yy = np.meshgrid(np.arange(3), np.arange(3))\n",
    "data = xx + 2*yy\n",
    "header = Header(\n",
    "    cards=(\n",
    "    fits.Card(\"CRPIX1\", 1),\n",
    "    fits.Card(\"CRPIX2\", 1),\n",
    "    fits.Card(\"CDELT1\", 1),\n",
    "    fits.Card(\"CDELT2\", 1),\n",
    "    fits.Card(\"CRVAL1\", 0),\n",
    "    fits.Card(\"CRVAL2\", 0),\n",
    "    fits.Card(\"CTYPE1\", \"RA---GLS\"),\n",
    "    fits.Card(\"CTYPE2\", \"DEC--GLS\"),\n",
    "    )\n",
    ")\n",
    "fits.writeto(\"test_map.fits\", data, header, overwrite=True)"
   ]
  },
  {
   "cell_type": "code",
   "execution_count": null,
   "metadata": {},
   "outputs": [],
   "source": []
  }
 ],
 "metadata": {
  "kernelspec": {
   "display_name": "Python 3",
   "language": "python",
   "name": "python3"
  },
  "language_info": {
   "codemirror_mode": {
    "name": "ipython",
    "version": 3
   },
   "file_extension": ".py",
   "mimetype": "text/x-python",
   "name": "python",
   "nbconvert_exporter": "python",
   "pygments_lexer": "ipython3",
   "version": "3.12.3"
  }
 },
 "nbformat": 4,
 "nbformat_minor": 2
}
