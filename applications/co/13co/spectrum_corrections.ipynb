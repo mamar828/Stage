{
 "cells": [
  {
   "cell_type": "code",
   "execution_count": null,
   "metadata": {},
   "outputs": [],
   "source": [
    "from astropy.io import fits\n",
    "from eztcolors import Colors as C"
   ]
  },
  {
   "cell_type": "markdown",
   "metadata": {},
   "source": [
    "### Spectrum combinations"
   ]
  },
  {
   "cell_type": "code",
   "execution_count": null,
   "metadata": {},
   "outputs": [],
   "source": [
    "pw2n_1 = fits.open(\"data/Loop4_co/13co_spectrums/p/pw2n-1-s.fits\")[0]\n",
    "pw2n_2 = fits.open(\"data/Loop4_co/13co_spectrums/p/pw2n-2-s.fits\")[0]\n",
    "\n",
    "assert pw2n_1.header[\"OBJECT\"] == pw2n_2.header[\"OBJECT\"], f\"{C.LIGHT_RED}Not adding the same object{C.END}\"\n",
    "\n",
    "pw2n_sum = (pw2n_1.data + pw2n_2.data) / 2\n",
    "\n",
    "fits.writeto(\"data/Loop4_co/13co_spectrums/p/pw2n-s.fits\", pw2n_sum, pw2n_1.header, output_verify=\"warn\")\n",
    "\n",
    "\n",
    "pwn2_1 = fits.open(\"data/Loop4_co/13co_spectrums/p/pwn2-1-s.fits\")[0]\n",
    "pwn2_2 = fits.open(\"data/Loop4_co/13co_spectrums/p/pwn2-2-s.fits\")[0]\n",
    "\n",
    "assert pwn2_1.header[\"OBJECT\"] == pwn2_2.header[\"OBJECT\"], f\"{C.LIGHT_RED}Not adding the same object{C.END}\"\n",
    "\n",
    "pwn2_sum = (pwn2_1.data + pwn2_2.data) / 2\n",
    "\n",
    "fits.writeto(\"data/Loop4_co/13co_spectrums/p/pwn2-s.fits\", pwn2_sum, pwn2_1.header, output_verify=\"warn\")"
   ]
  }
 ],
 "metadata": {
  "kernelspec": {
   "display_name": "Python 3",
   "language": "python",
   "name": "python3"
  },
  "language_info": {
   "codemirror_mode": {
    "name": "ipython",
    "version": 3
   },
   "file_extension": ".py",
   "mimetype": "text/x-python",
   "name": "python",
   "nbconvert_exporter": "python",
   "pygments_lexer": "ipython3",
   "version": "3.12.3"
  }
 },
 "nbformat": 4,
 "nbformat_minor": 2
}
