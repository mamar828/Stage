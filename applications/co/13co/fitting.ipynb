{
 "cells": [
  {
   "cell_type": "code",
   "execution_count": null,
   "metadata": {},
   "outputs": [],
   "source": [
    "import numpy as np\n",
    "import graphinglib as gl\n",
    "from collections import namedtuple\n",
    "import astropy.units as u\n",
    "\n",
    "from src.hdu.cubes.cube_co import CubeCO\n",
    "from src.spectrums.spectrum_co import SpectrumCO\n",
    "from src.spectrums.spectrum import Spectrum\n",
    "from src.hdu.tesseract import Tesseract\n",
    "from src.hdu.maps.grouped_maps import GroupedMaps\n",
    "from src.hdu.maps.convenient_funcs import get_FWHM, get_speed\n",
    "from src.coordinates.ds9_coords import DS9Coords"
   ]
  },
  {
   "cell_type": "markdown",
   "metadata": {},
   "source": [
    "### Loop4N1 ```GOOD```\n",
    "### Loop4N2 ```GOOD```\n",
    "### Loop4N4 ```GOOD```\n",
    "### Loop4p  ``````"
   ]
  },
  {
   "cell_type": "markdown",
   "metadata": {},
   "source": [
    "# Loop4N1"
   ]
  },
  {
   "cell_type": "code",
   "execution_count": null,
   "metadata": {},
   "outputs": [],
   "source": [
    "N1 = CubeCO.load(\"data/Loop4_co/N1/13co/Loop4N1_13co.fits\")[500:800,:,:]\n",
    "N1.header[\"COMMENT\"] = \"Loop4N1_13co was sliced at channel 500; all values of mean must then be \" \\\n",
    "                     + \"added to 500 to account for this shift.\""
   ]
  },
  {
   "cell_type": "markdown",
   "metadata": {},
   "source": [
    "## Fitting"
   ]
  },
  {
   "cell_type": "code",
   "execution_count": null,
   "metadata": {},
   "outputs": [],
   "source": [
    "if __name__ == \"__main__\":\n",
    "    spectrum_parameters = {\n",
    "        \"PEAK_PROMINENCE\" : 0.2,\n",
    "        \"PEAK_MINIMUM_HEIGHT_SIGMAS\" : 4,\n",
    "        \"PEAK_MINIMUM_DISTANCE\" : 6,\n",
    "        \"PEAK_WIDTH\" : 3,\n",
    "        \"NOISE_CHANNELS\" : slice(0,150),\n",
    "        \"INITIAL_GUESSES_BINNING\" : 2,\n",
    "        \"MAX_RESIDUE_SIGMAS\" : 100,\n",
    "        \"STDDEV_DETECTION_THRESHOLD\" : 0.1,\n",
    "        \"INITIAL_GUESSES_MAXIMUM_GAUSSIAN_STDDEV\" : 10,\n",
    "        \"INITIAL_GUESSES_MINIMUM_GAUSSIAN_STDDEV\" : 1,\n",
    "    }\n",
    "\n",
    "    N1.header[\"COMMENT\"] = f\"FITTING PARAMETERS \"\n",
    "    for key, value in spectrum_parameters.items():\n",
    "        N1.header[\"COMMENT\"] = f\"{key} = {value}\"\n",
    "\n",
    "    chi2, fit_results = N1.fit(spectrum_parameters)\n",
    "    chi2.save(\"data/Loop4_co/N1/13co/chi2.fits\")\n",
    "    fit_results.save(\"data/Loop4_co/N1/13co/tesseract.fits\")"
   ]
  },
  {
   "cell_type": "markdown",
   "metadata": {},
   "source": [
    "## Verifications"
   ]
  },
  {
   "cell_type": "code",
   "execution_count": null,
   "metadata": {},
   "outputs": [],
   "source": [
    "total_object_N1 = Tesseract.load(f\"data/Loop4_co/N1/13co/tesseract.fits\")\n",
    "fig = gl.Figure(size=(10,7), figure_style=\"dim\")\n",
    "fig.add_elements(*total_object_N1.get_spectrum_plot(N1, DS9Coords(14, 33)))\n",
    "fig.show()"
   ]
  },
  {
   "cell_type": "markdown",
   "metadata": {},
   "source": [
    "# Loop4N2"
   ]
  },
  {
   "cell_type": "code",
   "execution_count": null,
   "metadata": {},
   "outputs": [],
   "source": [
    "N2 = CubeCO.load(\"data/Loop4_co/N2/13co/Loop4N2_13co.fits\")[3200:4000,:,:]\n",
    "N2.header[\"COMMENT\"] = \"Loop4N2_13co was sliced at channel 3200; all values of mean must then be \" \\\n",
    "                     + \"added to 3200 to account for this shift.\""
   ]
  },
  {
   "cell_type": "markdown",
   "metadata": {},
   "source": [
    "## Fitting"
   ]
  },
  {
   "cell_type": "code",
   "execution_count": null,
   "metadata": {},
   "outputs": [],
   "source": [
    "if __name__ == \"__main__\":\n",
    "    spectrum_parameters = {\n",
    "        \"PEAK_PROMINENCE\" : 0.2,\n",
    "        \"PEAK_MINIMUM_HEIGHT_SIGMAS\" : 4,\n",
    "        \"PEAK_MINIMUM_DISTANCE\" : 200,  # Force a single component\n",
    "        \"PEAK_WIDTH\" : 3,\n",
    "        \"NOISE_CHANNELS\" : slice(0,600),\n",
    "        \"INITIAL_GUESSES_BINNING\" : 2,\n",
    "        \"MAX_RESIDUE_SIGMAS\" : 100,\n",
    "        \"STDDEV_DETECTION_THRESHOLD\" : 0.1,\n",
    "        \"INITIAL_GUESSES_MAXIMUM_GAUSSIAN_STDDEV\" : 10,\n",
    "        \"INITIAL_GUESSES_MINIMUM_GAUSSIAN_STDDEV\" : 1,\n",
    "    }\n",
    "\n",
    "    N2.header[\"COMMENT\"] = f\"FITTING PARAMETERS \"\n",
    "    for key, value in spectrum_parameters.items():\n",
    "        N2.header[\"COMMENT\"] = f\"{key} = {value}\"\n",
    "\n",
    "    chi2, fit_results = N2.fit(spectrum_parameters)\n",
    "    chi2.save(\"data/Loop4_co/N2/13co/chi2.fits\")\n",
    "    fit_results.save(\"data/Loop4_co/N2/13co/tesseract.fits\")"
   ]
  },
  {
   "cell_type": "markdown",
   "metadata": {},
   "source": [
    "## Verifications"
   ]
  },
  {
   "cell_type": "code",
   "execution_count": null,
   "metadata": {},
   "outputs": [],
   "source": [
    "total_object_N2 = Tesseract.load(f\"data/Loop4_co/N2/13co/tesseract.fits\")\n",
    "fig = gl.Figure(size=(10,7), figure_style=\"dim\")\n",
    "fig.add_elements(*total_object_N2.get_spectrum_plot(N2, DS9Coords(5, 10)))\n",
    "fig.show()"
   ]
  },
  {
   "cell_type": "markdown",
   "metadata": {},
   "source": [
    "# Loop4N4"
   ]
  },
  {
   "cell_type": "markdown",
   "metadata": {},
   "source": [
    "Warning : the N4S4 cube needs to be fitted on its own as it does not feature the same spectral resolution as the other cubes."
   ]
  },
  {
   "cell_type": "code",
   "execution_count": null,
   "metadata": {},
   "outputs": [],
   "source": [
    "N4 = CubeCO.load(\"data/Loop4_co/N4/13co/Loop4N4_13co.fits\")[3200:4000,:,:]\n",
    "N4.header[\"COMMENT\"] = \"Loop4N4_13co was sliced at channel 3200; all values of mean must then be \" \\\n",
    "                     + \"added to 3200 to account for this shift.\""
   ]
  },
  {
   "cell_type": "markdown",
   "metadata": {},
   "source": [
    "## Fitting"
   ]
  },
  {
   "cell_type": "code",
   "execution_count": null,
   "metadata": {},
   "outputs": [],
   "source": [
    "if __name__ == \"__main__\":\n",
    "    spectrum_parameters = {\n",
    "        \"PEAK_PROMINENCE\" : 0.2,\n",
    "        \"PEAK_MINIMUM_HEIGHT_SIGMAS\" : 4,\n",
    "        \"PEAK_MINIMUM_DISTANCE\" : 200,  # Force a single component\n",
    "        \"PEAK_WIDTH\" : 3,\n",
    "        \"NOISE_CHANNELS\" : slice(0,600),\n",
    "        \"INITIAL_GUESSES_BINNING\" : 2,\n",
    "        \"MAX_RESIDUE_SIGMAS\" : 100,\n",
    "        \"STDDEV_DETECTION_THRESHOLD\" : 0.1,\n",
    "        \"INITIAL_GUESSES_MAXIMUM_GAUSSIAN_STDDEV\" : 10,\n",
    "        \"INITIAL_GUESSES_MINIMUM_GAUSSIAN_STDDEV\" : 1,\n",
    "    }\n",
    "\n",
    "    N4.header[\"COMMENT\"] = f\"FITTING PARAMETERS \"\n",
    "    for key, value in spectrum_parameters.items():\n",
    "        N4.header[\"COMMENT\"] = f\"{key} = {value}\"\n",
    "\n",
    "    chi2, fit_results = N4.fit(spectrum_parameters)\n",
    "    chi2.save(\"data/Loop4_co/N4/13co/chi2.fits\")\n",
    "    fit_results.save(\"data/Loop4_co/N4/13co/tesseract.fits\")"
   ]
  },
  {
   "cell_type": "markdown",
   "metadata": {},
   "source": [
    "## Verifications"
   ]
  },
  {
   "cell_type": "code",
   "execution_count": null,
   "metadata": {},
   "outputs": [],
   "source": [
    "total_object_N4 = Tesseract.load(f\"data/Loop4_co/N4/13co/tesseract.fits\")\n",
    "fig = gl.Figure(size=(10,7), figure_style=\"dim\")\n",
    "fig.add_elements(*total_object_N4.get_spectrum_plot(N4, DS9Coords(5, 10)))\n",
    "fig.show()"
   ]
  },
  {
   "cell_type": "markdown",
   "metadata": {},
   "source": [
    "## N4S4 cube"
   ]
  },
  {
   "cell_type": "code",
   "execution_count": null,
   "metadata": {},
   "outputs": [],
   "source": [
    "N4S4 = CubeCO.load(\"data/Loop4_co/N4/13co/N4S4.fits\")[400:750,:,:]\n",
    "N4S4.header[\"COMMENT\"] = \"N4S4 was sliced at channel 400; all values of mean must then be \" \\\n",
    "                     + \"added to 400 to account for this shift.\"\n",
    "\n",
    "if __name__ == \"__main__\":\n",
    "    spectrum_parameters = {\n",
    "        \"PEAK_PROMINENCE\" : 0.2,\n",
    "        \"PEAK_MINIMUM_HEIGHT_SIGMAS\" : 4,\n",
    "        \"PEAK_MINIMUM_DISTANCE\" : 200,  # Force a single component\n",
    "        \"PEAK_WIDTH\" : 3,\n",
    "        \"NOISE_CHANNELS\" : slice(0,200),\n",
    "        \"INITIAL_GUESSES_BINNING\" : 2,\n",
    "        \"MAX_RESIDUE_SIGMAS\" : 100,\n",
    "        \"STDDEV_DETECTION_THRESHOLD\" : 0.1,\n",
    "        \"INITIAL_GUESSES_MAXIMUM_GAUSSIAN_STDDEV\" : 10,\n",
    "        \"INITIAL_GUESSES_MINIMUM_GAUSSIAN_STDDEV\" : 1,\n",
    "    }\n",
    "\n",
    "    N4S4.header[\"COMMENT\"] = f\"FITTING PARAMETERS \"\n",
    "    for key, value in spectrum_parameters.items():\n",
    "        N4S4.header[\"COMMENT\"] = f\"{key} = {value}\"\n",
    "\n",
    "    chi2, fit_results = N4S4.fit(spectrum_parameters)\n",
    "    chi2.save(\"data/Loop4_co/N4/13co/chi2_N4S4.fits\")\n",
    "    fit_results.save(\"data/Loop4_co/N4/13co/tesseract_N4S4.fits\")"
   ]
  },
  {
   "cell_type": "markdown",
   "metadata": {},
   "source": [
    "### Verifications"
   ]
  },
  {
   "cell_type": "code",
   "execution_count": null,
   "metadata": {},
   "outputs": [],
   "source": [
    "total_object_N4S4 = Tesseract.load(f\"data/Loop4_co/N4/13co/tesseract_N4S4.fits\")\n",
    "fig = gl.Figure(size=(10,7), figure_style=\"dim\")\n",
    "fig.add_elements(*total_object_N4S4.get_spectrum_plot(N4S4, DS9Coords(3, 3)))\n",
    "fig.show()"
   ]
  }
 ],
 "metadata": {
  "kernelspec": {
   "display_name": "Python 3",
   "language": "python",
   "name": "python3"
  },
  "language_info": {
   "codemirror_mode": {
    "name": "ipython",
    "version": 3
   },
   "file_extension": ".py",
   "mimetype": "text/x-python",
   "name": "python",
   "nbconvert_exporter": "python",
   "pygments_lexer": "ipython3",
   "version": "3.12.3"
  }
 },
 "nbformat": 4,
 "nbformat_minor": 2
}
