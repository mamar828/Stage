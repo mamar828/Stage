{
 "cells": [
  {
   "cell_type": "code",
   "execution_count": 1,
   "metadata": {},
   "outputs": [],
   "source": [
    "import numpy as np\n",
    "import graphinglib as gl\n",
    "from collections import namedtuple\n",
    "import astropy.units as u\n",
    "\n",
    "from src.hdu.cubes.cube_co import CubeCO\n",
    "from src.spectrums.spectrum_co import SpectrumCO\n",
    "from src.spectrums.spectrum import Spectrum\n",
    "from src.hdu.tesseract import Tesseract\n",
    "from src.hdu.maps.grouped_maps import GroupedMaps\n",
    "from src.hdu.maps.convenient_funcs import get_FWHM, get_speed\n",
    "from src.coordinates.ds9_coords import DS9Coords"
   ]
  },
  {
   "cell_type": "markdown",
   "metadata": {},
   "source": [
    "# Loop4N1"
   ]
  },
  {
   "cell_type": "code",
   "execution_count": null,
   "metadata": {},
   "outputs": [],
   "source": [
    "N1 = CubeCO.load(\"data/Loop4_co/N1/Loop4N1_FinalJS.fits\")[500:800,:,:].bin((1,2,2))\n",
    "N1.header[\"COMMENT\"] = \"Loop4N1_FinalJS was binned 2x2.\"\n",
    "N1.header[\"COMMENT\"] = \"Loop4N1_FinalJS was sliced at channel 500; all values of mean must then be \" \\\n",
    "                        + \"added to 500 to account for this shift.\"\n",
    "# N1.save(\"data/Loop4_co/N1/Loop4N1_FinalJS_bin2.fits\")"
   ]
  },
  {
   "cell_type": "markdown",
   "metadata": {},
   "source": [
    "## Fitting"
   ]
  },
  {
   "cell_type": "code",
   "execution_count": null,
   "metadata": {},
   "outputs": [],
   "source": [
    "if __name__ == \"__main__\":\n",
    "    spectrum_parameters = {\n",
    "        \"PEAK_PROMINENCE\" : 0.3,\n",
    "        \"PEAK_MINIMUM_DISTANCE\" : 6,\n",
    "        \"PEAK_WIDTH\" : 2,\n",
    "        \"INITIAL_GUESSES_BINNING\" : 2,\n",
    "        \"MAX_RESIDUE_SIGMAS\" : 6,\n",
    "        \"INITIAL_GUESSES_MAXIMUM_GAUSSIAN_STDDEV\" : 10\n",
    "    }\n",
    "\n",
    "    chi2, fit_results = N1.fit(spectrum_parameters)\n",
    "    chi2.save(\"data/Loop4_co/N1/chi2.fits\")\n",
    "    fit_results.save(\"data/Loop4_co/N1/tesseract.fits\")"
   ]
  },
  {
   "cell_type": "markdown",
   "metadata": {},
   "source": [
    "## Slicing"
   ]
  },
  {
   "cell_type": "code",
   "execution_count": null,
   "metadata": {},
   "outputs": [],
   "source": [
    "print(f\"Targeted channel : {N1.header.get_coordinate(-4000, 0)}\")\n",
    "fit_results = Tesseract.load(\"data/Loop4_co/N1/tesseract.fits\")\n",
    "\n",
    "splits = [\"lower_left\", \"lower_right\", \"upper\"]\n",
    "tesseract_splits = namedtuple(\"tesseract_splits\", splits)\n",
    "lower, upper = fit_results.split(14, 2)\n",
    "lower_left, lower_right = lower.split(10, 3)\n",
    "tesseract_splits = tesseract_splits(lower_left, lower_right, upper)\n",
    "\n",
    "for split in splits:\n",
    "    getattr(tesseract_splits, split).save(f\"data/Loop4_co/N1/tesseract_splits/{split}.fits\")\n",
    "\n",
    "upper = tesseract_splits.upper.filter(slice(200, None))\n",
    "lower_left = tesseract_splits.lower_left.filter(slice(197, None))\n",
    "lower_right = tesseract_splits.lower_right.filter(slice(190, None))\n",
    "\n",
    "lower = lower_left.concatenate(lower_right, 3)\n",
    "total_object_N1 = lower.concatenate(upper, 2)\n",
    "\n",
    "# Compressing the Tesseract\n",
    "total_object_N1 = total_object_N1.compress()\n",
    "total_object_N1.save(f\"data/Loop4_co/N1/object.fits\")"
   ]
  },
  {
   "cell_type": "markdown",
   "metadata": {},
   "source": [
    "## Verifications"
   ]
  },
  {
   "cell_type": "code",
   "execution_count": null,
   "metadata": {},
   "outputs": [],
   "source": [
    "total_object_N1 = Tesseract.load(f\"data/Loop4_co/N1/object.fits\")\n",
    "fig = gl.Figure(size=(10,7), figure_style=\"dim\")\n",
    "fig.add_elements(*total_object_N1.get_spectrum_plot(N1, DS9Coords(11, 10)))\n",
    "fig.show()"
   ]
  },
  {
   "cell_type": "markdown",
   "metadata": {},
   "source": [
    "## Refits"
   ]
  },
  {
   "cell_type": "code",
   "execution_count": null,
   "metadata": {},
   "outputs": [],
   "source": [
    "# Working in DS9Coods\n",
    "spectrums = {\n",
    "    (11, 10) : N1[:,*DS9Coords(11, 10)],\n",
    "    (14, 10) : N1[:,*DS9Coords(14, 10)]\n",
    "}\n",
    "\n",
    "for coords, spectrum in spectrums.items():\n",
    "    total_object_N1[0,*DS9Coords(*coords)] = np.NAN\n",
    "\n",
    "total_object_N1.compress().save(\"data/Loop4_co/N1/object_filtered.fits\")"
   ]
  }
 ],
 "metadata": {
  "kernelspec": {
   "display_name": "Python 3",
   "language": "python",
   "name": "python3"
  },
  "language_info": {
   "codemirror_mode": {
    "name": "ipython",
    "version": 3
   },
   "file_extension": ".py",
   "mimetype": "text/x-python",
   "name": "python",
   "nbconvert_exporter": "python",
   "pygments_lexer": "ipython3",
   "version": "3.12.3"
  }
 },
 "nbformat": 4,
 "nbformat_minor": 2
}
