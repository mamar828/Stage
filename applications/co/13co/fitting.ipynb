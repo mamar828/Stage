{
 "cells": [
  {
   "cell_type": "code",
   "execution_count": null,
   "metadata": {},
   "outputs": [],
   "source": [
    "import numpy as np\n",
    "import graphinglib as gl\n",
    "from collections import namedtuple\n",
    "import astropy.units as u\n",
    "\n",
    "from src.hdu.cubes.cube_co import CubeCO\n",
    "from src.spectrums.spectrum_co import SpectrumCO\n",
    "from src.spectrums.spectrum import Spectrum\n",
    "from src.hdu.tesseract import Tesseract\n",
    "from src.hdu.maps.grouped_maps import GroupedMaps\n",
    "from src.hdu.maps.convenient_funcs import get_FWHM, get_speed\n",
    "from src.coordinates.ds9_coords import DS9Coords"
   ]
  },
  {
   "cell_type": "markdown",
   "metadata": {},
   "source": [
    "# Loop4N1"
   ]
  },
  {
   "cell_type": "code",
   "execution_count": null,
   "metadata": {},
   "outputs": [],
   "source": [
    "N1 = CubeCO.load(\"data/Loop4_co/N1/13co/Loop4N1_13co.fits\")[500:800,:,:]\n",
    "N1.header[\"COMMENT\"] = \"Loop4N1_13co was sliced at channel 500; all values of mean must then be \" \\\n",
    "                     + \"added to 500 to account for this shift.\""
   ]
  },
  {
   "cell_type": "markdown",
   "metadata": {},
   "source": [
    "## Polyfit adjustments"
   ]
  },
  {
   "cell_type": "code",
   "execution_count": null,
   "metadata": {},
   "outputs": [],
   "source": [
    "correction = np.full_like(N1.data, 0)\n",
    "for y, map_ in enumerate(N1):\n",
    "    for x, spectrum in enumerate(map_):\n",
    "        if x <= 19 and y >= 31:\n",
    "            if not spectrum.isnan:\n",
    "                polyfit = spectrum.polyfit(3)\n",
    "                correction[:,y,x] = polyfit.function(np.arange(300))\n",
    "                # print(x+1, y+1)\n",
    "                # fig = gl.Figure(size=(10,7), figure_style=\"dark\")\n",
    "                # fig.add_elements(spectrum.plot, polyfit)\n",
    "                # fig.show()\n",
    "\n",
    "N1.data -= correction\n",
    "N1.header[\"COMMENT\"] = \"Loop4N1_13co was corrected for incorrect polyfit adjustment for upper left pixels.\"\n",
    "N1.save(\"data/Loop4_co/N1/13co/Loop4N1_13co_corrected.fits\")"
   ]
  },
  {
   "cell_type": "markdown",
   "metadata": {},
   "source": [
    "## Fitting"
   ]
  },
  {
   "cell_type": "code",
   "execution_count": null,
   "metadata": {},
   "outputs": [],
   "source": [
    "N1 = CubeCO.load(\"data/Loop4_co/N1/13co/Loop4N1_13co_corrected.fits\")\n",
    "\n",
    "if __name__ == \"__main__\":\n",
    "    spectrum_parameters = {\n",
    "        \"PEAK_PROMINENCE\" : 0.2,\n",
    "        \"PEAK_MINIMUM_HEIGHT_SIGMAS\" : 4,\n",
    "        \"PEAK_MINIMUM_DISTANCE\" : 6,\n",
    "        \"PEAK_WIDTH\" : 3,\n",
    "        \"NOISE_CHANNELS\" : slice(0,150),\n",
    "        \"INITIAL_GUESSES_BINNING\" : 2,\n",
    "        \"MAX_RESIDUE_SIGMAS\" : 100,\n",
    "        \"STDDEV_DETECTION_THRESHOLD\" : 0.1,\n",
    "        \"INITIAL_GUESSES_MAXIMUM_GAUSSIAN_STDDEV\" : 10,\n",
    "        \"INITIAL_GUESSES_MINIMUM_GAUSSIAN_STDDEV\" : 1,\n",
    "    }\n",
    "\n",
    "    N1.header[\"COMMENT\"] = f\"FITTING PARAMETERS \"\n",
    "    for key, value in spectrum_parameters.items():\n",
    "        N1.header[\"COMMENT\"] = f\"{key} = {value}\"\n",
    "\n",
    "    chi2, fit_results = N1.fit(spectrum_parameters)\n",
    "    chi2.save(\"data/Loop4_co/N1/13co/chi2.fits\")\n",
    "    fit_results.save(\"data/Loop4_co/N1/13co/tesseract.fits\")"
   ]
  },
  {
   "cell_type": "markdown",
   "metadata": {},
   "source": [
    "## Verifications"
   ]
  },
  {
   "cell_type": "code",
   "execution_count": null,
   "metadata": {},
   "outputs": [],
   "source": [
    "tesseract_N1 = Tesseract.load(f\"data/Loop4_co/N1/13co/tesseract.fits\")\n",
    "fig = gl.Figure(size=(10,7), figure_style=\"dim\")\n",
    "fig.add_elements(*tesseract_N1.get_spectrum_plot(N1, DS9Coords(10, 37)))\n",
    "fig.show()"
   ]
  },
  {
   "cell_type": "markdown",
   "metadata": {},
   "source": [
    "# Loop4N2"
   ]
  },
  {
   "cell_type": "code",
   "execution_count": null,
   "metadata": {},
   "outputs": [],
   "source": [
    "N2 = CubeCO.load(\"data/Loop4_co/N2/13co/Loop4N2_13co.fits\")[3200:4000,:,:]\n",
    "N2.header[\"COMMENT\"] = \"Loop4N2_13co was sliced at channel 3200; all values of mean must then be \" \\\n",
    "                     + \"added to 3200 to account for this shift.\""
   ]
  },
  {
   "cell_type": "markdown",
   "metadata": {},
   "source": [
    "## Fitting"
   ]
  },
  {
   "cell_type": "code",
   "execution_count": null,
   "metadata": {},
   "outputs": [],
   "source": [
    "if __name__ == \"__main__\":\n",
    "    spectrum_parameters = {\n",
    "        \"PEAK_PROMINENCE\" : 0.2,\n",
    "        \"PEAK_MINIMUM_HEIGHT_SIGMAS\" : 4,\n",
    "        \"PEAK_MINIMUM_DISTANCE\" : 200,  # Force a single component\n",
    "        \"PEAK_WIDTH\" : 3,\n",
    "        \"NOISE_CHANNELS\" : slice(0,600),\n",
    "        \"INITIAL_GUESSES_BINNING\" : 2,\n",
    "        \"MAX_RESIDUE_SIGMAS\" : 100,\n",
    "        \"STDDEV_DETECTION_THRESHOLD\" : 0.1,\n",
    "        \"INITIAL_GUESSES_MAXIMUM_GAUSSIAN_STDDEV\" : 10,\n",
    "        \"INITIAL_GUESSES_MINIMUM_GAUSSIAN_STDDEV\" : 1,\n",
    "    }\n",
    "\n",
    "    N2.header[\"COMMENT\"] = f\"FITTING PARAMETERS \"\n",
    "    for key, value in spectrum_parameters.items():\n",
    "        N2.header[\"COMMENT\"] = f\"{key} = {value}\"\n",
    "\n",
    "    chi2, fit_results = N2.fit(spectrum_parameters)\n",
    "    chi2.save(\"data/Loop4_co/N2/13co/chi2.fits\")\n",
    "    fit_results.save(\"data/Loop4_co/N2/13co/tesseract.fits\")"
   ]
  },
  {
   "cell_type": "markdown",
   "metadata": {},
   "source": [
    "## Verifications"
   ]
  },
  {
   "cell_type": "code",
   "execution_count": null,
   "metadata": {},
   "outputs": [],
   "source": [
    "tesseract_N2 = Tesseract.load(f\"data/Loop4_co/N2/13co/tesseract.fits\")\n",
    "fig = gl.Figure(size=(10,7), figure_style=\"dim\")\n",
    "fig.add_elements(*tesseract_N2.get_spectrum_plot(N2, DS9Coords(5, 10)))\n",
    "fig.show()"
   ]
  },
  {
   "cell_type": "markdown",
   "metadata": {},
   "source": [
    "# Loop4N4"
   ]
  },
  {
   "cell_type": "markdown",
   "metadata": {},
   "source": [
    "Warning : the N4S4 cube needs to be fitted on its own as it does not feature the same spectral resolution as the other cubes."
   ]
  },
  {
   "cell_type": "code",
   "execution_count": null,
   "metadata": {},
   "outputs": [],
   "source": [
    "N4 = CubeCO.load(\"data/Loop4_co/N4/13co/Loop4N4_13co.fits\")[3200:4000,:,:]\n",
    "N4.header[\"COMMENT\"] = \"Loop4N4_13co was sliced at channel 3200; all values of mean must then be \" \\\n",
    "                     + \"added to 3200 to account for this shift.\""
   ]
  },
  {
   "cell_type": "markdown",
   "metadata": {},
   "source": [
    "## Fitting"
   ]
  },
  {
   "cell_type": "code",
   "execution_count": null,
   "metadata": {},
   "outputs": [],
   "source": [
    "if __name__ == \"__main__\":\n",
    "    spectrum_parameters = {\n",
    "        \"PEAK_PROMINENCE\" : 0.2,\n",
    "        \"PEAK_MINIMUM_HEIGHT_SIGMAS\" : 4,\n",
    "        \"PEAK_MINIMUM_DISTANCE\" : 200,  # Force a single component\n",
    "        \"PEAK_WIDTH\" : 3,\n",
    "        \"NOISE_CHANNELS\" : slice(0,600),\n",
    "        \"INITIAL_GUESSES_BINNING\" : 2,\n",
    "        \"MAX_RESIDUE_SIGMAS\" : 100,\n",
    "        \"STDDEV_DETECTION_THRESHOLD\" : 0.1,\n",
    "        \"INITIAL_GUESSES_MAXIMUM_GAUSSIAN_STDDEV\" : 10,\n",
    "        \"INITIAL_GUESSES_MINIMUM_GAUSSIAN_STDDEV\" : 1,\n",
    "    }\n",
    "\n",
    "    N4.header[\"COMMENT\"] = f\"FITTING PARAMETERS \"\n",
    "    for key, value in spectrum_parameters.items():\n",
    "        N4.header[\"COMMENT\"] = f\"{key} = {value}\"\n",
    "\n",
    "    chi2, fit_results = N4.fit(spectrum_parameters)\n",
    "    chi2.save(\"data/Loop4_co/N4/13co/chi2.fits\")\n",
    "    fit_results.save(\"data/Loop4_co/N4/13co/tesseract.fits\")"
   ]
  },
  {
   "cell_type": "markdown",
   "metadata": {},
   "source": [
    "## Verifications"
   ]
  },
  {
   "cell_type": "code",
   "execution_count": null,
   "metadata": {},
   "outputs": [],
   "source": [
    "tesseract_N4 = Tesseract.load(f\"data/Loop4_co/N4/13co/tesseract.fits\")\n",
    "fig = gl.Figure(size=(10,7), figure_style=\"dim\")\n",
    "fig.add_elements(*tesseract_N4.get_spectrum_plot(N4, DS9Coords(5, 10)))\n",
    "fig.show()"
   ]
  },
  {
   "cell_type": "markdown",
   "metadata": {},
   "source": [
    "## N4S4 cube"
   ]
  },
  {
   "cell_type": "code",
   "execution_count": null,
   "metadata": {},
   "outputs": [],
   "source": [
    "N4S4 = CubeCO.load(\"data/Loop4_co/N4/13co/N4S4.fits\")[400:750,:,:]\n",
    "N4S4.header[\"COMMENT\"] = \"N4S4 was sliced at channel 400; all values of mean must then be \" \\\n",
    "                     + \"added to 400 to account for this shift.\"\n",
    "\n",
    "if __name__ == \"__main__\":\n",
    "    spectrum_parameters = {\n",
    "        \"PEAK_PROMINENCE\" : 0.2,\n",
    "        \"PEAK_MINIMUM_HEIGHT_SIGMAS\" : 4,\n",
    "        \"PEAK_MINIMUM_DISTANCE\" : 200,  # Force a single component\n",
    "        \"PEAK_WIDTH\" : 3,\n",
    "        \"NOISE_CHANNELS\" : slice(0,200),\n",
    "        \"INITIAL_GUESSES_BINNING\" : 2,\n",
    "        \"MAX_RESIDUE_SIGMAS\" : 100,\n",
    "        \"STDDEV_DETECTION_THRESHOLD\" : 0.1,\n",
    "        \"INITIAL_GUESSES_MAXIMUM_GAUSSIAN_STDDEV\" : 10,\n",
    "        \"INITIAL_GUESSES_MINIMUM_GAUSSIAN_STDDEV\" : 1,\n",
    "    }\n",
    "\n",
    "    N4S4.header[\"COMMENT\"] = f\"FITTING PARAMETERS \"\n",
    "    for key, value in spectrum_parameters.items():\n",
    "        N4S4.header[\"COMMENT\"] = f\"{key} = {value}\"\n",
    "\n",
    "    chi2, fit_results = N4S4.fit(spectrum_parameters)\n",
    "    chi2.save(\"data/Loop4_co/N4/13co/chi2_N4S4.fits\")\n",
    "    fit_results.save(\"data/Loop4_co/N4/13co/tesseract_N4S4.fits\")"
   ]
  },
  {
   "cell_type": "markdown",
   "metadata": {},
   "source": [
    "### Verifications"
   ]
  },
  {
   "cell_type": "code",
   "execution_count": null,
   "metadata": {},
   "outputs": [],
   "source": [
    "tesseract_N4S4 = Tesseract.load(f\"data/Loop4_co/N4/13co/tesseract_N4S4.fits\")\n",
    "fig = gl.Figure(size=(10,7), figure_style=\"dim\")\n",
    "fig.add_elements(*tesseract_N4S4.get_spectrum_plot(N4S4, DS9Coords(3, 3)))\n",
    "fig.show()"
   ]
  },
  {
   "cell_type": "markdown",
   "metadata": {},
   "source": [
    "### Assembling the tesseracts\n",
    "The N4S4 subregion has been chosen to not be included in the final Tesseract as it only presents two pixels with fitted gaussians. The complications of having a Tesseract that comes from multiple spectral resolutions when it comes to calculations such as standard deviation greatly outweighs the very small quantity of relevant data of this subcube."
   ]
  },
  {
   "cell_type": "markdown",
   "metadata": {},
   "source": [
    "# Loop4p"
   ]
  },
  {
   "cell_type": "code",
   "execution_count": null,
   "metadata": {},
   "outputs": [],
   "source": [
    "p = CubeCO.load(\"data/Loop4_co/p/13co/Loop4p_13co.fits\")[400:800,:,:]\n",
    "p.header[\"COMMENT\"] = \"Loop4p_13co was sliced at channel 400; all values of mean must then be \" \\\n",
    "                    + \"added to 400 to account for this shift.\""
   ]
  },
  {
   "cell_type": "markdown",
   "metadata": {},
   "source": [
    "## Fitting"
   ]
  },
  {
   "cell_type": "code",
   "execution_count": null,
   "metadata": {},
   "outputs": [],
   "source": [
    "if __name__ == \"__main__\":\n",
    "    spectrum_parameters = {\n",
    "        \"PEAK_PROMINENCE\" : 0.1,\n",
    "        \"PEAK_MINIMUM_HEIGHT_SIGMAS\" : 4,\n",
    "        \"PEAK_MINIMUM_DISTANCE\" : 4,\n",
    "        \"PEAK_WIDTH\" : 2,\n",
    "        \"NOISE_CHANNELS\" : slice(0,200),\n",
    "        \"INITIAL_GUESSES_BINNING\" : 1,\n",
    "        \"MAX_RESIDUE_SIGMAS\" : 4,\n",
    "        \"STDDEV_DETECTION_THRESHOLD\" : 0.1,\n",
    "        \"INITIAL_GUESSES_MAXIMUM_GAUSSIAN_STDDEV\" : 10,\n",
    "        \"INITIAL_GUESSES_MINIMUM_GAUSSIAN_STDDEV\" : 1,\n",
    "    }\n",
    "    \n",
    "    p.header[\"COMMENT\"] = f\"FITTING PARAMETERS \"\n",
    "    for key, value in spectrum_parameters.items():\n",
    "        p.header[\"COMMENT\"] = f\"{key} = {value}\"\n",
    "\n",
    "    chi2, fit_results = p.fit(spectrum_parameters)\n",
    "    chi2.save(\"data/Loop4_co/p/13co/chi2.fits\")\n",
    "    fit_results.save(\"data/Loop4_co/p/13co/tesseract.fits\")"
   ]
  },
  {
   "cell_type": "markdown",
   "metadata": {},
   "source": [
    "## Verifications"
   ]
  },
  {
   "cell_type": "code",
   "execution_count": null,
   "metadata": {},
   "outputs": [],
   "source": [
    "tesseract_p = Tesseract.load(f\"data/Loop4_co/p/13co/tesseract.fits\")\n",
    "p = CubeCO.load(\"data/Loop4_co/p/13co/Loop4p_13co.fits\")[400:800,:,:]\n",
    "\n",
    "# for i in range(0, p.data.size // 400):\n",
    "#     y, x = np.unravel_index(i, p.data.shape[1:])\n",
    "#     fig = gl.Figure(size=(10,7), figure_style=\"dim\")\n",
    "#     try:\n",
    "#         fig.add_elements(*tesseract_p.get_spectrum_plot(p, (int(y), int(x))))\n",
    "#         print(x+1, y+1)\n",
    "#         fig.show()\n",
    "#     except KeyError:\n",
    "#         continue\n",
    "    \n",
    "tesseract_p = Tesseract.load(f\"data/Loop4_co/p/13co/tesseract.fits\")\n",
    "fig = gl.Figure(size=(10,7), figure_style=\"dim\")\n",
    "fig.add_elements(*tesseract_p.get_spectrum_plot(p, DS9Coords(24, 19)))\n",
    "fig.show()\n"
   ]
  },
  {
   "cell_type": "markdown",
   "metadata": {},
   "source": [
    "## Refits"
   ]
  },
  {
   "cell_type": "code",
   "execution_count": null,
   "metadata": {},
   "outputs": [],
   "source": [
    "tesseract_p = Tesseract.load(f\"data/Loop4_co/p/13co/tesseract.fits\")\n",
    "\n",
    "spectrum_parameters = {\n",
    "    \"PEAK_PROMINENCE\" : 0.1,\n",
    "    \"PEAK_MINIMUM_HEIGHT_SIGMAS\" : 4,\n",
    "    \"PEAK_MINIMUM_DISTANCE\" : 4,\n",
    "    \"PEAK_WIDTH\" : 2,\n",
    "    \"NOISE_CHANNELS\" : slice(0,200),\n",
    "    \"INITIAL_GUESSES_BINNING\" : 1,\n",
    "    \"MAX_RESIDUE_SIGMAS\" : 4,\n",
    "    \"STDDEV_DETECTION_THRESHOLD\" : 0.1,\n",
    "    \"INITIAL_GUESSES_MAXIMUM_GAUSSIAN_STDDEV\" : 10,\n",
    "    \"INITIAL_GUESSES_MINIMUM_GAUSSIAN_STDDEV\" : 1,\n",
    "}\n",
    "\n",
    "# Working in DS9Coods\n",
    "spectrums = {\n",
    "    (26, 13) : p[:,*DS9Coords(26, 13)],\n",
    "    (25, 15) : p[:,*DS9Coords(25, 15)],\n",
    "    (28, 28) : p[:,*DS9Coords(28, 28)],\n",
    "    (29, 29) : p[:,*DS9Coords(29, 29)],\n",
    "    (22, 30) : p[:,*DS9Coords(22, 30)],\n",
    "    (21, 32) : p[:,*DS9Coords(21, 32)],\n",
    "    (15, 41) : p[:,*DS9Coords(15, 41)],\n",
    "    (15, 40) : p[:,*DS9Coords(15, 40)],\n",
    "}\n",
    "special_spectrums = {\n",
    "    (25, 16) : p[:,*DS9Coords(25, 16)],\n",
    "}\n",
    "\n",
    "[spectrum.setattrs(spectrum_parameters) for spectrum in (spectrums | special_spectrums).values()]\n",
    "spectrums[(25, 15)].setattrs({\"PEAK_MINIMUM_HEIGHT_SIGMAS\": 2.75})\n",
    "spectrums[(28, 28)].setattrs({\"PEAK_MINIMUM_HEIGHT_SIGMAS\": 3.75})\n",
    "spectrums[(22, 30)].setattrs({\"PEAK_MINIMUM_HEIGHT_SIGMAS\": 3.75})\n",
    "spectrums[(21, 32)].setattrs({\"PEAK_MINIMUM_HEIGHT_SIGMAS\": 3.5})\n",
    "\n",
    "[spectrum.fit() for spectrum in spectrums.values()]\n",
    "\n",
    "special_spectrums[(25, 16)].fit({\"stddev\" : (0,5)*u.um})\n",
    "\n",
    "for coords, spectrum in (spectrums | special_spectrums).items():\n",
    "    fig = gl.Figure(figure_style=\"dark\", size=(10, 7), title=coords)\n",
    "    fig.add_elements(spectrum.plot, spectrum.initial_guesses_plot, *spectrum.individual_functions_plot,\n",
    "                     spectrum.total_functions_plot)\n",
    "    fig.show()\n",
    "\n",
    "# Loop on all the fit results, adapt the removed component(s) to every spectra\n",
    "tesseract_p[0,*DS9Coords(26, 13)] = np.NAN\n",
    "for i, fit_result in enumerate(spectrums[(25, 15)].fit_results.to_numpy()):\n",
    "    tesseract_p[i,*DS9Coords(25, 15)] = fit_result\n",
    "for i, fit_result in enumerate(spectrums[(28, 28)].fit_results.to_numpy()):\n",
    "    tesseract_p[i,*DS9Coords(28, 28)] = fit_result\n",
    "tesseract_p[1,*DS9Coords(29, 29)] = np.NAN\n",
    "for i, fit_result in enumerate(spectrums[(22, 30)].fit_results.to_numpy()):\n",
    "    tesseract_p[i,*DS9Coords(22, 30)] = fit_result\n",
    "tesseract_p[0,*DS9Coords(21, 32)] = np.NAN\n",
    "tesseract_p[0,*DS9Coords(15, 41)] = np.NAN\n",
    "tesseract_p[1,*DS9Coords(15, 40)] = np.NAN\n",
    "for i, fit_result in enumerate(special_spectrums[(25, 16)].fit_results.to_numpy()):\n",
    "    tesseract_p[i,*DS9Coords(25, 16)] = fit_result\n",
    "tesseract_p[2,*DS9Coords(23, 17)] = np.NAN\n",
    "\n",
    "tesseract_p.compress().save(\"data/Loop4_co/p/13co/object_filtered.fits\")"
   ]
  }
 ],
 "metadata": {
  "kernelspec": {
   "display_name": "Python 3",
   "language": "python",
   "name": "python3"
  },
  "language_info": {
   "codemirror_mode": {
    "name": "ipython",
    "version": 3
   },
   "file_extension": ".py",
   "mimetype": "text/x-python",
   "name": "python",
   "nbconvert_exporter": "python",
   "pygments_lexer": "ipython3",
   "version": "3.12.3"
  }
 },
 "nbformat": 4,
 "nbformat_minor": 2
}
