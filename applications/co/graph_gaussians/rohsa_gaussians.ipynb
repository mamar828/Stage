{
 "cells": [
  {
   "cell_type": "code",
   "execution_count": null,
   "metadata": {},
   "outputs": [],
   "source": [
    "import numpy as np\n",
    "import matplotlib as mpl\n",
    "import matplotlib.pyplot as plt\n",
    "import scipy\n",
    "from sympy import symbols, integrate, exp, latex\n",
    "from eztcolors import Colors as C\n",
    "\n",
    "from src.hdu.cubes.cube import Cube"
   ]
  },
  {
   "cell_type": "code",
   "execution_count": null,
   "metadata": {},
   "outputs": [],
   "source": [
    "def calculate_column_density(arr: np.ndarray):\n",
    "    \"\"\"\n",
    "    Calculates the column density for each gaussian (line) in the given array.\n",
    "    \"\"\"\n",
    "    # Compute the integral\n",
    "    # x, A, sigma = symbols('x A sigma')\n",
    "    # f = integrate(A * exp(-x**2 / (2*sigma**2)), x)\n",
    "    # print(latex(f))\n",
    "    # This function's output and simplification is given in the cell below\n",
    "\n",
    "    return 1.82e18 * 2*(arr[:,2] * arr[:,4] * np.sqrt(np.pi/2))"
   ]
  },
  {
   "cell_type": "markdown",
   "metadata": {},
   "source": [
    "\\begin{align}\n",
    "    \\int Ae^{-\\frac{x^2}{2\\sigma^2}}dx&=\\frac{\\sqrt{2} \\sqrt{\\pi} A \\operatorname{erf}{\\left(\\frac{\\sqrt{2} x \\sqrt{\\frac{1}{\\sigma^{2}}}}{2} \\right)}}{2 \\sqrt{\\frac{1}{\\sigma^{2}}}}=A\\sigma\\sqrt\\frac{\\pi}{2}\\operatorname{erf}{\\left(\\frac x{\\sqrt2\\sigma}\\right)}\\\\\n",
    "    \\left(\\frac{N_H}{\\textrm{cm}^{-2}}\\right)&\\approx1.82\\cdot10^{18}\\sum_{n=1}^NT_b(n)\\Delta v\n",
    "\\end{align}\n",
    "The sum in (2) is replaced by the integral (1) when working directly with the fitted gaussian parameters. The error function being odd, the integral from $-\\infty$ to $\\infty$ is equal to twice the integral from $0$ to $\\infty$, and the error function converges to 1 as $x\\rightarrow\\infty$. Therefore, the equation (1) can be simplified to:\n",
    "\\begin{align}\n",
    "    \\lim_{\\Delta v\\rightarrow0}\\sum_{n=1}^NT_b(n)\\Delta v=\\int Ae^{-\\frac{x^2}{2\\sigma^2}}dx&=A\\sigma\\sqrt\\frac{\\pi}{2}\\operatorname{erf}{\\left(\\frac x{\\sqrt2\\sigma}\\right)}\\Bigg|_{-\\infty}^{\\infty}=2A\\sigma\\sqrt\\frac{\\pi}{2}\n",
    "\\end{align}\n",
    "Combining (3) with (2) gives the final expression for the column density:\n",
    "\\begin{align}\n",
    "    \\left(\\frac{N_H}{\\textrm{cm}^{-2}}\\right)&\\approx1.82\\cdot10^{18}\\cdot 2A\\sigma\\sqrt\\frac{\\pi}{2}\n",
    "\\end{align}"
   ]
  },
  {
   "cell_type": "markdown",
   "metadata": {},
   "source": [
    "# Loop4"
   ]
  },
  {
   "cell_type": "code",
   "execution_count": null,
   "metadata": {},
   "outputs": [],
   "source": [
    "array = np.loadtxt(\"data/HI_data/tests/LOOP4_cube_gauss_run_0.dat\")\n",
    "header = Cube.load(\"summer_2023/HI_regions/data_cubes/LOOP4/LOOP4_FINAL_GLS.fits\").header\n",
    "column_density_array = np.log10(calculate_column_density(array) / 1e20)\n",
    "\n",
    "fig, ax = plt.subplots(1, figsize=(10,7))\n",
    "plt.rcParams[\"font.size\"] = 14\n",
    "plt.rcParams[\"font.serif\"] = \"Computer Modern\"\n",
    "\n",
    "convert_func = np.vectorize(header.get_value)\n",
    "\n",
    "sc = ax.scatter(\n",
    "    x=convert_func(array[:,3]) / 1000,      # Convert: channel -> m/s -> km/s\n",
    "    y=array[:,4]*np.abs(header[\"CDELT3\"] / 1000),\n",
    "    s=0.05,\n",
    "    c=column_density_array,\n",
    "    cmap=mpl.cm.inferno,\n",
    "    marker=\",\",\n",
    "    edgecolor=\"none\",\n",
    "    vmin=-2,\n",
    "    vmax=1\n",
    ")\n",
    "\n",
    "# Lines\n",
    "plt.plot([0, 20], [5.4, 5.4], linestyle=\"--\", color=\"blue\", linewidth=1.5)\n",
    "plt.plot([0, 20], [2.3, 2.3], linestyle=\"--\", color=\"red\", linewidth=1.5)\n",
    "\n",
    "cbar = fig.colorbar(sc, cax=ax.inset_axes([1.01, 0, .03, 1]))\n",
    "\n",
    "cbar.set_label(r\"$\\log_{10}(N_{HI}\\ [10^{20}\\mathrm{\\ cm}^{-2}])$\")\n",
    "cbar.ax.tick_params(axis=\"both\", direction=\"in\")\n",
    "ax.set_xlabel(r\"$\\mu$ [km s$^{-1}$]\", fontsize=plt.rcParams[\"font.size\"])\n",
    "ax.set_ylabel(r\"$\\sigma$ [km s$^{-1}$]\", fontsize=plt.rcParams[\"font.size\"])\n",
    "\n",
    "ax.set_xlim(4, 11)\n",
    "ax.set_ylim(0, 9)\n",
    "\n",
    "plt.tick_params(axis=\"both\", direction=\"in\", labelsize=plt.rcParams[\"font.size\"])\n",
    "print(f\"{C.LIGHT_CYAN}Saving\")\n",
    "plt.savefig(\"figures/graph_gaussians/loop4_new.pdf\", bbox_inches=\"tight\", dpi=900)"
   ]
  },
  {
   "cell_type": "markdown",
   "metadata": {},
   "source": [
    "# Spider"
   ]
  },
  {
   "cell_type": "code",
   "execution_count": null,
   "metadata": {},
   "outputs": [],
   "source": [
    "array = np.loadtxt(\"data/graph_gaussians/DF_gauss_run_0.dat\")#[:500000,:]\n",
    "column_density_array = np.log10(calculate_column_density(array) / 1e20)\n",
    "\n",
    "fig, ax = plt.subplots(1, figsize=(10,7))\n",
    "plt.rcParams[\"font.size\"] = 14\n",
    "plt.rcParams[\"font.serif\"] = \"Computer Modern\"\n",
    "\n",
    "# Data\n",
    "header = Cube.load(\"summer_2023/HI_regions/data_cubes/spider/Spider_bin4.fits\").header\n",
    "convert_func = np.vectorize(header.get_value)\n",
    "\n",
    "sc = ax.scatter(\n",
    "    x=convert_func(array[:,3])/1000,      # Convert channel -> m/s -> km/s\n",
    "    y=array[:,4]*np.abs(header[\"CDELT3\"] / 1000),\n",
    "    s=0.05,\n",
    "    c=column_density_array,\n",
    "    cmap=mpl.cm.inferno,\n",
    "    marker=\",\",\n",
    "    edgecolor=\"none\",\n",
    "    vmin=-2,\n",
    "    vmax=1,\n",
    ")\n",
    "\n",
    "# Lines\n",
    "plt.plot([-100, 100], [5.4, 5.4], linestyle=\"--\", color=\"blue\", linewidth=1.5)\n",
    "plt.plot([-100, 100], [2.3, 2.3], linestyle=\"--\", color=\"red\", linewidth=1.5)\n",
    "\n",
    "\n",
    "cbar = fig.colorbar(sc, cax=ax.inset_axes([1.01, 0, .03, 1]))\n",
    "\n",
    "cbar.set_label(r\"$\\log_{10}(N_{HI}\\ [10^{20}\\mathrm{\\ cm}^{-2}])$\")\n",
    "cbar.ax.tick_params(axis=\"both\", direction=\"in\")\n",
    "ax.set_xlabel(r\"$\\mu$ [km s$^{-1}$]\", fontsize=plt.rcParams[\"font.size\"])\n",
    "ax.set_ylabel(r\"$\\sigma$ [km s$^{-1}$]\", fontsize=plt.rcParams[\"font.size\"])\n",
    "\n",
    "ax.set_xlim(-55, 25)\n",
    "ax.set_ylim(0, 12)\n",
    "\n",
    "plt.tick_params(axis=\"both\", direction=\"in\", labelsize=plt.rcParams[\"font.size\"])\n",
    "print(f\"{C.LIGHT_CYAN}Saving\")\n",
    "plt.savefig(\"figures/graph_gaussians/spider_new.png\", bbox_inches=\"tight\", dpi=600)"
   ]
  }
 ],
 "metadata": {
  "kernelspec": {
   "display_name": "no_gl",
   "language": "python",
   "name": "python3"
  },
  "language_info": {
   "codemirror_mode": {
    "name": "ipython",
    "version": 3
   },
   "file_extension": ".py",
   "mimetype": "text/x-python",
   "name": "python",
   "nbconvert_exporter": "python",
   "pygments_lexer": "ipython3",
   "version": "3.12.9"
  }
 },
 "nbformat": 4,
 "nbformat_minor": 2
}
