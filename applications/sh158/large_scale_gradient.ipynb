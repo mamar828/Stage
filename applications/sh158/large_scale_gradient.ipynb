{
 "cells": [
  {
   "cell_type": "code",
   "execution_count": 1,
   "metadata": {},
   "outputs": [],
   "source": [
    "import graphinglib as gl\n",
    "from astropy.io import fits\n",
    "import numpy as np\n",
    "\n",
    "from src.tools.zurflueh_filter.zfilter import zfilter\n",
    "from src.tools.statistics.advanced_stats import autocorrelation_function_2d, get_autocorrelation_function_2d_contour\n",
    "from src.hdu.maps.map import Map\n",
    "from src.hdu.arrays.array_2d import Array2D"
   ]
  },
  {
   "cell_type": "code",
   "execution_count": 12,
   "metadata": {},
   "outputs": [],
   "source": [
    "m = Map.load(\"summer_2023/gaussian_fitting/maps/computed_data/NII_mean.fits\")\n",
    "mask = fits.open(\"summer_2023/gaussian_fitting/maps/computed_data/NII_fwhm.fits\")[2].data\n",
    "masked = Map(np.where(mask > 10, m.data, np.NAN)).bin((2,2))\n",
    "\n",
    "fig1 = gl.Figure(title=\"NII mean\", size=(10, 7))\n",
    "fig1.add_elements(masked.data.plot)\n",
    "# fig1.show()\n",
    "\n",
    "gradient = zfilter(masked.data)\n",
    "\n",
    "fig2 = gl.Figure(title=\"zfilter gradient\", size=(10, 7))\n",
    "fig2.add_elements(gl.Heatmap(gradient, origin_position=\"lower\", color_map=\"viridis\"))\n",
    "# fig2.show()\n",
    "\n",
    "fig3 = gl.Figure(title=\"Filtered array\", size=(10, 7))\n",
    "fig3.add_elements(gl.Heatmap(masked.data - gradient, origin_position=\"lower\", color_map=\"viridis\"))\n",
    "# fig3.show()\n",
    "\n",
    "# fig4 = gl.Figure(title=\"ACR 2D\", size=(10, 7))\n",
    "# fig4.add_elements(get_autocorrelation_function_2d_contour(autocorrelation_function_2d(masked.data - gradient)))\n",
    "# fig4.show()\n",
    "\n",
    "multifig = gl.MultiFigure.from_grid([fig1, fig2, fig3, fig4], (2,2), size=(16,9))\n",
    "# multifig.save(\"figures/sh158/advanced_stats/autocorrelation/nii_mean.pdf\")"
   ]
  },
  {
   "cell_type": "code",
   "execution_count": null,
   "metadata": {},
   "outputs": [],
   "source": []
  }
 ],
 "metadata": {
  "kernelspec": {
   "display_name": "Python 3",
   "language": "python",
   "name": "python3"
  },
  "language_info": {
   "codemirror_mode": {
    "name": "ipython",
    "version": 3
   },
   "file_extension": ".py",
   "mimetype": "text/x-python",
   "name": "python",
   "nbconvert_exporter": "python",
   "pygments_lexer": "ipython3",
   "version": "3.12.3"
  }
 },
 "nbformat": 4,
 "nbformat_minor": 2
}
