{
 "cells": [
  {
   "cell_type": "code",
   "execution_count": 1,
   "metadata": {},
   "outputs": [],
   "source": [
    "import numpy as np\n",
    "import graphinglib as gl\n",
    "import dill\n",
    "import pyregion\n",
    "\n",
    "from src.statistics.advanced_stats import increments\n",
    "from src.hdu.maps.map import Map"
   ]
  },
  {
   "cell_type": "code",
   "execution_count": 2,
   "metadata": {},
   "outputs": [],
   "source": [
    "def get_plottables(data: np.ndarray, number_of_bins: int, increment: float) -> [gl.Histogram, gl.Curve, gl.Text]:\n",
    "    sorted_data = np.sort(np.concatenate((data, -data)))\n",
    "\n",
    "    bin_width = 0.5\n",
    "    # bin_width = 125\n",
    "    bins = np.arange(np.nanmin(sorted_data), np.nanmax(sorted_data) + bin_width*0.99, bin_width)\n",
    "    max_bin = np.nanmax(sorted_data + bin_width)//bin_width * bin_width\n",
    "    bins = np.arange(-max_bin, max_bin, bin_width)\n",
    "    hist_values, hist_edges = np.histogram(sorted_data, bins=bins)\n",
    "\n",
    "    hist = gl.Histogram(\n",
    "        sorted_data,\n",
    "        number_of_bins=bins,\n",
    "        # number_of_bins=number_of_bins,\n",
    "        show_params=False\n",
    "    )\n",
    "    amplitude = np.max(hist.bin_heights)\n",
    "\n",
    "    stddev = (hist_edges[np.argmin(np.abs(hist_values - np.max(hist_values)/2)) + 1] - bin_width/2) \\\n",
    "           / (np.sqrt(2*np.log(2)))\n",
    "    # stddev = hist_edges[np.argmin(np.abs(hist_values - np.max(hist_values)/2)) + 1] / (np.sqrt(2*np.log(2)))\n",
    "    # Half the bin_width could be added so the gaussian passes in the middle of the bins\n",
    "\n",
    "    curve = gl.Curve.from_function(\n",
    "        func=lambda x: amplitude * np.exp(-x**2/(2*stddev**2)),\n",
    "        x_min=hist.bin_edges[0],\n",
    "        x_max=hist.bin_edges[-1]\n",
    "    )\n",
    "\n",
    "    text = gl.Text(\n",
    "        hist.bin_edges[0]*0.8,\n",
    "        np.max(hist.bin_heights)*0.8,\n",
    "        rf\"$\\Delta={increment}$\"\n",
    "    )\n",
    "\n",
    "    return [hist, curve, text]"
   ]
  },
  {
   "cell_type": "markdown",
   "metadata": {},
   "source": [
    "### All increments"
   ]
  },
  {
   "cell_type": "code",
   "execution_count": 3,
   "metadata": {},
   "outputs": [],
   "source": [
    "turbulence = Map.load(\"summer_2023/gaussian_fitting/maps/computed_data_selective/turbulence.fits\")\n",
    "\n",
    "regions = [\n",
    "    (\"global_region\", None, 40),\n",
    "    (\"diffuse_region\", pyregion.open(\"summer_2023/gaussian_fitting/regions/region_1.reg\"), 30),\n",
    "    (\"central_region\", pyregion.open(\"summer_2023/gaussian_fitting/regions/region_2.reg\"), 20),\n",
    "    (\"filament_region\", pyregion.open(\"summer_2023/gaussian_fitting/regions/region_3.reg\"), 10)\n",
    "]"
   ]
  },
  {
   "cell_type": "code",
   "execution_count": 4,
   "metadata": {},
   "outputs": [
    {
     "name": "stdout",
     "output_type": "stream",
     "text": [
      "Looping started\n",
      "Looping finished\n",
      "Regroupment started\n",
      "Regroupment finished\n",
      "Looping started\n",
      "Looping finished\n",
      "Regroupment started\n",
      "Regroupment finished\n",
      "Looping started\n",
      "Looping finished\n",
      "Regroupment started\n",
      "Regroupment finished\n",
      "Looping started\n",
      "Looping finished\n",
      "Regroupment started\n",
      "Regroupment finished\n"
     ]
    }
   ],
   "source": [
    "# with open(\"applications/sh158/saved_data/increments.gz\", \"rb\") as f:\n",
    "#     increments_data = dill.load(f)\n",
    "\n",
    "all_figs = []\n",
    "\n",
    "VAL = 0.5\n",
    "\n",
    "for name, region, number_of_bins in regions:\n",
    "    increments_data = increments(turbulence.get_masked_region(region).data)\n",
    "\n",
    "    figs = []\n",
    "\n",
    "    for increment in [2,5,10,20]:\n",
    "        fig = gl.Figure(x_label=\"Increment\", y_label=\"PDF\", title=name)\n",
    "        data = []\n",
    "        for increment_i, values in increments_data.items():\n",
    "            if increment + VAL > increment_i > increment - VAL:\n",
    "                data.extend(values.tolist())\n",
    "        fig.add_elements(*get_plottables(np.array(data), number_of_bins, increment))\n",
    "        # fig.add_elements(*get_plottables(increments_data[increment], number_of_bins, increment))\n",
    "        figs.append(fig)\n",
    "        \n",
    "    all_figs.extend(figs)\n",
    "\n",
    "    multifig = gl.MultiFigure.from_grid(figs, (2,2), (14, 9))\n",
    "    # multifig.show()\n",
    "    # multifig.save(f\"figures/sh158/advanced_stats/increments/{name}.pdf\")\n",
    "\n",
    "giga_multifig = gl.MultiFigure.from_grid(all_figs, (4,4), (20,11))\n",
    "giga_multifig.save(f\"figures/sh158/advanced_stats/increments/everything_new.pdf\")"
   ]
  },
  {
   "cell_type": "code",
   "execution_count": 5,
   "metadata": {},
   "outputs": [
    {
     "data": {
      "text/plain": [
       "' temperature = Map.load(\"summer_2023/gaussian_fitting/maps/external_maps/\"\\n                      +\"dens_it_sii_sans_fcorr_nii_plus_plusmin_pouss_seuil_errt_1000.fits\")\\n\\nalignment_map = (turbulence * 0).get_reprojection_on(temperature)\\n\\ntemperature += alignment_map\\n\\nwith open(\"applications/sh158/increments_temperature_2.gz\", \"wb\") as f:\\n    dill.dump(increments(temperature.data), f)\\n\\nall_figs = []\\n\\nVAL = 0.5\\n\\nfor name, region, number_of_bins in regions:\\n    if not region:\\n        with open(\"applications/sh158/increments_temperature_2.gz\", \"rb\") as f:\\n            increments_data = dill.load(f)\\n    else:\\n        increments_data = increments(temperature.get_masked_region(region).data)\\n\\n    print(\"fig\")\\n    figs = []\\n\\n    for increment in [2,5,10,20]:\\n        fig = gl.Figure(x_label=\"Increment\", y_label=\"PDF\", title=name)\\n        data = []\\n        for increment_i, values in increments_data.items():\\n            if increment + VAL > increment_i > increment - VAL:\\n                data.extend(values.tolist())\\n        fig.add_elements(*get_plottables(np.array(data), number_of_bins, increment))\\n        # fig.add_elements(*get_plottables(increments_data[increment], number_of_bins, increment))\\n        figs.append(fig)\\n        \\n    all_figs.extend(figs)\\n\\n    multifig = gl.MultiFigure.from_grid(figs, (2,2), (14, 9))\\n    # multifig.show()\\n    multifig.save(f\"figures/sh158/advanced_stats/increments_temperature/{name}.pdf\")\\n\\ngiga_multifig = gl.MultiFigure.from_grid(all_figs, (4,4), (20,11))\\ngiga_multifig.save(f\"figures/sh158/advanced_stats/increments_temperature/everything.pdf\") '"
      ]
     },
     "execution_count": 5,
     "metadata": {},
     "output_type": "execute_result"
    }
   ],
   "source": [
    "\"\"\" temperature = Map.load(\"summer_2023/gaussian_fitting/maps/external_maps/\"\n",
    "                      +\"dens_it_sii_sans_fcorr_nii_plus_plusmin_pouss_seuil_errt_1000.fits\")\n",
    "\n",
    "alignment_map = (turbulence * 0).get_reprojection_on(temperature)\n",
    "\n",
    "temperature += alignment_map\n",
    "\n",
    "with open(\"applications/sh158/increments_temperature_2.gz\", \"wb\") as f:\n",
    "    dill.dump(increments(temperature.data), f)\n",
    "\n",
    "all_figs = []\n",
    "\n",
    "VAL = 0.5\n",
    "\n",
    "for name, region, number_of_bins in regions:\n",
    "    if not region:\n",
    "        with open(\"applications/sh158/increments_temperature_2.gz\", \"rb\") as f:\n",
    "            increments_data = dill.load(f)\n",
    "    else:\n",
    "        increments_data = increments(temperature.get_masked_region(region).data)\n",
    "\n",
    "    print(\"fig\")\n",
    "    figs = []\n",
    "\n",
    "    for increment in [2,5,10,20]:\n",
    "        fig = gl.Figure(x_label=\"Increment\", y_label=\"PDF\", title=name)\n",
    "        data = []\n",
    "        for increment_i, values in increments_data.items():\n",
    "            if increment + VAL > increment_i > increment - VAL:\n",
    "                data.extend(values.tolist())\n",
    "        fig.add_elements(*get_plottables(np.array(data), number_of_bins, increment))\n",
    "        # fig.add_elements(*get_plottables(increments_data[increment], number_of_bins, increment))\n",
    "        figs.append(fig)\n",
    "        \n",
    "    all_figs.extend(figs)\n",
    "\n",
    "    multifig = gl.MultiFigure.from_grid(figs, (2,2), (14, 9))\n",
    "    # multifig.show()\n",
    "    multifig.save(f\"figures/sh158/advanced_stats/increments_temperature/{name}.pdf\")\n",
    "\n",
    "giga_multifig = gl.MultiFigure.from_grid(all_figs, (4,4), (20,11))\n",
    "giga_multifig.save(f\"figures/sh158/advanced_stats/increments_temperature/everything.pdf\") \"\"\""
   ]
  }
 ],
 "metadata": {
  "kernelspec": {
   "display_name": "Python 3",
   "language": "python",
   "name": "python3"
  },
  "language_info": {
   "codemirror_mode": {
    "name": "ipython",
    "version": 3
   },
   "file_extension": ".py",
   "mimetype": "text/x-python",
   "name": "python",
   "nbconvert_exporter": "python",
   "pygments_lexer": "ipython3",
   "version": "3.12.3"
  }
 },
 "nbformat": 4,
 "nbformat_minor": 2
}
