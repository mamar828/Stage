{
 "cells": [
  {
   "cell_type": "code",
   "execution_count": 1,
   "metadata": {},
   "outputs": [],
   "source": [
    "import numpy as np\n",
    "import graphinglib as gl\n",
    "import dill\n",
    "import pyregion\n",
    "\n",
    "from src.statistics.advanced_stats import increments\n",
    "from src.hdu.maps.map import Map"
   ]
  },
  {
   "cell_type": "code",
   "execution_count": 2,
   "metadata": {},
   "outputs": [],
   "source": [
    "def get_plottables(data: np.ndarray, number_of_bins: int, increment: float) -> [gl.Histogram, gl.Text]:\n",
    "    sorted_data = np.sort(np.concatenate((data, -data)))\n",
    "\n",
    "    hist = gl.Histogram(\n",
    "        sorted_data,\n",
    "        number_of_bins=number_of_bins,\n",
    "        show_params=False\n",
    "    )\n",
    "    hist.add_pdf(show_mean=False, show_std=False)\n",
    "    text = gl.Text(\n",
    "        hist.bin_edges[0]*0.8,\n",
    "        np.max(hist.bin_heights)*0.8,\n",
    "        rf\"$\\Delta={increment}$\"\n",
    "    )\n",
    "\n",
    "    return [hist, text]"
   ]
  },
  {
   "cell_type": "markdown",
   "metadata": {},
   "source": [
    "### All increments"
   ]
  },
  {
   "cell_type": "code",
   "execution_count": 3,
   "metadata": {},
   "outputs": [],
   "source": [
    "turbulence = Map.load(\"summer_2023/gaussian_fitting/maps/computed_data_selective/turbulence.fits\")\n",
    "\n",
    "regions = [\n",
    "    (\"global_region\", None, 40),\n",
    "    (\"diffuse_region\", pyregion.open(\"summer_2023/gaussian_fitting/regions/region_1.reg\"), 30),\n",
    "    (\"central_region\", pyregion.open(\"summer_2023/gaussian_fitting/regions/region_2.reg\"), 20),\n",
    "    (\"filament_region\", pyregion.open(\"summer_2023/gaussian_fitting/regions/region_3.reg\"), 10)\n",
    "]"
   ]
  },
  {
   "cell_type": "code",
   "execution_count": null,
   "metadata": {},
   "outputs": [],
   "source": [
    "with open(\"applications/sh158/saved_data/increments.gz\", \"wb\") as f:\n",
    "    dill.dump(increments(turbulence.data), f)"
   ]
  },
  {
   "cell_type": "code",
   "execution_count": 4,
   "metadata": {},
   "outputs": [],
   "source": [
    "# with open(\"applications/sh158/saved_data/increments.gz\", \"rb\") as f:\n",
    "#     increments_data = dill.load(f)\n",
    "\n",
    "all_figs = []\n",
    "\n",
    "for name, region, number_of_bins in regions:\n",
    "    increments_data = increments(turbulence.get_masked_region(region).data)\n",
    "\n",
    "    figs = []\n",
    "\n",
    "    for increment in [2,5,10,20]:\n",
    "        fig = gl.Figure(x_label=\"Increment\", y_label=\"PDF\", title=name, log_scale_y=True)\n",
    "        plottables = get_plottables(increments_data[increment], number_of_bins, increment)\n",
    "        plottables[0].number_of_bins = number_of_bins\n",
    "        fig.add_elements(*plottables)\n",
    "        figs.append(fig)\n",
    "        \n",
    "    all_figs.extend(figs)\n",
    "\n",
    "    multifig = gl.MultiFigure.from_grid(figs, (2,2), (14, 9))\n",
    "    # multifig.show()\n",
    "    multifig.save(f\"figures/sh158/advanced_stats/increments/{name}.pdf\")\n",
    "\n",
    "giga_multifig = gl.MultiFigure.from_grid(all_figs, (4,4), (20,11))\n",
    "giga_multifig.save(f\"figures/sh158/advanced_stats/increments/everything.pdf\")"
   ]
  },
  {
   "cell_type": "code",
   "execution_count": null,
   "metadata": {},
   "outputs": [],
   "source": [
    "increments(np.array([\n",
    "    [0,1,4],\n",
    "    [4,5,2],\n",
    "    [4,8,1]\n",
    "]))\n",
    "\n",
    "gl.Vlines(5, )"
   ]
  }
 ],
 "metadata": {
  "kernelspec": {
   "display_name": "Python 3",
   "language": "python",
   "name": "python3"
  },
  "language_info": {
   "codemirror_mode": {
    "name": "ipython",
    "version": 3
   },
   "file_extension": ".py",
   "mimetype": "text/x-python",
   "name": "python",
   "nbconvert_exporter": "python",
   "pygments_lexer": "ipython3",
   "version": "3.12.3"
  }
 },
 "nbformat": 4,
 "nbformat_minor": 2
}
