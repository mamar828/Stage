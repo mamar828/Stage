{
 "cells": [
  {
   "cell_type": "code",
   "execution_count": 1,
   "metadata": {},
   "outputs": [],
   "source": [
    "import numpy as np\n",
    "import graphinglib as gl\n",
    "import pyregion\n",
    "from scipy.optimize import curve_fit\n",
    "import dill\n",
    "from functools import partial\n",
    "\n",
    "from src.statistics.advanced_stats import structure_function\n",
    "from src.hdu.maps.map import Map"
   ]
  },
  {
   "cell_type": "code",
   "execution_count": null,
   "metadata": {},
   "outputs": [],
   "source": [
    "def power_function(x, a, m):\n",
    "    return a * x**m\n",
    "\n",
    "def estimate_params(data, number_of_iterations: int=1000):\n",
    "    sample_data = np.array([np.random.normal(mu, abs(sigma), number_of_iterations) for mu, sigma in data[:,1:3]])\n",
    "    parameters = []\n",
    "    for i in range(number_of_iterations):\n",
    "        parameters.append(curve_fit(power_function, data[:,0], sample_data[:,i], [0.3, 0.5], maxfev=100000)[0])\n",
    "    \n",
    "    parameters_array = np.array(parameters)\n",
    "    results = {\n",
    "        \"a\": np.array([np.mean(parameters_array[:,0]), np.std(parameters_array[:,0])]),\n",
    "        \"m\": np.array([np.mean(parameters_array[:,1]), np.std(parameters_array[:,1])]),\n",
    "    }\n",
    "    return results"
   ]
  },
  {
   "cell_type": "code",
   "execution_count": null,
   "metadata": {},
   "outputs": [],
   "source": [
    "def get_plottables(data: np.ndarray, region_radius: float) -> list:\n",
    "    sorted_data = data[np.argsort(data[:,0])]\n",
    "    scatter = gl.Scatter(\n",
    "        sorted_data[:,0],\n",
    "        sorted_data[:,1],\n",
    "        marker_size=3,\n",
    "        face_color=\"black\",\n",
    "        # label=\"Structure function\"\n",
    "    )\n",
    "\n",
    "    scatter.add_errorbars(\n",
    "        y_error=np.abs(sorted_data[:,2]),\n",
    "        errorbars_line_width=0.25,\n",
    "        cap_width=0,\n",
    "    )\n",
    "\n",
    "    # gl_fit = gl.FitFromPolynomial(\n",
    "    #     scatter.create_slice_x(0, region_radius),\n",
    "    #     1,\n",
    "    #     label=\"Fit (1st order polynomial)\",\n",
    "    #     line_width=1,\n",
    "    #     color=\"orange\",\n",
    "    # )\n",
    "\n",
    "    mask = (sorted_data[:,0] <= region_radius)\n",
    "    pm = estimate_params(sorted_data[mask], 10000)\n",
    "    fit = gl.Curve.from_function(\n",
    "        func=partial(power_function, a=pm[\"a\"][0], m=pm[\"m\"][0]),\n",
    "        x_min=0,\n",
    "        x_max=region_radius,\n",
    "        label=rf\"Slope : {pm[\"m\"][0]:.3f} ± {pm[\"m\"][1]:.3f}\",\n",
    "        line_width=1,\n",
    "        color=\"red\",\n",
    "    )\n",
    "\n",
    "    return [scatter, fit]"
   ]
  },
  {
   "cell_type": "code",
   "execution_count": null,
   "metadata": {},
   "outputs": [],
   "source": [
    "turbulence = Map.load(\"summer_2023/gaussian_fitting/maps/computed_data_selective/turbulence.fits\")\n",
    "\n",
    "regions = [\n",
    "    (\"Sh2-158\", None, 50),\n",
    "    (\"Diffuse region\", pyregion.open(\"summer_2023/gaussian_fitting/regions/region_1.reg\"), 20),\n",
    "    (\"Central region\", pyregion.open(\"summer_2023/gaussian_fitting/regions/region_2.reg\"), 10),\n",
    "    (\"Filament region\", pyregion.open(\"summer_2023/gaussian_fitting/regions/region_3.reg\"), 6)\n",
    "]"
   ]
  },
  {
   "cell_type": "markdown",
   "metadata": {},
   "source": [
    "### Structure functions of all regions"
   ]
  },
  {
   "cell_type": "code",
   "execution_count": null,
   "metadata": {},
   "outputs": [
    {
     "name": "stdout",
     "output_type": "stream",
     "text": [
      "Looping started\n",
      "Looping finished\n",
      "Regroupment started\n",
      "Regroupment finished\n",
      "Looping started\n",
      "Looping finished\n",
      "Regroupment started\n",
      "Regroupment finished\n",
      "Looping started\n",
      "Looping finished\n",
      "Regroupment started\n",
      "Regroupment finished\n",
      "Looping started\n",
      "Looping finished\n",
      "Regroupment started\n",
      "Regroupment finished\n"
     ]
    }
   ],
   "source": [
    "figs = []\n",
    "\n",
    "for name, region, region_radius in regions:\n",
    "    # if not region:\n",
    "    #     try:\n",
    "    #         with open(\"applications/sh158/saved_data/str_func_turbulence_global.gz\", \"rb\") as f:\n",
    "    #             data = dill.load(f)\n",
    "    #     except:\n",
    "    #         data = structure_function(turbulence.get_masked_region(region).data)\n",
    "    #         with open(\"applications/sh158/saved_data/str_func_turbulence_global.gz\", \"wb\") as f:\n",
    "    #             dill.dump(data, f)\n",
    "    # else:\n",
    "    data = structure_function(turbulence.get_masked_region(region).data)\n",
    "\n",
    "    fig = gl.Figure(\n",
    "        title=name,\n",
    "        # x_label=\"Lag\",\n",
    "        # y_label=\"Structure function\",\n",
    "        x_lim=(0, region_radius*1.2),\n",
    "    )\n",
    "    plottables = get_plottables(data, region_radius)\n",
    "    cropped_scatter = plottables[0].create_slice_x(0, region_radius*1.2)\n",
    "    fig.y_lim = np.min(cropped_scatter.y_data)-0.2, np.max(cropped_scatter.y_data)+0.3\n",
    "    fig.add_elements(*plottables)\n",
    "    figs.append(fig)\n",
    "\n",
    "multifig = gl.MultiFigure.from_grid(figs, (2,2), (14, 9))\n",
    "multifig.x_label = \"Lag [pixels]\"\n",
    "multifig.y_label = \"Structure Function [-]\"\n",
    "multifig.save(\"figures/sh158/advanced_stats/structure_functions_article_new.pdf\")"
   ]
  }
 ],
 "metadata": {
  "kernelspec": {
   "display_name": "Python 3",
   "language": "python",
   "name": "python3"
  },
  "language_info": {
   "codemirror_mode": {
    "name": "ipython",
    "version": 3
   },
   "file_extension": ".py",
   "mimetype": "text/x-python",
   "name": "python",
   "nbconvert_exporter": "python",
   "pygments_lexer": "ipython3",
   "version": "3.12.3"
  }
 },
 "nbformat": 4,
 "nbformat_minor": 2
}
