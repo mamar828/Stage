{
 "cells": [
  {
   "cell_type": "code",
   "execution_count": 1,
   "metadata": {},
   "outputs": [],
   "source": [
    "import numpy as np\n",
    "import graphinglib as gl\n",
    "import pyregion\n",
    "\n",
    "from src.statistics.advanced_stats import structure_function\n",
    "from src.hdu.maps.map import Map"
   ]
  },
  {
   "cell_type": "code",
   "execution_count": 2,
   "metadata": {},
   "outputs": [],
   "source": [
    "def get_plottables(data: np.ndarray, region_radius: float) -> list[gl.Curve]:\n",
    "    sorted_data = data[np.argsort(data[:,0])]\n",
    "    curve = gl.Curve(\n",
    "        np.log(sorted_data[:,0]),\n",
    "        np.log(sorted_data[:,1]),\n",
    "        line_width=0.5,\n",
    "        color=\"green\",\n",
    "        label=\"Structure function (log/log)\"\n",
    "    )\n",
    "\n",
    "    fit = gl.FitFromPolynomial(\n",
    "        curve.create_slice_x(0, np.log(region_radius)),\n",
    "        1,\n",
    "        label=\"Fit (1st order polynomial)\",\n",
    "        line_width=1,\n",
    "        color=\"orange\",\n",
    "    )\n",
    "\n",
    "    return [curve, fit]"
   ]
  },
  {
   "cell_type": "markdown",
   "metadata": {},
   "source": [
    "### Structure functions of all regions"
   ]
  },
  {
   "cell_type": "code",
   "execution_count": 3,
   "metadata": {},
   "outputs": [],
   "source": [
    "turbulence = Map.load(\"summer_2023/gaussian_fitting/maps/computed_data_selective/turbulence.fits\")\n",
    "\n",
    "regions = [\n",
    "    (\"Global region\", None, 50),\n",
    "    (\"Diffuse region\", pyregion.open(\"summer_2023/gaussian_fitting/regions/region_1.reg\"), 20),\n",
    "    (\"Central region\", pyregion.open(\"summer_2023/gaussian_fitting/regions/region_2.reg\"), 10),\n",
    "    (\"Filament region\", pyregion.open(\"summer_2023/gaussian_fitting/regions/region_3.reg\"), 6)\n",
    "]"
   ]
  },
  {
   "cell_type": "code",
   "execution_count": 4,
   "metadata": {},
   "outputs": [],
   "source": [
    "figs = []\n",
    "\n",
    "for name, region, region_radius in regions:\n",
    "    fig = gl.Figure(title=name, x_label=\"Lag logarithm\", y_label=\"Structure function\")\n",
    "    fig.add_elements(*get_plottables(structure_function(turbulence.get_masked_region(region).data), region_radius))\n",
    "    figs.append(fig)\n",
    "\n",
    "multifig = gl.MultiFigure.from_grid(figs, (2,2), (14, 9))\n",
    "multifig.save(\"figures/sh158/advanced_stats/structure_functions.pdf\")"
   ]
  },
  {
   "cell_type": "code",
   "execution_count": null,
   "metadata": {},
   "outputs": [],
   "source": []
  }
 ],
 "metadata": {
  "kernelspec": {
   "display_name": "Python 3",
   "language": "python",
   "name": "python3"
  },
  "language_info": {
   "codemirror_mode": {
    "name": "ipython",
    "version": 3
   },
   "file_extension": ".py",
   "mimetype": "text/x-python",
   "name": "python",
   "nbconvert_exporter": "python",
   "pygments_lexer": "ipython3",
   "version": "3.12.3"
  }
 },
 "nbformat": 4,
 "nbformat_minor": 2
}
