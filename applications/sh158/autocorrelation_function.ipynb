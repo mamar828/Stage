{
 "cells": [
  {
   "cell_type": "code",
   "execution_count": 1,
   "metadata": {},
   "outputs": [],
   "source": [
    "import numpy as np\n",
    "import graphinglib as gl\n",
    "import pyregion\n",
    "from scipy.optimize import curve_fit\n",
    "import scipy\n",
    "import dill\n",
    "from functools import partial\n",
    "\n",
    "from src.statistics.advanced_stats import autocorrelation_function, autocorrelation_function_2d\n",
    "from src.hdu.maps.map import Map"
   ]
  },
  {
   "cell_type": "code",
   "execution_count": 2,
   "metadata": {},
   "outputs": [],
   "source": [
    "def get_plottables(data: np.ndarray, region_radius: float) -> list:\n",
    "    sorted_data = data[np.argsort(data[:,0])]\n",
    "    scatter = gl.Scatter(\n",
    "        sorted_data[:,0],\n",
    "        sorted_data[:,1],\n",
    "        marker_size=2,\n",
    "        face_color=\"orange\",\n",
    "    )\n",
    "\n",
    "    scatter.add_errorbars(\n",
    "        y_error=sorted_data[:,2],\n",
    "        errorbars_line_width=0.25,\n",
    "        cap_width=0,\n",
    "    )\n",
    "\n",
    "    return [scatter]"
   ]
  },
  {
   "cell_type": "code",
   "execution_count": 2,
   "metadata": {},
   "outputs": [],
   "source": [
    "turbulence = Map.load(\"summer_2023/gaussian_fitting/maps/computed_data_selective/turbulence.fits\")\n",
    "\n",
    "regions = [\n",
    "    (\"Global region\", None, 50),\n",
    "    (\"Diffuse region\", pyregion.open(\"summer_2023/gaussian_fitting/regions/region_1.reg\"), 20),\n",
    "    (\"Central region\", pyregion.open(\"summer_2023/gaussian_fitting/regions/region_2.reg\"), 10),\n",
    "    (\"Filament region\", pyregion.open(\"summer_2023/gaussian_fitting/regions/region_3.reg\"), 6)\n",
    "]"
   ]
  },
  {
   "cell_type": "markdown",
   "metadata": {},
   "source": [
    "### Autocorrelation functions of all regions"
   ]
  },
  {
   "cell_type": "code",
   "execution_count": 4,
   "metadata": {},
   "outputs": [],
   "source": [
    "figs = []\n",
    "\n",
    "for name, region, region_radius in regions:\n",
    "    # if not region:\n",
    "    #     try:\n",
    "    #         with open(\"applications/sh158/saved_data/acr_func_turbulence_global.gz\", \"rb\") as f:\n",
    "    #             data = dill.load(f)\n",
    "    #     except:\n",
    "    #         data = autocorrelation_function(turbulence.get_masked_region(region).data)\n",
    "    #         with open(\"applications/sh158/saved_data/acr_func_turbulence_global.gz\", \"wb\") as f:\n",
    "    #             dill.dump(data, f)\n",
    "    # else:\n",
    "    #     data = autocorrelation_function(turbulence.get_masked_region(region).data)\n",
    "    test = Map.load(\"summer_2023/gaussian_fitting/maps/external_maps/\"\n",
    "                      +\"dens_it_sii_sans_fcorr_nii_plus_plusmin_pouss_seuil_errt_1000.fits\")\n",
    "\n",
    "    # data = autocorrelation_function(test.data)\n",
    "    data = autocorrelation_function(turbulence.get_masked_region(region).data)\n",
    "\n",
    "    fig = gl.Figure(\n",
    "        title=name,\n",
    "        x_label=\"Lag\",\n",
    "        y_label=\"Autocorrelation function\",\n",
    "        x_lim=(0, region_radius*1.2),\n",
    "    )\n",
    "    plottables = get_plottables(data, region_radius)\n",
    "    cropped_scatter = plottables[0].create_slice_x(0, region_radius*1.2)\n",
    "    fig.y_lim = np.min(cropped_scatter.y_data)-0.2, np.max(cropped_scatter.y_data)+0.3\n",
    "    fig.add_elements(*plottables)\n",
    "    figs.append(fig)\n",
    "\n",
    "multifig = gl.MultiFigure.from_grid(figs, (2,2), (14, 9))\n",
    "multifig.save(\"figures/sh158/advanced_stats/autocorrelation/autocorrelation_functions_new.pdf\")"
   ]
  },
  {
   "cell_type": "markdown",
   "metadata": {},
   "source": [
    "### 2D Autocorrelation function"
   ]
  },
  {
   "cell_type": "code",
   "execution_count": 5,
   "metadata": {},
   "outputs": [
    {
     "ename": "TypeError",
     "evalue": "Scatter.__init__() got an unexpected keyword argument 'vmin'",
     "output_type": "error",
     "traceback": [
      "\u001b[0;31m---------------------------------------------------------------------------\u001b[0m",
      "\u001b[0;31mTypeError\u001b[0m                                 Traceback (most recent call last)",
      "Cell \u001b[0;32mIn[5], line 29\u001b[0m\n\u001b[1;32m     26\u001b[0m \u001b[38;5;28;01melse\u001b[39;00m:\n\u001b[1;32m     27\u001b[0m     \u001b[38;5;28;01mraise\u001b[39;00m \u001b[38;5;167;01mException\u001b[39;00m(\u001b[38;5;124m\"\u001b[39m\u001b[38;5;124mNo zero lag\u001b[39m\u001b[38;5;124m\"\u001b[39m)\n\u001b[0;32m---> 29\u001b[0m scat \u001b[38;5;241m=\u001b[39m \u001b[43mgl\u001b[49m\u001b[38;5;241;43m.\u001b[39;49m\u001b[43mScatter\u001b[49m\u001b[43m(\u001b[49m\n\u001b[1;32m     30\u001b[0m \u001b[43m    \u001b[49m\u001b[43mx_data\u001b[49m\u001b[38;5;241;43m=\u001b[39;49m\u001b[43mdata\u001b[49m\u001b[43m[\u001b[49m\u001b[43m:\u001b[49m\u001b[43m,\u001b[49m\u001b[38;5;241;43m0\u001b[39;49m\u001b[43m]\u001b[49m\u001b[43m,\u001b[49m\n\u001b[1;32m     31\u001b[0m \u001b[43m    \u001b[49m\u001b[43my_data\u001b[49m\u001b[38;5;241;43m=\u001b[39;49m\u001b[43mdata\u001b[49m\u001b[43m[\u001b[49m\u001b[43m:\u001b[49m\u001b[43m,\u001b[49m\u001b[38;5;241;43m1\u001b[39;49m\u001b[43m]\u001b[49m\u001b[43m,\u001b[49m\n\u001b[1;32m     32\u001b[0m \u001b[43m    \u001b[49m\u001b[43mface_color\u001b[49m\u001b[38;5;241;43m=\u001b[39;49m\u001b[43mdata\u001b[49m\u001b[43m[\u001b[49m\u001b[43m:\u001b[49m\u001b[43m,\u001b[49m\u001b[38;5;241;43m2\u001b[39;49m\u001b[43m]\u001b[49m\u001b[43m \u001b[49m\u001b[38;5;241;43m/\u001b[39;49m\u001b[43m \u001b[49m\u001b[43mzero_lag_val\u001b[49m\u001b[43m,\u001b[49m\n\u001b[1;32m     33\u001b[0m \u001b[43m    \u001b[49m\u001b[43mshow_color_bar\u001b[49m\u001b[38;5;241;43m=\u001b[39;49m\u001b[38;5;28;43;01mTrue\u001b[39;49;00m\u001b[43m,\u001b[49m\n\u001b[1;32m     34\u001b[0m \u001b[43m    \u001b[49m\u001b[43mmarker_size\u001b[49m\u001b[38;5;241;43m=\u001b[39;49m\u001b[38;5;241;43m2\u001b[39;49m\u001b[43m,\u001b[49m\n\u001b[1;32m     35\u001b[0m \u001b[43m    \u001b[49m\u001b[43mvmin\u001b[49m\u001b[38;5;241;43m=\u001b[39;49m\u001b[38;5;241;43m-\u001b[39;49m\u001b[38;5;241;43m1\u001b[39;49m\u001b[43m,\u001b[49m\n\u001b[1;32m     36\u001b[0m \u001b[43m    \u001b[49m\u001b[43mvmax\u001b[49m\u001b[38;5;241;43m=\u001b[39;49m\u001b[38;5;241;43m-\u001b[39;49m\u001b[38;5;241;43m1\u001b[39;49m\u001b[43m,\u001b[49m\n\u001b[1;32m     37\u001b[0m \u001b[43m)\u001b[49m\n\u001b[1;32m     39\u001b[0m cont \u001b[38;5;241m=\u001b[39m gl\u001b[38;5;241m.\u001b[39mContour(\n\u001b[1;32m     40\u001b[0m     x_mesh\u001b[38;5;241m=\u001b[39mx_grid,\n\u001b[1;32m     41\u001b[0m     y_mesh\u001b[38;5;241m=\u001b[39my_grid,\n\u001b[0;32m   (...)\u001b[0m\n\u001b[1;32m     46\u001b[0m     color_map\u001b[38;5;241m=\u001b[39m\u001b[38;5;124m\"\u001b[39m\u001b[38;5;124mviridis\u001b[39m\u001b[38;5;124m\"\u001b[39m,\n\u001b[1;32m     47\u001b[0m )\n\u001b[1;32m     48\u001b[0m fig\u001b[38;5;241m.\u001b[39madd_elements(scat)\n",
      "\u001b[0;31mTypeError\u001b[0m: Scatter.__init__() got an unexpected keyword argument 'vmin'"
     ]
    }
   ],
   "source": [
    "data = autocorrelation_function_2d(turbulence.data)\n",
    "\n",
    "# Copy paste the data with a diagonal reflection\n",
    "data = np.append(data, data * np.tile((-1, -1, 1), (data.shape[0], 1)), axis=0)\n",
    "\n",
    "# data[data[:,2] > 1,2] = np.NAN\n",
    "# data[data[:,2] < -1,2] = np.NAN\n",
    "\n",
    "fig = gl.Figure(\n",
    "    x_lim=(np.min(data[:,0]), np.max(data[:,0])),\n",
    "    y_lim=(np.min(data[:,1]), np.max(data[:,1])),\n",
    ")\n",
    "\n",
    "x_grid, y_grid = np.meshgrid(np.arange(fig.x_lim[0], fig.x_lim[1] + 1), \n",
    "                             np.arange(fig.y_lim[0], fig.y_lim[1] + 1))\n",
    "\n",
    "z_data = np.zeros_like(x_grid)\n",
    "for x, y, z in data:\n",
    "    z_data[int(y-np.min(data[:,1])), int(x-np.min(data[:,0]))] = z\n",
    "z_data = scipy.ndimage.gaussian_filter(z_data, 3)\n",
    "\n",
    "for dat in data:\n",
    "    if dat[0] == 0 and dat[1] == 0:\n",
    "        zero_lag_val =  dat[2]\n",
    "        break\n",
    "else:\n",
    "    raise Exception(\"No zero lag\")\n",
    "\n",
    "scat = gl.Scatter(\n",
    "    x_data=data[:,0],\n",
    "    y_data=data[:,1],\n",
    "    face_color=data[:,2] / zero_lag_val,\n",
    "    show_color_bar=True,\n",
    "    marker_size=2,\n",
    ")\n",
    "\n",
    "cont = gl.Contour(\n",
    "    x_mesh=x_grid,\n",
    "    y_mesh=y_grid,\n",
    "    z_data=z_data / zero_lag_val,\n",
    "    show_color_bar=True,\n",
    "    number_of_levels=list(np.arange(-1, 1 + 0.1, 0.1)),\n",
    "    filled=False,\n",
    "    color_map=\"viridis\",\n",
    ")\n",
    "fig.add_elements(scat)\n",
    "fig.save(\"figures/sh158/advanced_stats/autocorrelation/autocorrelation_function_2d_mirror_cont_new.pdf\")\n",
    "# fig.add_elements(scat)\n",
    "# fig.save(\"figures/sh158/advanced_stats/autocorrelation/autocorrelation_function_2d_mirror_cont_scat.pdf\")"
   ]
  },
  {
   "cell_type": "markdown",
   "metadata": {},
   "source": [
    "# Tests"
   ]
  },
  {
   "cell_type": "code",
   "execution_count": 5,
   "metadata": {},
   "outputs": [
    {
     "name": "stdout",
     "output_type": "stream",
     "text": [
      "[[       nan 0.75700244 0.04559337 ... 0.9705862  0.23320722 0.42704702]\n",
      " [0.13562841 0.09922454 0.60664044 ... 0.61999716 0.48635815 0.6765556 ]\n",
      " [0.36232064 0.9939984  0.65916131 ... 0.33567905 0.37954597 0.1265122 ]\n",
      " ...\n",
      " [0.35357736 0.39663437 0.27473938 ... 0.43755162 0.16001547 0.95295825]\n",
      " [0.33725695 0.51782249 0.8421681  ... 0.17343312 0.94189843 0.67446621]\n",
      " [0.49794789 0.97079162 0.04483524 ... 0.15288179 0.04300051 0.25990244]]\n",
      "0.499564999867237\n",
      "[[        nan  0.25743744 -0.45397163 ...  0.4710212  -0.26635778\n",
      "  -0.07251798]\n",
      " [-0.36393659 -0.40034046  0.10707544 ...  0.12043216 -0.01320685\n",
      "   0.1769906 ]\n",
      " [-0.13724436  0.4944334   0.15959631 ... -0.16388595 -0.12001903\n",
      "  -0.3730528 ]\n",
      " ...\n",
      " [-0.14598764 -0.10293063 -0.22482562 ... -0.06201338 -0.33954953\n",
      "   0.45339325]\n",
      " [-0.16230805  0.01825749  0.3426031  ... -0.32613188  0.44233343\n",
      "   0.17490121]\n",
      " [-0.00161711  0.47122662 -0.45472976 ... -0.34668321 -0.45656449\n",
      "  -0.23966256]]\n",
      "[[       nan 0.75700244 0.04559337 ... 0.9705862  0.23320722 0.42704702]\n",
      " [0.13562841 0.09922454 0.60664044 ... 0.61999716 0.48635815 0.6765556 ]\n",
      " [0.36232064 0.9939984  0.65916131 ... 0.33567905 0.37954597 0.1265122 ]\n",
      " ...\n",
      " [0.35357736 0.39663437 0.27473938 ... 0.43755162 0.16001547 0.95295825]\n",
      " [0.33725695 0.51782249 0.8421681  ... 0.17343312 0.94189843 0.67446621]\n",
      " [0.49794789 0.97079162 0.04483524 ... 0.15288179 0.04300051 0.25990244]]\n"
     ]
    }
   ],
   "source": [
    "arr = np.array(np.random.random((1000,1000)))\n",
    "arr[0,0] = np.nan\n",
    "print(arr)\n",
    "print(np.nanmean(arr))\n",
    "print(autocorrelation_function_2d(arr))\n",
    "print(arr)"
   ]
  }
 ],
 "metadata": {
  "kernelspec": {
   "display_name": "Python 3",
   "language": "python",
   "name": "python3"
  },
  "language_info": {
   "codemirror_mode": {
    "name": "ipython",
    "version": 3
   },
   "file_extension": ".py",
   "mimetype": "text/x-python",
   "name": "python",
   "nbconvert_exporter": "python",
   "pygments_lexer": "ipython3",
   "version": "3.12.3"
  }
 },
 "nbformat": 4,
 "nbformat_minor": 2
}
