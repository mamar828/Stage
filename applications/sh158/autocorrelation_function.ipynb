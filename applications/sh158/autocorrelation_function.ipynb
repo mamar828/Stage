{
 "cells": [
  {
   "cell_type": "code",
   "execution_count": 1,
   "metadata": {},
   "outputs": [],
   "source": [
    "import numpy as np\n",
    "import graphinglib as gl\n",
    "import pyregion\n",
    "from scipy.optimize import curve_fit\n",
    "import dill\n",
    "from functools import partial\n",
    "\n",
    "from src.statistics.advanced_stats import autocorrelation_function, autocorrelation_function_2d\n",
    "from src.hdu.maps.map import Map"
   ]
  },
  {
   "cell_type": "code",
   "execution_count": 2,
   "metadata": {},
   "outputs": [],
   "source": [
    "def get_plottables(data: np.ndarray, region_radius: float) -> list:\n",
    "    sorted_data = data[np.argsort(data[:,0])]\n",
    "    scatter = gl.Scatter(\n",
    "        sorted_data[:,0],\n",
    "        sorted_data[:,1],\n",
    "        marker_size=2,\n",
    "        face_color=\"orange\",\n",
    "    )\n",
    "\n",
    "    scatter.add_errorbars(\n",
    "        y_error=sorted_data[:,2],\n",
    "        errorbars_line_width=0.25,\n",
    "        cap_width=0,\n",
    "    )\n",
    "\n",
    "    return [scatter]"
   ]
  },
  {
   "cell_type": "code",
   "execution_count": 3,
   "metadata": {},
   "outputs": [],
   "source": [
    "turbulence = Map.load(\"summer_2023/gaussian_fitting/maps/computed_data_selective/turbulence.fits\")\n",
    "\n",
    "regions = [\n",
    "    (\"Global region\", None, 50),\n",
    "    (\"Diffuse region\", pyregion.open(\"summer_2023/gaussian_fitting/regions/region_1.reg\"), 20),\n",
    "    (\"Central region\", pyregion.open(\"summer_2023/gaussian_fitting/regions/region_2.reg\"), 10),\n",
    "    (\"Filament region\", pyregion.open(\"summer_2023/gaussian_fitting/regions/region_3.reg\"), 6)\n",
    "]"
   ]
  },
  {
   "cell_type": "markdown",
   "metadata": {},
   "source": [
    "### Autocorrelation functions of all regions"
   ]
  },
  {
   "cell_type": "code",
   "execution_count": 4,
   "metadata": {},
   "outputs": [],
   "source": [
    "figs = []\n",
    "\n",
    "for name, region, region_radius in regions:\n",
    "    # if not region:\n",
    "    #     try:\n",
    "    #         with open(\"applications/sh158/saved_data/acr_func_turbulence_global.gz\", \"rb\") as f:\n",
    "    #             data = dill.load(f)\n",
    "    #     except:\n",
    "    #         data = autocorrelation_function(turbulence.get_masked_region(region).data)\n",
    "    #         with open(\"applications/sh158/saved_data/acr_func_turbulence_global.gz\", \"wb\") as f:\n",
    "    #             dill.dump(data, f)\n",
    "    # else:\n",
    "    #     data = autocorrelation_function(turbulence.get_masked_region(region).data)\n",
    "    data = autocorrelation_function(turbulence.get_masked_region(region).data)\n",
    "\n",
    "    fig = gl.Figure(\n",
    "        title=name,\n",
    "        x_label=\"Lag\",\n",
    "        y_label=\"Autocorrelation function\",\n",
    "        x_lim=(0, region_radius*1.2),\n",
    "    )\n",
    "    plottables = get_plottables(data, region_radius)\n",
    "    cropped_scatter = plottables[0].create_slice_x(0, region_radius*1.2)\n",
    "    fig.y_lim = np.min(cropped_scatter.y_data)-0.2, np.max(cropped_scatter.y_data)+0.3\n",
    "    fig.add_elements(*plottables)\n",
    "    figs.append(fig)\n",
    "\n",
    "multifig = gl.MultiFigure.from_grid(figs, (2,2), (14, 9))\n",
    "multifig.save(\"figures/sh158/advanced_stats/autocorrelation/autocorrelation_functions_new.pdf\")"
   ]
  },
  {
   "cell_type": "markdown",
   "metadata": {},
   "source": [
    "### 2D Autocorrelation function"
   ]
  },
  {
   "cell_type": "code",
   "execution_count": 5,
   "metadata": {},
   "outputs": [],
   "source": [
    "# print(\"STARTING\")\n",
    "# try:\n",
    "#     print(\"Here 1\")\n",
    "#     with open(\"applications/sh158/saved_data/2d_acr_func_turbulence_global.gz\", \"rb\") as f:\n",
    "#         data = dill.load(f)\n",
    "# except:\n",
    "#     print(\"Here 2\")\n",
    "#     data = autocorrelation_function_2d(turbulence.data)\n",
    "#     with open(\"applications/sh158/saved_data/2d_acr_func_turbulence_global.gz\", \"wb\") as f:\n",
    "#         dill.dump(data, f)\n",
    "data = autocorrelation_function_2d(turbulence.data)\n",
    "\n",
    "fig = gl.Figure()\n",
    "scat = gl.Scatter(\n",
    "    x_data=data[:,0],\n",
    "    y_data=data[:,1],\n",
    "    face_color=data[:,2],\n",
    "    show_color_bar=True,\n",
    "    marker_size=2,\n",
    ")\n",
    "fig.add_elements(scat)\n",
    "fig.save(\"figures/sh158/advanced_stats/autocorrelation/autocorrelation_function_2d_new.pdf\")"
   ]
  }
 ],
 "metadata": {
  "kernelspec": {
   "display_name": "Python 3",
   "language": "python",
   "name": "python3"
  },
  "language_info": {
   "codemirror_mode": {
    "name": "ipython",
    "version": 3
   },
   "file_extension": ".py",
   "mimetype": "text/x-python",
   "name": "python",
   "nbconvert_exporter": "python",
   "pygments_lexer": "ipython3",
   "version": "3.12.3"
  }
 },
 "nbformat": 4,
 "nbformat_minor": 2
}
