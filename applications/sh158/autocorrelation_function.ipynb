{
 "cells": [
  {
   "cell_type": "code",
   "execution_count": null,
   "metadata": {},
   "outputs": [],
   "source": [
    "import numpy as np\n",
    "import graphinglib as gl\n",
    "import pyregion\n",
    "from scipy.optimize import curve_fit\n",
    "import scipy\n",
    "import dill\n",
    "from functools import partial\n",
    "\n",
    "from src.tools.statistics.advanced_stats import autocorrelation_function, autocorrelation_function_2d\n",
    "from src.hdu.maps.map import Map"
   ]
  },
  {
   "cell_type": "code",
   "execution_count": null,
   "metadata": {},
   "outputs": [],
   "source": [
    "def get_plottables(data: np.ndarray, region_radius: float) -> list:\n",
    "    sorted_data = data[np.argsort(data[:,0])]\n",
    "    scatter = gl.Scatter(\n",
    "        sorted_data[:,0],\n",
    "        sorted_data[:,1],\n",
    "        marker_size=2,\n",
    "        face_color=\"orange\",\n",
    "    )\n",
    "\n",
    "    scatter.add_errorbars(\n",
    "        y_error=sorted_data[:,2],\n",
    "        errorbars_line_width=0.25,\n",
    "        cap_width=0,\n",
    "    )\n",
    "\n",
    "    return [scatter]"
   ]
  },
  {
   "cell_type": "code",
   "execution_count": null,
   "metadata": {},
   "outputs": [],
   "source": [
    "turbulence = Map.load(\"summer_2023/gaussian_fitting/maps/computed_data_selective/turbulence.fits\")\n",
    "\n",
    "regions = [\n",
    "    (\"Global region\", None, 50),\n",
    "    (\"Diffuse region\", pyregion.open(\"summer_2023/gaussian_fitting/regions/region_1.reg\"), 20),\n",
    "    (\"Central region\", pyregion.open(\"summer_2023/gaussian_fitting/regions/region_2.reg\"), 10),\n",
    "    (\"Filament region\", pyregion.open(\"summer_2023/gaussian_fitting/regions/region_3.reg\"), 6)\n",
    "]"
   ]
  },
  {
   "cell_type": "markdown",
   "metadata": {},
   "source": [
    "### Autocorrelation functions of all regions"
   ]
  },
  {
   "cell_type": "code",
   "execution_count": null,
   "metadata": {},
   "outputs": [],
   "source": [
    "figs = []\n",
    "\n",
    "for name, region, region_radius in regions:\n",
    "    # if not region:\n",
    "    #     try:\n",
    "    #         with open(\"applications/sh158/saved_data/acr_func_turbulence_global.gz\", \"rb\") as f:\n",
    "    #             data = dill.load(f)\n",
    "    #     except:\n",
    "    #         data = autocorrelation_function(turbulence.get_masked_region(region).data)\n",
    "    #         with open(\"applications/sh158/saved_data/acr_func_turbulence_global.gz\", \"wb\") as f:\n",
    "    #             dill.dump(data, f)\n",
    "    # else:\n",
    "    #     data = autocorrelation_function(turbulence.get_masked_region(region).data)\n",
    "    test = Map.load(\"summer_2023/gaussian_fitting/maps/external_maps/\"\n",
    "                      +\"dens_it_sii_sans_fcorr_nii_plus_plusmin_pouss_seuil_errt_1000.fits\")\n",
    "\n",
    "    # data = autocorrelation_function(test.data)\n",
    "    data = autocorrelation_function(turbulence.get_masked_region(region).data)\n",
    "\n",
    "    fig = gl.Figure(\n",
    "        title=name,\n",
    "        x_label=\"Lag\",\n",
    "        y_label=\"Autocorrelation function\",\n",
    "        x_lim=(0, region_radius*1.2),\n",
    "    )\n",
    "    plottables = get_plottables(data, region_radius)\n",
    "    cropped_scatter = plottables[0].create_slice_x(0, region_radius*1.2)\n",
    "    fig.y_lim = np.min(cropped_scatter.y_data)-0.2, np.max(cropped_scatter.y_data)+0.3\n",
    "    fig.add_elements(*plottables)\n",
    "    figs.append(fig)\n",
    "\n",
    "multifig = gl.MultiFigure.from_grid(figs, (2,2), (14, 9))\n",
    "multifig.save(\"figures/sh158/advanced_stats/autocorrelation/autocorrelation_functions_new.pdf\")"
   ]
  },
  {
   "cell_type": "markdown",
   "metadata": {},
   "source": [
    "### 2D Autocorrelation function"
   ]
  },
  {
   "cell_type": "code",
   "execution_count": null,
   "metadata": {},
   "outputs": [],
   "source": [
    "data = autocorrelation_function_2d(turbulence.data)\n",
    "\n",
    "# Copy paste the data with a diagonal reflection\n",
    "data = np.append(data, data * np.tile((-1, -1, 1), (data.shape[0], 1)), axis=0)\n",
    "\n",
    "# data[data[:,2] > 1,2] = np.NAN\n",
    "# data[data[:,2] < -1,2] = np.NAN\n",
    "\n",
    "fig = gl.Figure(\n",
    "    x_lim=(np.min(data[:,0]), np.max(data[:,0])),\n",
    "    y_lim=(np.min(data[:,1]), np.max(data[:,1])),\n",
    ")\n",
    "\n",
    "x_grid, y_grid = np.meshgrid(np.arange(fig.x_lim[0], fig.x_lim[1] + 1), \n",
    "                             np.arange(fig.y_lim[0], fig.y_lim[1] + 1))\n",
    "\n",
    "z_data = np.zeros_like(x_grid)\n",
    "for x, y, z in data:\n",
    "    z_data[int(y-np.min(data[:,1])), int(x-np.min(data[:,0]))] = z\n",
    "z_data = scipy.ndimage.gaussian_filter(z_data, 3)\n",
    "\n",
    "for dat in data:\n",
    "    if dat[0] == 0 and dat[1] == 0:\n",
    "        zero_lag_val =  dat[2]\n",
    "        break\n",
    "else:\n",
    "    raise Exception(\"No zero lag\")\n",
    "\n",
    "scat = gl.Scatter(\n",
    "    x_data=data[:,0],\n",
    "    y_data=data[:,1],\n",
    "    face_color=data[:,2] / zero_lag_val,\n",
    "    show_color_bar=True,\n",
    "    marker_size=2,\n",
    ")\n",
    "\n",
    "cont = gl.Contour(\n",
    "    x_mesh=x_grid,\n",
    "    y_mesh=y_grid,\n",
    "    z_data=z_data / zero_lag_val,\n",
    "    show_color_bar=True,\n",
    "    number_of_levels=list(np.arange(-1, 1 + 0.1, 0.1)),\n",
    "    filled=False,\n",
    "    color_map=\"viridis\",\n",
    ")\n",
    "fig.add_elements(cont)\n",
    "fig.save(\"figures/sh158/advanced_stats/autocorrelation/autocorrelation_function_2d_mirror_cont_new.pdf\")\n",
    "# fig.add_elements(scat)\n",
    "# fig.save(\"figures/sh158/advanced_stats/autocorrelation/autocorrelation_function_2d_mirror_cont_scat.pdf\")"
   ]
  },
  {
   "cell_type": "markdown",
   "metadata": {},
   "source": [
    "# Tests"
   ]
  },
  {
   "cell_type": "code",
   "execution_count": null,
   "metadata": {},
   "outputs": [],
   "source": [
    "arr = np.array(np.random.random((1000,1000)))\n",
    "arr[0,0] = np.nan\n",
    "print(arr)\n",
    "print(np.nanmean(arr))\n",
    "print(autocorrelation_function_2d(arr))\n",
    "print(arr)"
   ]
  }
 ],
 "metadata": {
  "kernelspec": {
   "display_name": "Python 3",
   "language": "python",
   "name": "python3"
  },
  "language_info": {
   "codemirror_mode": {
    "name": "ipython",
    "version": 3
   },
   "file_extension": ".py",
   "mimetype": "text/x-python",
   "name": "python",
   "nbconvert_exporter": "python",
   "pygments_lexer": "ipython3",
   "version": "3.12.3"
  }
 },
 "nbformat": 4,
 "nbformat_minor": 2
}
